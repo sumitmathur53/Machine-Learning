{
 "cells": [
  {
   "attachments": {},
   "cell_type": "markdown",
   "metadata": {},
   "source": [
    "# Linear regression "
   ]
  },
  {
   "cell_type": "code",
   "execution_count": 1,
   "metadata": {},
   "outputs": [],
   "source": [
    "import numpy as np\n",
    "import pandas as pd\n",
    "import matplotlib.pyplot as plt\n",
    "%matplotlib inline"
   ]
  },
  {
   "cell_type": "code",
   "execution_count": 2,
   "metadata": {},
   "outputs": [
    {
     "data": {
      "text/html": [
       "<div>\n",
       "<style scoped>\n",
       "    .dataframe tbody tr th:only-of-type {\n",
       "        vertical-align: middle;\n",
       "    }\n",
       "\n",
       "    .dataframe tbody tr th {\n",
       "        vertical-align: top;\n",
       "    }\n",
       "\n",
       "    .dataframe thead th {\n",
       "        text-align: right;\n",
       "    }\n",
       "</style>\n",
       "<table border=\"1\" class=\"dataframe\">\n",
       "  <thead>\n",
       "    <tr style=\"text-align: right;\">\n",
       "      <th></th>\n",
       "      <th>0</th>\n",
       "      <th>1</th>\n",
       "    </tr>\n",
       "  </thead>\n",
       "  <tbody>\n",
       "    <tr>\n",
       "      <th>0</th>\n",
       "      <td>1.17</td>\n",
       "      <td>78.93</td>\n",
       "    </tr>\n",
       "    <tr>\n",
       "      <th>1</th>\n",
       "      <td>2.97</td>\n",
       "      <td>58.20</td>\n",
       "    </tr>\n",
       "    <tr>\n",
       "      <th>2</th>\n",
       "      <td>3.26</td>\n",
       "      <td>67.47</td>\n",
       "    </tr>\n",
       "    <tr>\n",
       "      <th>3</th>\n",
       "      <td>4.69</td>\n",
       "      <td>37.47</td>\n",
       "    </tr>\n",
       "    <tr>\n",
       "      <th>4</th>\n",
       "      <td>5.83</td>\n",
       "      <td>45.65</td>\n",
       "    </tr>\n",
       "  </tbody>\n",
       "</table>\n",
       "</div>"
      ],
      "text/plain": [
       "      0      1\n",
       "0  1.17  78.93\n",
       "1  2.97  58.20\n",
       "2  3.26  67.47\n",
       "3  4.69  37.47\n",
       "4  5.83  45.65"
      ]
     },
     "execution_count": 2,
     "metadata": {},
     "output_type": "execute_result"
    }
   ],
   "source": [
    "# dataset = pd.read_csv('Salary_Data.csv')\n",
    "# x = dataset.iloc[:, :-1].values\n",
    "# y = dataset.iloc[:, -1].values\n",
    "# dataset.head()\n",
    "dataset = pd.read_csv('http://users.stat.ufl.edu/~winner/data/lsd.dat', delim_whitespace=True, index_col=False, header=None)\n",
    "\n",
    "#print the first few rows of the data \n",
    "dataset.head()"
   ]
  },
  {
   "cell_type": "code",
   "execution_count": 3,
   "metadata": {},
   "outputs": [
    {
     "data": {
      "text/html": [
       "<div>\n",
       "<style scoped>\n",
       "    .dataframe tbody tr th:only-of-type {\n",
       "        vertical-align: middle;\n",
       "    }\n",
       "\n",
       "    .dataframe tbody tr th {\n",
       "        vertical-align: top;\n",
       "    }\n",
       "\n",
       "    .dataframe thead th {\n",
       "        text-align: right;\n",
       "    }\n",
       "</style>\n",
       "<table border=\"1\" class=\"dataframe\">\n",
       "  <thead>\n",
       "    <tr style=\"text-align: right;\">\n",
       "      <th></th>\n",
       "      <th>Tissue concentration</th>\n",
       "      <th>Math score</th>\n",
       "    </tr>\n",
       "  </thead>\n",
       "  <tbody>\n",
       "    <tr>\n",
       "      <th>0</th>\n",
       "      <td>1.17</td>\n",
       "      <td>78.93</td>\n",
       "    </tr>\n",
       "    <tr>\n",
       "      <th>1</th>\n",
       "      <td>2.97</td>\n",
       "      <td>58.20</td>\n",
       "    </tr>\n",
       "    <tr>\n",
       "      <th>2</th>\n",
       "      <td>3.26</td>\n",
       "      <td>67.47</td>\n",
       "    </tr>\n",
       "    <tr>\n",
       "      <th>3</th>\n",
       "      <td>4.69</td>\n",
       "      <td>37.47</td>\n",
       "    </tr>\n",
       "    <tr>\n",
       "      <th>4</th>\n",
       "      <td>5.83</td>\n",
       "      <td>45.65</td>\n",
       "    </tr>\n",
       "  </tbody>\n",
       "</table>\n",
       "</div>"
      ],
      "text/plain": [
       "   Tissue concentration  Math score\n",
       "0                  1.17       78.93\n",
       "1                  2.97       58.20\n",
       "2                  3.26       67.47\n",
       "3                  4.69       37.47\n",
       "4                  5.83       45.65"
      ]
     },
     "execution_count": 3,
     "metadata": {},
     "output_type": "execute_result"
    }
   ],
   "source": [
    "dataset.columns = ['Tissue concentration', 'Math score']\n",
    "\n",
    "dataset.head()"
   ]
  },
  {
   "cell_type": "code",
   "execution_count": 4,
   "metadata": {},
   "outputs": [
    {
     "data": {
      "text/plain": [
       "array([[ 1.17, 78.93],\n",
       "       [ 2.97, 58.2 ],\n",
       "       [ 3.26, 67.47],\n",
       "       [ 4.69, 37.47],\n",
       "       [ 5.83, 45.65],\n",
       "       [ 6.  , 32.92],\n",
       "       [ 6.41, 29.97]])"
      ]
     },
     "execution_count": 4,
     "metadata": {},
     "output_type": "execute_result"
    }
   ],
   "source": [
    "data = dataset.to_numpy()\n",
    "data"
   ]
  },
  {
   "attachments": {},
   "cell_type": "markdown",
   "metadata": {},
   "source": [
    "## we have to predict the mathscore based on the tissue concentration"
   ]
  },
  {
   "cell_type": "code",
   "execution_count": 5,
   "metadata": {},
   "outputs": [
    {
     "data": {
      "image/png": "[encoded data removed]",
      "text/plain": [
       "<Figure size 432x288 with 1 Axes>"
      ]
     },
     "metadata": {
      "needs_background": "light"
     },
     "output_type": "display_data"
    }
   ],
   "source": [
    "plt.scatter(dataset['Tissue concentration'], dataset['Math score'])\n",
    "\n",
    "plt.title(\"Tissue drug concentration vs Math scores\")\n",
    "plt.xlabel(\"Tissue concentration\")\n",
    "plt.ylabel(\"Math scores\")\n",
    "plt.show()"
   ]
  },
  {
   "cell_type": "code",
   "execution_count": 6,
   "metadata": {},
   "outputs": [
    {
     "name": "stdout",
     "output_type": "stream",
     "text": [
      "[[1.17]\n",
      " [2.97]\n",
      " [3.26]\n",
      " [4.69]\n",
      " [5.83]\n",
      " [6.  ]\n",
      " [6.41]] [78.93 58.2  67.47 37.47 45.65 32.92 29.97]\n"
     ]
    }
   ],
   "source": [
    "x = data[:, :-1]\n",
    "y = data[:, -1]\n",
    "\n",
    "print(x,y)"
   ]
  },
  {
   "attachments": {},
   "cell_type": "markdown",
   "metadata": {},
   "source": [
    "computing x mean and y mean"
   ]
  },
  {
   "cell_type": "code",
   "execution_count": 7,
   "metadata": {},
   "outputs": [
    {
     "data": {
      "text/plain": [
       "array([[78.93],\n",
       "       [58.2 ],\n",
       "       [67.47],\n",
       "       [37.47],\n",
       "       [45.65],\n",
       "       [32.92],\n",
       "       [29.97]])"
      ]
     },
     "execution_count": 7,
     "metadata": {},
     "output_type": "execute_result"
    }
   ],
   "source": [
    "y.reshape(7,1)"
   ]
  },
  {
   "cell_type": "code",
   "execution_count": 8,
   "metadata": {},
   "outputs": [
    {
     "name": "stdout",
     "output_type": "stream",
     "text": [
      "7\n"
     ]
    }
   ],
   "source": [
    "n = len(x)\n",
    "print(n)"
   ]
  },
  {
   "cell_type": "code",
   "execution_count": 9,
   "metadata": {},
   "outputs": [
    {
     "name": "stdout",
     "output_type": "stream",
     "text": [
      "x_bar 4.332857142857143 y_bar : 50.08714285714286\n",
      "4.332857142857143\n",
      "50.08714285714286\n"
     ]
    }
   ],
   "source": [
    "x_bar = 0\n",
    "y_bar = 0\n",
    "\n",
    "for i in range(n):\n",
    "    x_bar += float(dataset.iat[i,0])\n",
    "    y_bar += float(dataset.iat[i,1])\n",
    "x_bar /= n\n",
    "y_bar /= n\n",
    "print('x_bar',x_bar, 'y_bar :',y_bar)\n",
    "\n",
    "print(x.mean())  # this is simple by using numpy array\n",
    "print(y.mean())"
   ]
  },
  {
   "cell_type": "code",
   "execution_count": 10,
   "metadata": {},
   "outputs": [
    {
     "name": "stdout",
     "output_type": "stream",
     "text": [
      "sigma_xx: 22.474942857142857 sigma_xy: -202.48724285714292\n",
      "22.474942857142857\n",
      "-5.684341886080802e-14\n"
     ]
    }
   ],
   "source": [
    "sigma_xy = 0  #computing (x^i - x_bar)(y^i-y_bar)\n",
    "sigma_xx = 0  #computing (x^i - x_bar)^2 \n",
    "\n",
    "for i in range(n):\n",
    "    sigma_xx += (float(dataset.iat[i,0]) - x_bar) ** 2\n",
    "    sigma_xy += ((float(dataset.iat[i,0])-x_bar) * ((float(dataset.iat[i,1])-y_bar)))\n",
    "print('sigma_xx:',sigma_xx, 'sigma_xy:',sigma_xy)\n",
    "\n",
    "p = x.mean()\n",
    "q = y.mean()\n",
    "print(((x-p)**2).sum())\n",
    "print(((x-p)*(y-q)).sum())"
   ]
  },
  {
   "cell_type": "code",
   "execution_count": 11,
   "metadata": {},
   "outputs": [
    {
     "name": "stdout",
     "output_type": "stream",
     "text": [
      "m: -9.009466415296783 c: 89.12387376799306\n"
     ]
    }
   ],
   "source": [
    "m = sigma_xy/sigma_xx\n",
    "c = (y_bar) - (m * (x_bar))\n",
    "\n",
    "print('m:', m, 'c:', c)"
   ]
  },
  {
   "cell_type": "code",
   "execution_count": 12,
   "metadata": {},
   "outputs": [
    {
     "name": "stdout",
     "output_type": "stream",
     "text": [
      "x_min: 0.16999999999999993 x_max: 7.41\n"
     ]
    }
   ],
   "source": [
    "#compute the left and right limits of the x-axis\n",
    "x_min = 9999\n",
    "x_max = -9999\n",
    "\n",
    "for i in range(n): #access each row from the data set \n",
    "  x_i = float(dataset.iat[i,0]) #access element at Tissue concentration column\n",
    "  if x_i > x_max:\n",
    "    x_max = x_i \n",
    "  if x_i < x_min:\n",
    "    x_min = x_i\n",
    "\n",
    "x_min = x_min - 1\n",
    "x_max = x_max + 1 \n",
    "\n",
    "print('x_min:',x_min,'x_max:',x_max)"
   ]
  },
  {
   "cell_type": "code",
   "execution_count": 13,
   "metadata": {},
   "outputs": [
    {
     "data": {
      "image/png": "[encoded data removed]",
      "text/plain": [
       "<Figure size 432x288 with 1 Axes>"
      ]
     },
     "metadata": {
      "needs_background": "light"
     },
     "output_type": "display_data"
    }
   ],
   "source": [
    "x = np.linspace(x_min,x_max,100) #creates a series of points in x axis\n",
    "y = m*x+c\n",
    "plt.plot(x, y, '-g', label='regression line')\n",
    "plt.scatter(dataset['Tissue concentration'], dataset['Math score'])\n",
    "\n",
    "plt.title(\"Tissue drug concentration vs Math scores Regression\")\n",
    "plt.xlabel(\"Tissue concentration\")\n",
    "plt.ylabel(\"Math scores\")\n",
    "plt.legend(loc='upper right')\n",
    "#plt.grid()\n",
    "plt.show()"
   ]
  },
  {
   "attachments": {},
   "cell_type": "markdown",
   "metadata": {},
   "source": [
    "# residual plot"
   ]
  },
  {
   "cell_type": "code",
   "execution_count": 14,
   "metadata": {},
   "outputs": [
    {
     "name": "stdout",
     "output_type": "stream",
     "text": [
      "[0.347201937904174, -4.16575851456161, 7.7169867458744505, -9.399476280251143, 9.051315433187185, -2.1470752762123624, -1.4031940459406798]\n"
     ]
    }
   ],
   "source": [
    "residual = []  # creating empty list\n",
    "\n",
    "for i in range(n):\n",
    "    x_i = float(dataset.iat[i,0])\n",
    "    y_i = float(dataset.iat[i,1])\n",
    "\n",
    "    y_pred_i = m *x_i + c\n",
    "    res = y_i - y_pred_i\n",
    "\n",
    "    residual.append(res)  # push in the empty list\n",
    "\n",
    "print(residual)\n",
    "\n",
    "\n"
   ]
  },
  {
   "cell_type": "code",
   "execution_count": 15,
   "metadata": {},
   "outputs": [
    {
     "data": {
      "image/png": "[encoded data removed]",
      "text/plain": [
       "<Figure size 432x288 with 1 Axes>"
      ]
     },
     "metadata": {
      "needs_background": "light"
     },
     "output_type": "display_data"
    }
   ],
   "source": [
    "plt.scatter(dataset['Math score'], residual, color ='g')\n",
    "\n",
    "plt.title(\"Residual plot\")\n",
    "plt.xlabel(\"Math score responses\")\n",
    "plt.ylabel(\"Residuals\")\n",
    "plt.grid()\n",
    "plt.show()"
   ]
  },
  {
   "attachments": {},
   "cell_type": "markdown",
   "metadata": {},
   "source": [
    "## Correleation between the variable"
   ]
  },
  {
   "attachments": {},
   "cell_type": "markdown",
   "metadata": {},
   "source": [
    "$\\Large{\\text{Correlation between the variables}}$\n",
    "\n",
    "It is useful to understand how the response variable is correlated with the predictor variable. \n",
    "\n",
    "One quantity useful to measure the correlation between the response variable and the predictor variable is the $\\textbf{sample correlation}$ given by:\n",
    "\n",
    "$\n",
    "\\begin{align}\n",
    "\\text{corr}(X,Y) = \\frac{\\Sigma_{XY}}{(n-1)s_X s_Y}\n",
    "\\end{align}\n",
    "$\n",
    "where \n",
    "\n",
    "$\n",
    "\\begin{align}\n",
    "\\text{recall } \\Sigma_{XY} &= \\sum_{i=1}^{n} (x^i - \\bar{x}) (y^i - \\bar{y}), \\\\\n",
    "s_X &= \\sqrt{\\frac{1}{n-1} \\Sigma_{XX} } = \\sqrt{\\frac{1}{n-1} \\sum_{i=1}^{n} (x^i-\\bar{x})^2 } \\\\\n",
    "s_Y &= \\sqrt{\\frac{1}{n-1} \\Sigma_{YY} } = \\sqrt{\\frac{1}{n-1} \\sum_{i=1}^{n} (y^i-\\bar{y})^2 } \n",
    "\\end{align}\n",
    "$\n",
    "\n",
    "$\\text{Note}$ that $s_X$ and $s_Y$ are sample standard deviations of $X$ and $Y$ respectively. \n",
    "\n",
    "$\\textbf{Exercise:}$ Verify that sample correlation can be equivalently written as\n",
    "\n",
    "$\n",
    "\\begin{align}\n",
    "\\text{corr}(X,Y) = \\frac{\\Sigma_{XY}}{\\sqrt{\\Sigma_{XX}\\Sigma_{YY}}}\n",
    "\\end{align}\n",
    "$\n",
    "where recall that: \n",
    "\n",
    "$\n",
    "\\begin{align}\n",
    "\\Sigma_{XX} &= \\sum_{i=1}^{n} (x^i - \\bar{x})^2 \\\\\n",
    "\\Sigma_{YY} &= \\sum_{i=1}^{n} (y^i - \\bar{y})^2\n",
    "\\end{align}\n",
    "$. \n",
    "\n",
    "It is also known that $-1 \\leq \\text{corr}(X,Y) \\leq 1$.\n"
   ]
  },
  {
   "cell_type": "code",
   "execution_count": 16,
   "metadata": {},
   "outputs": [
    {
     "name": "stdout",
     "output_type": "stream",
     "text": [
      "sigma_yy 2078.183342857143\n"
     ]
    }
   ],
   "source": [
    "# need to calculate sigma_yy\n",
    "sigma_yy = 0\n",
    "for i in range(n):\n",
    "    y_i = float(dataset.iat[i,1])\n",
    "    sigma_yy += (y_i - y_bar)**2\n",
    "\n",
    "print('sigma_yy', sigma_yy)\n"
   ]
  },
  {
   "cell_type": "code",
   "execution_count": 17,
   "metadata": {},
   "outputs": [
    {
     "name": "stdout",
     "output_type": "stream",
     "text": [
      "-0.9369284768740831\n"
     ]
    }
   ],
   "source": [
    "sample_correlation = sigma_xy/(np.sqrt(sigma_xx*sigma_yy))\n",
    "\n",
    "print(sample_correlation)"
   ]
  },
  {
   "attachments": {},
   "cell_type": "markdown",
   "metadata": {},
   "source": [
    "$\\Large{\\text{Coefficient of multiple determination}}$ \n",
    "\n",
    "Consider the term \n",
    "\n",
    "$\n",
    "\\begin{align}\n",
    "\\Sigma_{YY} = \\sum_{i=1}^{n} (y^i - \\bar{y})^2. \n",
    "\\end{align}\n",
    "$\n",
    "This term $\\Sigma_{YY}$ measures the $\\textbf{observed total variation of the response}$, without considering the effect of predictor variables. \n",
    "\n",
    "When we have access to a predictor variable, then the $\\textbf{unexplained variation of response variable given the predictor variable}$ is given by the sum of squared residuals:\n",
    "\n",
    "$\n",
    "\\begin{align}\n",
    "L = \\sum_{i=1}^{n} (e^i)^2. \n",
    "\\end{align}\n",
    "$\n",
    "\n",
    "Define the term:\n",
    "\n",
    "$\n",
    "\\begin{align}\n",
    "\\text{SSD} = \\Sigma_{YY}- L\n",
    "\\end{align}\n",
    "$\n",
    "\n",
    "as the difference between observed total variation of the response and the unexplained variation given the predictor. Hence this can be considered as $\\textbf{variability explained by the regression on the predictor variable}$ or $\\textbf{fraction of variance explained by the regression on the predictor variable}$. \n",
    "\n",
    "Assuming $\\Sigma_{YY}\\neq 0$, consider: \n",
    "\n",
    "$\n",
    "\\begin{align}\n",
    "\\frac{\\text{SSD}}{\\Sigma_{YY}} = 1- \\frac{L}{\\Sigma_{YY}}.\n",
    "\\end{align}\n",
    "$\n",
    "Here the term $\\frac{\\text{SSD}}{\\Sigma_{YY}}$ denotes the proportion of observed variability in the response variable which is explained by the regression on the predictor variable. From the equality, this proportion of observed variability given the predictor is simply $1$ minus the proportion of unexplained variability. \n",
    "\n",
    "This term $\\frac{\\text{SSD}}{\\Sigma_{YY}}$ denoting the proportion of observed variability which is explained by the predictor variable has a special name called $\\textbf{coefficient of multiple determination}$ and is denoted by $R^2$. \n",
    "\n",
    "It is known that $0\\leq R^2 \\leq 1$. \n",
    "\n",
    "Under some assumptions on the error $e^i$, it can be shown that $R^2 = (\\text{corr}(X,Y))^2$."
   ]
  },
  {
   "cell_type": "code",
   "execution_count": 18,
   "metadata": {},
   "outputs": [
    {
     "name": "stdout",
     "output_type": "stream",
     "text": [
      "0.8778349707775892\n"
     ]
    }
   ],
   "source": [
    "score = sample_correlation**2\n",
    "print(score)"
   ]
  },
  {
   "cell_type": "code",
   "execution_count": 19,
   "metadata": {},
   "outputs": [
    {
     "name": "stdout",
     "output_type": "stream",
     "text": [
      "253.88132880967103\n"
     ]
    }
   ],
   "source": [
    "#sum of squared residuals\n",
    "\n",
    "ssd = 0\n",
    "\n",
    "for i in range(n):\n",
    "    x_i = float(dataset.iat[i,0])\n",
    "    y_i = float(dataset.iat[i,1])\n",
    "    y_pred_i = m*x_i + c\n",
    "    ssd += (y_i - y_pred_i)**2\n",
    "\n",
    "print(ssd)"
   ]
  },
  {
   "cell_type": "code",
   "execution_count": 20,
   "metadata": {},
   "outputs": [
    {
     "name": "stdout",
     "output_type": "stream",
     "text": [
      "0.8778349707775888\n"
     ]
    }
   ],
   "source": [
    "coeff_of_multiple_determination = 1-(ssd/sigma_yy)\n",
    "\n",
    "print(coeff_of_multiple_determination)"
   ]
  },
  {
   "attachments": {},
   "cell_type": "markdown",
   "metadata": {},
   "source": [
    "$\\textbf{Effect of standardization}$ \n",
    "\n",
    "Often it becomes useful to standardize the random variable realizations as:\n",
    "\n",
    "${{x_{\\star}^i}} = \\frac{(x^i - \\bar{x})}{S_X}$, ${{y_\\star^i}} = \\frac{(y^i - \\bar{y})}{S_Y}$. \n",
    "\n",
    "Recall that\n",
    "\n",
    "$\n",
    "\\begin{align}\n",
    "\\bar{x} &= \\frac{1}{n} \\sum_{i=1}^{n} x^i \\\\\n",
    "\\bar{y} &= \\frac{1}{n} \\sum_{i=1}^{n} x^i \\\\\n",
    "S_X &= \\sqrt{\\frac{1}{n-1} \\sum_{i=1}^{n} (x^i - \\bar{x})^2}, \\\\\n",
    "S_Y &= \\sqrt{\\frac{1}{n-1} \\sum_{i=1}^{n} (y^i - \\bar{y})^2}.\n",
    "\\end{align}\n",
    "$\n",
    "\n",
    "By standardizing, we mean to represent each variable using units of standard deviation from its mean. \n",
    "\n",
    "$\\textbf{Exercise:}$\n",
    "If we use the linear regression model for these standardized variables, show that $\\beta_0 = 0$ and $\\beta_1 = \\text{corr}(X,Y)$.\n",
    "\n",
    "Hence the linear model obtained for standardized variables is of the form: $E[Y_\\star|X_⋆=x_\\star] = \\beta_1 x_\\star  = \\text{corr}(X,Y) x_\\star$. \n",
    "\n",
    "This indicates that the regression line passes through the origin and has slope $\\beta_1 = \\text{corr}(X,Y)$. \n",
    "\n"
   ]
  },
  {
   "cell_type": "code",
   "execution_count": 21,
   "metadata": {},
   "outputs": [
    {
     "name": "stdout",
     "output_type": "stream",
     "text": [
      "[-1.6342026244411574, -0.7041686105315555, -0.5543297971794532, 0.18453055831539744, 0.7735521004581452, 0.8613886462162741, 1.07322972716235] [1.549786859961047, 0.43592073193257974, 0.9340171625560184, -0.6779453960958873, -0.23841693843680103, -0.9224263841580929, -1.0809360357588638]\n"
     ]
    }
   ],
   "source": [
    "s_x = (sigma_xx/(n-1))**(.5)\n",
    "s_y = (sigma_yy/(n-1))**(.5)\n",
    "\n",
    "x_new = []\n",
    "y_new = []\n",
    "\n",
    "for i in range(n):\n",
    "    x_n = (float(dataset.iat[i,0]) - x_bar)/s_x\n",
    "    x_new.append(x_n)\n",
    "    y_n = (float(dataset.iat[i,1])-y_bar)/s_y\n",
    "    y_new.append(y_n)\n",
    "\n",
    "print(x_new,y_new)\n"
   ]
  },
  {
   "cell_type": "code",
   "execution_count": 22,
   "metadata": {},
   "outputs": [],
   "source": [
    "dataset[\"x_new\"] = x_new\n",
    "dataset[\"y_new\"] = y_new"
   ]
  },
  {
   "cell_type": "code",
   "execution_count": 23,
   "metadata": {},
   "outputs": [
    {
     "data": {
      "text/html": [
       "<div>\n",
       "<style scoped>\n",
       "    .dataframe tbody tr th:only-of-type {\n",
       "        vertical-align: middle;\n",
       "    }\n",
       "\n",
       "    .dataframe tbody tr th {\n",
       "        vertical-align: top;\n",
       "    }\n",
       "\n",
       "    .dataframe thead th {\n",
       "        text-align: right;\n",
       "    }\n",
       "</style>\n",
       "<table border=\"1\" class=\"dataframe\">\n",
       "  <thead>\n",
       "    <tr style=\"text-align: right;\">\n",
       "      <th></th>\n",
       "      <th>Tissue concentration</th>\n",
       "      <th>Math score</th>\n",
       "      <th>x_new</th>\n",
       "      <th>y_new</th>\n",
       "    </tr>\n",
       "  </thead>\n",
       "  <tbody>\n",
       "    <tr>\n",
       "      <th>0</th>\n",
       "      <td>1.17</td>\n",
       "      <td>78.93</td>\n",
       "      <td>-1.634203</td>\n",
       "      <td>1.549787</td>\n",
       "    </tr>\n",
       "    <tr>\n",
       "      <th>1</th>\n",
       "      <td>2.97</td>\n",
       "      <td>58.20</td>\n",
       "      <td>-0.704169</td>\n",
       "      <td>0.435921</td>\n",
       "    </tr>\n",
       "    <tr>\n",
       "      <th>2</th>\n",
       "      <td>3.26</td>\n",
       "      <td>67.47</td>\n",
       "      <td>-0.554330</td>\n",
       "      <td>0.934017</td>\n",
       "    </tr>\n",
       "    <tr>\n",
       "      <th>3</th>\n",
       "      <td>4.69</td>\n",
       "      <td>37.47</td>\n",
       "      <td>0.184531</td>\n",
       "      <td>-0.677945</td>\n",
       "    </tr>\n",
       "    <tr>\n",
       "      <th>4</th>\n",
       "      <td>5.83</td>\n",
       "      <td>45.65</td>\n",
       "      <td>0.773552</td>\n",
       "      <td>-0.238417</td>\n",
       "    </tr>\n",
       "  </tbody>\n",
       "</table>\n",
       "</div>"
      ],
      "text/plain": [
       "   Tissue concentration  Math score     x_new     y_new\n",
       "0                  1.17       78.93 -1.634203  1.549787\n",
       "1                  2.97       58.20 -0.704169  0.435921\n",
       "2                  3.26       67.47 -0.554330  0.934017\n",
       "3                  4.69       37.47  0.184531 -0.677945\n",
       "4                  5.83       45.65  0.773552 -0.238417"
      ]
     },
     "execution_count": 23,
     "metadata": {},
     "output_type": "execute_result"
    }
   ],
   "source": [
    "dataset.head()"
   ]
  },
  {
   "cell_type": "code",
   "execution_count": 24,
   "metadata": {},
   "outputs": [
    {
     "name": "stdout",
     "output_type": "stream",
     "text": [
      "x_bar 1.2688263138573217e-16 y_bar : -3.172065784643304e-17\n",
      "3.79\n",
      "54.97799605401825\n"
     ]
    }
   ],
   "source": [
    "x_bar = 0\n",
    "y_bar = 0\n",
    "\n",
    "for i in range(n):\n",
    "    x_bar += float(dataset.iat[i,2])\n",
    "    y_bar += float(dataset.iat[i,3])\n",
    "x_bar /= n\n",
    "y_bar /= n\n",
    "print('x_bar',x_bar, 'y_bar :',y_bar)\n",
    "\n",
    "print(x.mean())  # this is simple by using numpy array\n",
    "print(y.mean())"
   ]
  },
  {
   "cell_type": "code",
   "execution_count": 25,
   "metadata": {},
   "outputs": [
    {
     "name": "stdout",
     "output_type": "stream",
     "text": [
      "sigma_xx: 6.0 sigma_xy: -5.621570861244498\n"
     ]
    }
   ],
   "source": [
    "sigma_xy = 0  #computing (x^i - x_bar)(y^i-y_bar)\n",
    "sigma_xx = 0  #computing (x^i - x_bar)^2 \n",
    "\n",
    "for i in range(n):\n",
    "    sigma_xx += (float(dataset.iat[i,2]) - x_bar) ** 2\n",
    "    sigma_xy += ((float(dataset.iat[i,2])-x_bar) * ((float(dataset.iat[i,3])-y_bar)))\n",
    "print('sigma_xx:',sigma_xx, 'sigma_xy:',sigma_xy)"
   ]
  },
  {
   "cell_type": "code",
   "execution_count": 26,
   "metadata": {},
   "outputs": [
    {
     "name": "stdout",
     "output_type": "stream",
     "text": [
      "m: -0.936928476874083 c: 8.715929271957671e-17\n"
     ]
    }
   ],
   "source": [
    "m = sigma_xy/sigma_xx\n",
    "c = (y_bar) - (m * (x_bar))\n",
    "\n",
    "print('m:', m, 'c:', c)"
   ]
  }
 ],
 "metadata": {
  "kernelspec": {
   "display_name": "Python 3",
   "language": "python",
   "name": "python3"
  },
  "language_info": {
   "codemirror_mode": {
    "name": "ipython",
    "version": 3
   },
   "file_extension": ".py",
   "mimetype": "text/x-python",
   "name": "python",
   "nbconvert_exporter": "python",
   "pygments_lexer": "ipython3",
   "version": "3.9.7"
  },
  "orig_nbformat": 4,
  "vscode": {
   "interpreter": {
    "hash": "9f3e08e97ec3800875dc771278e5e1cac5dd41c8b0a0d355a2afd45c26016379"
   }
  }
 },
 "nbformat": 4,
 "nbformat_minor": 2
}
