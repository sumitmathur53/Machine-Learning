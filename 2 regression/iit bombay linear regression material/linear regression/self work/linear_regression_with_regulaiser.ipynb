{
 "cells": [
  {
   "attachments": {},
   "cell_type": "markdown",
   "metadata": {},
   "source": [
    "# Linear regression with regulaizers"
   ]
  },
  {
   "cell_type": "code",
   "execution_count": 1,
   "metadata": {},
   "outputs": [],
   "source": [
    "import numpy as np\n",
    "import pandas as pd\n",
    "import matplotlib.pyplot as plt\n"
   ]
  },
  {
   "cell_type": "code",
   "execution_count": 2,
   "metadata": {},
   "outputs": [
    {
     "data": {
      "text/html": [
       "<div>\n",
       "<style scoped>\n",
       "    .dataframe tbody tr th:only-of-type {\n",
       "        vertical-align: middle;\n",
       "    }\n",
       "\n",
       "    .dataframe tbody tr th {\n",
       "        vertical-align: top;\n",
       "    }\n",
       "\n",
       "    .dataframe thead th {\n",
       "        text-align: right;\n",
       "    }\n",
       "</style>\n",
       "<table border=\"1\" class=\"dataframe\">\n",
       "  <thead>\n",
       "    <tr style=\"text-align: right;\">\n",
       "      <th></th>\n",
       "      <th>0</th>\n",
       "      <th>1</th>\n",
       "      <th>2</th>\n",
       "      <th>3</th>\n",
       "      <th>4</th>\n",
       "      <th>5</th>\n",
       "      <th>6</th>\n",
       "      <th>7</th>\n",
       "      <th>8</th>\n",
       "      <th>9</th>\n",
       "      <th>10</th>\n",
       "      <th>11</th>\n",
       "    </tr>\n",
       "  </thead>\n",
       "  <tbody>\n",
       "    <tr>\n",
       "      <th>0</th>\n",
       "      <td>AllAmerican</td>\n",
       "      <td>57</td>\n",
       "      <td>133</td>\n",
       "      <td>6.10</td>\n",
       "      <td>20200</td>\n",
       "      <td>116.3</td>\n",
       "      <td>0.96</td>\n",
       "      <td>0.400</td>\n",
       "      <td>2.400</td>\n",
       "      <td>21.13</td>\n",
       "      <td>3.21</td>\n",
       "      <td>17.92</td>\n",
       "    </tr>\n",
       "    <tr>\n",
       "      <th>1</th>\n",
       "      <td>American</td>\n",
       "      <td>270</td>\n",
       "      <td>216</td>\n",
       "      <td>6.93</td>\n",
       "      <td>56928</td>\n",
       "      <td>43.0</td>\n",
       "      <td>3.98</td>\n",
       "      <td>0.689</td>\n",
       "      <td>5.776</td>\n",
       "      <td>1436.53</td>\n",
       "      <td>165.22</td>\n",
       "      <td>1271.31</td>\n",
       "    </tr>\n",
       "    <tr>\n",
       "      <th>2</th>\n",
       "      <td>Bonanza</td>\n",
       "      <td>100</td>\n",
       "      <td>140</td>\n",
       "      <td>4.45</td>\n",
       "      <td>183</td>\n",
       "      <td>141.5</td>\n",
       "      <td>0.79</td>\n",
       "      <td>0.358</td>\n",
       "      <td>2.207</td>\n",
       "      <td>6.65</td>\n",
       "      <td>0.01</td>\n",
       "      <td>6.64</td>\n",
       "    </tr>\n",
       "    <tr>\n",
       "      <th>3</th>\n",
       "      <td>Braniff</td>\n",
       "      <td>176</td>\n",
       "      <td>182</td>\n",
       "      <td>6.60</td>\n",
       "      <td>11869</td>\n",
       "      <td>50.6</td>\n",
       "      <td>2.57</td>\n",
       "      <td>0.557</td>\n",
       "      <td>4.614</td>\n",
       "      <td>160.30</td>\n",
       "      <td>5.81</td>\n",
       "      <td>154.49</td>\n",
       "    </tr>\n",
       "    <tr>\n",
       "      <th>4</th>\n",
       "      <td>Capital</td>\n",
       "      <td>142</td>\n",
       "      <td>167</td>\n",
       "      <td>7.47</td>\n",
       "      <td>41097</td>\n",
       "      <td>51.0</td>\n",
       "      <td>2.68</td>\n",
       "      <td>0.510</td>\n",
       "      <td>5.255</td>\n",
       "      <td>195.02</td>\n",
       "      <td>6.06</td>\n",
       "      <td>188.96</td>\n",
       "    </tr>\n",
       "  </tbody>\n",
       "</table>\n",
       "</div>"
      ],
      "text/plain": [
       "            0    1    2     3      4      5     6      7      8        9   \\\n",
       "0  AllAmerican   57  133  6.10  20200  116.3  0.96  0.400  2.400    21.13   \n",
       "1     American  270  216  6.93  56928   43.0  3.98  0.689  5.776  1436.53   \n",
       "2      Bonanza  100  140  4.45    183  141.5  0.79  0.358  2.207     6.65   \n",
       "3      Braniff  176  182  6.60  11869   50.6  2.57  0.557  4.614   160.30   \n",
       "4      Capital  142  167  7.47  41097   51.0  2.68  0.510  5.255   195.02   \n",
       "\n",
       "       10       11  \n",
       "0    3.21    17.92  \n",
       "1  165.22  1271.31  \n",
       "2    0.01     6.64  \n",
       "3    5.81   154.49  \n",
       "4    6.06   188.96  "
      ]
     },
     "execution_count": 2,
     "metadata": {},
     "output_type": "execute_result"
    }
   ],
   "source": [
    "airline_data = pd.read_csv('https://raw.githubusercontent.com/balamurugan-palaniappan-CEP/AIML_CEP_2021/main/data/airline_costs.txt', delim_whitespace=True, index_col=False, header=None)\n",
    "\n",
    "\n",
    "airline_data.head()"
   ]
  },
  {
   "cell_type": "code",
   "execution_count": 3,
   "metadata": {},
   "outputs": [
    {
     "data": {
      "text/html": [
       "<div>\n",
       "<style scoped>\n",
       "    .dataframe tbody tr th:only-of-type {\n",
       "        vertical-align: middle;\n",
       "    }\n",
       "\n",
       "    .dataframe tbody tr th {\n",
       "        vertical-align: top;\n",
       "    }\n",
       "\n",
       "    .dataframe thead th {\n",
       "        text-align: right;\n",
       "    }\n",
       "</style>\n",
       "<table border=\"1\" class=\"dataframe\">\n",
       "  <thead>\n",
       "    <tr style=\"text-align: right;\">\n",
       "      <th></th>\n",
       "      <th>Airline</th>\n",
       "      <th>Flight Length</th>\n",
       "      <th>Plane Speed</th>\n",
       "      <th>Daily flight time per plane</th>\n",
       "      <th>Population Served</th>\n",
       "      <th>TOC</th>\n",
       "      <th>Revenue</th>\n",
       "      <th>Load Factor</th>\n",
       "      <th>Capacity</th>\n",
       "      <th>Total Assets</th>\n",
       "      <th>Funds</th>\n",
       "      <th>Adjusted Assets</th>\n",
       "    </tr>\n",
       "  </thead>\n",
       "  <tbody>\n",
       "    <tr>\n",
       "      <th>0</th>\n",
       "      <td>AllAmerican</td>\n",
       "      <td>57</td>\n",
       "      <td>133</td>\n",
       "      <td>6.10</td>\n",
       "      <td>20200</td>\n",
       "      <td>116.3</td>\n",
       "      <td>0.96</td>\n",
       "      <td>0.400</td>\n",
       "      <td>2.400</td>\n",
       "      <td>21.13</td>\n",
       "      <td>3.21</td>\n",
       "      <td>17.92</td>\n",
       "    </tr>\n",
       "    <tr>\n",
       "      <th>1</th>\n",
       "      <td>American</td>\n",
       "      <td>270</td>\n",
       "      <td>216</td>\n",
       "      <td>6.93</td>\n",
       "      <td>56928</td>\n",
       "      <td>43.0</td>\n",
       "      <td>3.98</td>\n",
       "      <td>0.689</td>\n",
       "      <td>5.776</td>\n",
       "      <td>1436.53</td>\n",
       "      <td>165.22</td>\n",
       "      <td>1271.31</td>\n",
       "    </tr>\n",
       "    <tr>\n",
       "      <th>2</th>\n",
       "      <td>Bonanza</td>\n",
       "      <td>100</td>\n",
       "      <td>140</td>\n",
       "      <td>4.45</td>\n",
       "      <td>183</td>\n",
       "      <td>141.5</td>\n",
       "      <td>0.79</td>\n",
       "      <td>0.358</td>\n",
       "      <td>2.207</td>\n",
       "      <td>6.65</td>\n",
       "      <td>0.01</td>\n",
       "      <td>6.64</td>\n",
       "    </tr>\n",
       "    <tr>\n",
       "      <th>3</th>\n",
       "      <td>Braniff</td>\n",
       "      <td>176</td>\n",
       "      <td>182</td>\n",
       "      <td>6.60</td>\n",
       "      <td>11869</td>\n",
       "      <td>50.6</td>\n",
       "      <td>2.57</td>\n",
       "      <td>0.557</td>\n",
       "      <td>4.614</td>\n",
       "      <td>160.30</td>\n",
       "      <td>5.81</td>\n",
       "      <td>154.49</td>\n",
       "    </tr>\n",
       "    <tr>\n",
       "      <th>4</th>\n",
       "      <td>Capital</td>\n",
       "      <td>142</td>\n",
       "      <td>167</td>\n",
       "      <td>7.47</td>\n",
       "      <td>41097</td>\n",
       "      <td>51.0</td>\n",
       "      <td>2.68</td>\n",
       "      <td>0.510</td>\n",
       "      <td>5.255</td>\n",
       "      <td>195.02</td>\n",
       "      <td>6.06</td>\n",
       "      <td>188.96</td>\n",
       "    </tr>\n",
       "  </tbody>\n",
       "</table>\n",
       "</div>"
      ],
      "text/plain": [
       "       Airline  Flight Length  Plane Speed  Daily flight time per plane  \\\n",
       "0  AllAmerican             57          133                         6.10   \n",
       "1     American            270          216                         6.93   \n",
       "2      Bonanza            100          140                         4.45   \n",
       "3      Braniff            176          182                         6.60   \n",
       "4      Capital            142          167                         7.47   \n",
       "\n",
       "   Population Served    TOC  Revenue  Load Factor  Capacity  Total Assets  \\\n",
       "0              20200  116.3     0.96        0.400     2.400         21.13   \n",
       "1              56928   43.0     3.98        0.689     5.776       1436.53   \n",
       "2                183  141.5     0.79        0.358     2.207          6.65   \n",
       "3              11869   50.6     2.57        0.557     4.614        160.30   \n",
       "4              41097   51.0     2.68        0.510     5.255        195.02   \n",
       "\n",
       "    Funds  Adjusted Assets  \n",
       "0    3.21            17.92  \n",
       "1  165.22          1271.31  \n",
       "2    0.01             6.64  \n",
       "3    5.81           154.49  \n",
       "4    6.06           188.96  "
      ]
     },
     "execution_count": 3,
     "metadata": {},
     "output_type": "execute_result"
    }
   ],
   "source": [
    "airline_data.columns = ['Airline', 'Flight Length', 'Plane Speed','Daily flight time per plane', 'Population Served','TOC','Revenue','Load Factor','Capacity','Total Assets','Funds','Adjusted Assets']\n",
    "\n",
    "\n",
    "#check by printing the data again\n",
    "airline_data.head()"
   ]
  },
  {
   "cell_type": "code",
   "execution_count": 4,
   "metadata": {},
   "outputs": [
    {
     "data": {
      "text/html": [
       "<div>\n",
       "<style scoped>\n",
       "    .dataframe tbody tr th:only-of-type {\n",
       "        vertical-align: middle;\n",
       "    }\n",
       "\n",
       "    .dataframe tbody tr th {\n",
       "        vertical-align: top;\n",
       "    }\n",
       "\n",
       "    .dataframe thead th {\n",
       "        text-align: right;\n",
       "    }\n",
       "</style>\n",
       "<table border=\"1\" class=\"dataframe\">\n",
       "  <thead>\n",
       "    <tr style=\"text-align: right;\">\n",
       "      <th></th>\n",
       "      <th>Airline</th>\n",
       "      <th>TOC</th>\n",
       "      <th>Flight Length</th>\n",
       "      <th>Plane Speed</th>\n",
       "      <th>Daily flight time per plane</th>\n",
       "      <th>Population Served</th>\n",
       "      <th>Revenue</th>\n",
       "      <th>Load Factor</th>\n",
       "      <th>Capacity</th>\n",
       "      <th>Total Assets</th>\n",
       "      <th>Funds</th>\n",
       "      <th>Adjusted Assets</th>\n",
       "    </tr>\n",
       "  </thead>\n",
       "  <tbody>\n",
       "    <tr>\n",
       "      <th>0</th>\n",
       "      <td>AllAmerican</td>\n",
       "      <td>116.3</td>\n",
       "      <td>57</td>\n",
       "      <td>133</td>\n",
       "      <td>6.10</td>\n",
       "      <td>20200</td>\n",
       "      <td>0.96</td>\n",
       "      <td>0.400</td>\n",
       "      <td>2.400</td>\n",
       "      <td>21.13</td>\n",
       "      <td>3.21</td>\n",
       "      <td>17.92</td>\n",
       "    </tr>\n",
       "    <tr>\n",
       "      <th>1</th>\n",
       "      <td>American</td>\n",
       "      <td>43.0</td>\n",
       "      <td>270</td>\n",
       "      <td>216</td>\n",
       "      <td>6.93</td>\n",
       "      <td>56928</td>\n",
       "      <td>3.98</td>\n",
       "      <td>0.689</td>\n",
       "      <td>5.776</td>\n",
       "      <td>1436.53</td>\n",
       "      <td>165.22</td>\n",
       "      <td>1271.31</td>\n",
       "    </tr>\n",
       "    <tr>\n",
       "      <th>2</th>\n",
       "      <td>Bonanza</td>\n",
       "      <td>141.5</td>\n",
       "      <td>100</td>\n",
       "      <td>140</td>\n",
       "      <td>4.45</td>\n",
       "      <td>183</td>\n",
       "      <td>0.79</td>\n",
       "      <td>0.358</td>\n",
       "      <td>2.207</td>\n",
       "      <td>6.65</td>\n",
       "      <td>0.01</td>\n",
       "      <td>6.64</td>\n",
       "    </tr>\n",
       "    <tr>\n",
       "      <th>3</th>\n",
       "      <td>Braniff</td>\n",
       "      <td>50.6</td>\n",
       "      <td>176</td>\n",
       "      <td>182</td>\n",
       "      <td>6.60</td>\n",
       "      <td>11869</td>\n",
       "      <td>2.57</td>\n",
       "      <td>0.557</td>\n",
       "      <td>4.614</td>\n",
       "      <td>160.30</td>\n",
       "      <td>5.81</td>\n",
       "      <td>154.49</td>\n",
       "    </tr>\n",
       "    <tr>\n",
       "      <th>4</th>\n",
       "      <td>Capital</td>\n",
       "      <td>51.0</td>\n",
       "      <td>142</td>\n",
       "      <td>167</td>\n",
       "      <td>7.47</td>\n",
       "      <td>41097</td>\n",
       "      <td>2.68</td>\n",
       "      <td>0.510</td>\n",
       "      <td>5.255</td>\n",
       "      <td>195.02</td>\n",
       "      <td>6.06</td>\n",
       "      <td>188.96</td>\n",
       "    </tr>\n",
       "  </tbody>\n",
       "</table>\n",
       "</div>"
      ],
      "text/plain": [
       "       Airline    TOC  Flight Length  Plane Speed  \\\n",
       "0  AllAmerican  116.3             57          133   \n",
       "1     American   43.0            270          216   \n",
       "2      Bonanza  141.5            100          140   \n",
       "3      Braniff   50.6            176          182   \n",
       "4      Capital   51.0            142          167   \n",
       "\n",
       "   Daily flight time per plane  Population Served  Revenue  Load Factor  \\\n",
       "0                         6.10              20200     0.96        0.400   \n",
       "1                         6.93              56928     3.98        0.689   \n",
       "2                         4.45                183     0.79        0.358   \n",
       "3                         6.60              11869     2.57        0.557   \n",
       "4                         7.47              41097     2.68        0.510   \n",
       "\n",
       "   Capacity  Total Assets   Funds  Adjusted Assets  \n",
       "0     2.400         21.13    3.21            17.92  \n",
       "1     5.776       1436.53  165.22          1271.31  \n",
       "2     2.207          6.65    0.01             6.64  \n",
       "3     4.614        160.30    5.81           154.49  \n",
       "4     5.255        195.02    6.06           188.96  "
      ]
     },
     "execution_count": 4,
     "metadata": {},
     "output_type": "execute_result"
    }
   ],
   "source": [
    "toc = airline_data.pop('TOC')\n",
    "\n",
    "airline_data.insert(1,'TOC' , toc)\n",
    "\n",
    "airline_data.head()"
   ]
  },
  {
   "attachments": {},
   "cell_type": "markdown",
   "metadata": {},
   "source": [
    "Also note that Adjusted Assets column is sufficient for our analysis, since if is obtained as difference of Total Assets and Funds. However for this exercise, we shall \n",
    " remove Total Assets and Funds columns. Instead, we will keep them."
   ]
  },
  {
   "cell_type": "code",
   "execution_count": 5,
   "metadata": {},
   "outputs": [
    {
     "name": "stdout",
     "output_type": "stream",
     "text": [
      "31\n"
     ]
    }
   ],
   "source": [
    "n = len(airline_data.index)\n",
    "print(n)"
   ]
  },
  {
   "cell_type": "code",
   "execution_count": 6,
   "metadata": {},
   "outputs": [
    {
     "data": {
      "text/plain": [
       "array([[5.70000e+01, 1.33000e+02, 6.10000e+00, 2.02000e+04, 9.60000e-01,\n",
       "        4.00000e-01, 2.40000e+00, 2.11300e+01, 3.21000e+00, 1.79200e+01],\n",
       "       [2.70000e+02, 2.16000e+02, 6.93000e+00, 5.69280e+04, 3.98000e+00,\n",
       "        6.89000e-01, 5.77600e+00, 1.43653e+03, 1.65220e+02, 1.27131e+03],\n",
       "       [1.00000e+02, 1.40000e+02, 4.45000e+00, 1.83000e+02, 7.90000e-01,\n",
       "        3.58000e-01, 2.20700e+00, 6.65000e+00, 1.00000e-02, 6.64000e+00],\n",
       "       [1.76000e+02, 1.82000e+02, 6.60000e+00, 1.18690e+04, 2.57000e+00,\n",
       "        5.57000e-01, 4.61400e+00, 1.60300e+02, 5.81000e+00, 1.54490e+02],\n",
       "       [1.42000e+02, 1.67000e+02, 7.47000e+00, 4.10970e+04, 2.68000e+00,\n",
       "        5.10000e-01, 5.25500e+00, 1.95020e+02, 6.06000e+00, 1.88960e+02],\n",
       "       [5.10000e+01, 1.34000e+02, 4.67000e+00, 1.75700e+03, 3.50000e-01,\n",
       "        1.67000e-01, 2.09600e+00, 1.40200e+01, 1.00000e-02, 1.40100e+01],\n",
       "       [1.75000e+02, 1.75000e+02, 8.60000e+00, 1.80000e+04, 2.17000e+00,\n",
       "        5.58000e-01, 3.88900e+00, 1.14160e+02, 3.11000e+00, 1.11050e+02],\n",
       "       [1.12000e+02, 1.50000e+02, 6.87000e+00, 1.35000e+04, 1.68000e+00,\n",
       "        5.05000e-01, 3.32700e+00, 3.53400e+01, 7.90000e-01, 3.45500e+01],\n",
       "       [1.31000e+02, 1.79000e+02, 6.50000e+00, 3.83100e+03, 1.70000e+00,\n",
       "        5.37000e-01, 3.16600e+00, 4.97400e+01, 3.49000e+00, 4.62500e+01],\n",
       "       [1.74000e+02, 1.91000e+02, 7.60000e+00, 1.31190e+04, 2.74000e+00,\n",
       "        5.98000e-01, 4.58200e+00, 1.74320e+02, 3.87000e+00, 1.70450e+02],\n",
       "       [1.82000e+02, 1.87000e+02, 9.50000e+00, 4.40000e+04, 3.07000e+00,\n",
       "        5.28000e-01, 5.81400e+00, 1.04258e+03, 1.87840e+02, 8.54740e+02],\n",
       "       [5.90000e+01, 1.43000e+02, 4.83000e+00, 4.51000e+02, 6.90000e-01,\n",
       "        3.13000e-01, 2.20400e+00, 4.71000e+00, 2.00000e-02, 4.69000e+00],\n",
       "       [8.10000e+01, 1.41000e+02, 7.47000e+00, 2.50000e+03, 7.20000e-01,\n",
       "        3.98000e-01, 1.80900e+00, 1.76600e+01, 1.20000e-01, 1.75400e+01],\n",
       "       [7.30000e+01, 1.42000e+02, 3.85000e+00, 5.40500e+03, 4.80000e-01,\n",
       "        2.12000e-01, 2.26400e+00, 6.32000e+00, 1.00000e-02, 6.31000e+00],\n",
       "       [1.44000e+02, 1.67000e+02, 6.20000e+00, 6.72500e+03, 1.53000e+00,\n",
       "        5.65000e-01, 2.70800e+00, 7.61200e+01, 2.44000e+00, 7.36800e+01],\n",
       "       [7.90000e+01, 1.37000e+02, 5.88000e+00, 9.25000e+03, 1.02000e+00,\n",
       "        4.76000e-01, 2.14300e+00, 1.45400e+01, 9.00000e-02, 1.44500e+01],\n",
       "       [1.99000e+02, 2.07000e+02, 8.28000e+00, 2.34310e+04, 3.12000e+00,\n",
       "        5.67000e-01, 5.50300e+00, 1.81270e+02, 1.61400e+01, 1.65130e+02],\n",
       "       [9.40000e+01, 1.50000e+02, 6.77000e+00, 1.60000e+04, 1.19000e+00,\n",
       "        5.97000e-01, 1.98800e+00, 4.93800e+01, 2.11000e+00, 4.72700e+01],\n",
       "       [2.71000e+02, 2.02000e+02, 6.88000e+00, 2.70000e+04, 4.30000e+00,\n",
       "        5.70000e-01, 7.54400e+00, 4.71500e+02, 7.98000e+00, 4.63520e+02],\n",
       "       [9.00000e+01, 1.53000e+02, 8.13000e+00, 3.36200e+03, 1.08000e+00,\n",
       "        4.49000e-01, 2.40500e+00, 2.16000e+01, 3.10000e+00, 1.85000e+01],\n",
       "       [8.90000e+01, 1.50000e+02, 7.05000e+00, 2.05000e+03, 1.16000e+00,\n",
       "        4.83000e-01, 2.40200e+00, 1.91100e+01, 1.00000e-02, 1.91000e+01],\n",
       "       [6.70000e+01, 1.47000e+02, 6.15000e+00, 2.33700e+03, 6.00000e-01,\n",
       "        3.17000e-01, 1.89300e+00, 1.24400e+01, 1.00000e-02, 1.24300e+01],\n",
       "       [5.40000e+01, 1.27000e+02, 5.85000e+00, 5.14300e+03, 1.18000e+00,\n",
       "        4.91000e-01, 2.40300e+00, 1.60600e+01, 8.00000e-02, 1.59800e+01],\n",
       "       [7.80000e+01, 1.47000e+02, 6.08000e+00, 2.60000e+03, 6.50000e-01,\n",
       "        3.72000e-01, 1.74700e+00, 1.11000e+01, 4.20000e-01, 1.06800e+01],\n",
       "       [2.93000e+02, 1.93000e+02, 6.40000e+00, 5.15000e+04, 3.62000e+00,\n",
       "        6.70000e-01, 5.40300e+00, 1.21798e+03, 1.20070e+02, 1.09791e+03],\n",
       "       [2.70000e+02, 2.07000e+02, 6.63000e+00, 4.89130e+04, 3.75000e+00,\n",
       "        6.30000e-01, 5.95200e+00, 1.12725e+03, 7.99800e+01, 1.04727e+03],\n",
       "       [5.80000e+01, 1.35000e+02, 4.50000e+00, 1.85000e+03, 8.20000e-01,\n",
       "        4.21000e-01, 1.94800e+00, 1.09800e+01, 1.00000e-02, 1.09700e+01],\n",
       "       [1.72000e+02, 1.81000e+02, 6.67000e+00, 6.25000e+03, 2.68000e+00,\n",
       "        6.56000e-01, 4.08500e+00, 1.37390e+02, 1.70200e+01, 1.20370e+02],\n",
       "       [1.47000e+02, 1.58000e+02, 9.38000e+00, 1.00000e+03, 1.54000e+00,\n",
       "        5.75000e-01, 2.67800e+00, 1.66100e+01, 3.00000e-02, 1.65800e+01],\n",
       "       [4.50000e+01, 1.16000e+02, 2.35000e+00, 2.50000e+03, 7.00000e-02,\n",
       "        1.66000e-01, 4.22000e-01, 2.03000e+00, 6.20000e-01, 1.41000e+00],\n",
       "       [6.90000e+01, 1.42000e+02, 5.72000e+00, 6.50000e+03, 8.10000e-01,\n",
       "        4.30000e-01, 1.88400e+00, 1.08000e+01, 1.00000e-02, 1.07900e+01]])"
      ]
     },
     "execution_count": 6,
     "metadata": {},
     "output_type": "execute_result"
    }
   ],
   "source": [
    "col = [2,3,4,5,6,7,8,9,10,11]\n",
    "x_data = airline_data[airline_data.columns[col]].to_numpy()  # convert to numpy array\n",
    "\n",
    "x_data"
   ]
  },
  {
   "cell_type": "code",
   "execution_count": 7,
   "metadata": {},
   "outputs": [],
   "source": [
    "# adding col of 1 at last of cols\n",
    "\n",
    "x_final = np.hstack((x_data , np.ones((x_data.shape[0], 1))))"
   ]
  },
  {
   "cell_type": "code",
   "execution_count": 8,
   "metadata": {},
   "outputs": [
    {
     "data": {
      "text/plain": [
       "array([[5.70000e+01, 1.33000e+02, 6.10000e+00, 2.02000e+04, 9.60000e-01,\n",
       "        4.00000e-01, 2.40000e+00, 2.11300e+01, 3.21000e+00, 1.79200e+01,\n",
       "        1.00000e+00],\n",
       "       [2.70000e+02, 2.16000e+02, 6.93000e+00, 5.69280e+04, 3.98000e+00,\n",
       "        6.89000e-01, 5.77600e+00, 1.43653e+03, 1.65220e+02, 1.27131e+03,\n",
       "        1.00000e+00],\n",
       "       [1.00000e+02, 1.40000e+02, 4.45000e+00, 1.83000e+02, 7.90000e-01,\n",
       "        3.58000e-01, 2.20700e+00, 6.65000e+00, 1.00000e-02, 6.64000e+00,\n",
       "        1.00000e+00],\n",
       "       [1.76000e+02, 1.82000e+02, 6.60000e+00, 1.18690e+04, 2.57000e+00,\n",
       "        5.57000e-01, 4.61400e+00, 1.60300e+02, 5.81000e+00, 1.54490e+02,\n",
       "        1.00000e+00],\n",
       "       [1.42000e+02, 1.67000e+02, 7.47000e+00, 4.10970e+04, 2.68000e+00,\n",
       "        5.10000e-01, 5.25500e+00, 1.95020e+02, 6.06000e+00, 1.88960e+02,\n",
       "        1.00000e+00],\n",
       "       [5.10000e+01, 1.34000e+02, 4.67000e+00, 1.75700e+03, 3.50000e-01,\n",
       "        1.67000e-01, 2.09600e+00, 1.40200e+01, 1.00000e-02, 1.40100e+01,\n",
       "        1.00000e+00],\n",
       "       [1.75000e+02, 1.75000e+02, 8.60000e+00, 1.80000e+04, 2.17000e+00,\n",
       "        5.58000e-01, 3.88900e+00, 1.14160e+02, 3.11000e+00, 1.11050e+02,\n",
       "        1.00000e+00],\n",
       "       [1.12000e+02, 1.50000e+02, 6.87000e+00, 1.35000e+04, 1.68000e+00,\n",
       "        5.05000e-01, 3.32700e+00, 3.53400e+01, 7.90000e-01, 3.45500e+01,\n",
       "        1.00000e+00],\n",
       "       [1.31000e+02, 1.79000e+02, 6.50000e+00, 3.83100e+03, 1.70000e+00,\n",
       "        5.37000e-01, 3.16600e+00, 4.97400e+01, 3.49000e+00, 4.62500e+01,\n",
       "        1.00000e+00],\n",
       "       [1.74000e+02, 1.91000e+02, 7.60000e+00, 1.31190e+04, 2.74000e+00,\n",
       "        5.98000e-01, 4.58200e+00, 1.74320e+02, 3.87000e+00, 1.70450e+02,\n",
       "        1.00000e+00],\n",
       "       [1.82000e+02, 1.87000e+02, 9.50000e+00, 4.40000e+04, 3.07000e+00,\n",
       "        5.28000e-01, 5.81400e+00, 1.04258e+03, 1.87840e+02, 8.54740e+02,\n",
       "        1.00000e+00],\n",
       "       [5.90000e+01, 1.43000e+02, 4.83000e+00, 4.51000e+02, 6.90000e-01,\n",
       "        3.13000e-01, 2.20400e+00, 4.71000e+00, 2.00000e-02, 4.69000e+00,\n",
       "        1.00000e+00],\n",
       "       [8.10000e+01, 1.41000e+02, 7.47000e+00, 2.50000e+03, 7.20000e-01,\n",
       "        3.98000e-01, 1.80900e+00, 1.76600e+01, 1.20000e-01, 1.75400e+01,\n",
       "        1.00000e+00],\n",
       "       [7.30000e+01, 1.42000e+02, 3.85000e+00, 5.40500e+03, 4.80000e-01,\n",
       "        2.12000e-01, 2.26400e+00, 6.32000e+00, 1.00000e-02, 6.31000e+00,\n",
       "        1.00000e+00],\n",
       "       [1.44000e+02, 1.67000e+02, 6.20000e+00, 6.72500e+03, 1.53000e+00,\n",
       "        5.65000e-01, 2.70800e+00, 7.61200e+01, 2.44000e+00, 7.36800e+01,\n",
       "        1.00000e+00],\n",
       "       [7.90000e+01, 1.37000e+02, 5.88000e+00, 9.25000e+03, 1.02000e+00,\n",
       "        4.76000e-01, 2.14300e+00, 1.45400e+01, 9.00000e-02, 1.44500e+01,\n",
       "        1.00000e+00],\n",
       "       [1.99000e+02, 2.07000e+02, 8.28000e+00, 2.34310e+04, 3.12000e+00,\n",
       "        5.67000e-01, 5.50300e+00, 1.81270e+02, 1.61400e+01, 1.65130e+02,\n",
       "        1.00000e+00],\n",
       "       [9.40000e+01, 1.50000e+02, 6.77000e+00, 1.60000e+04, 1.19000e+00,\n",
       "        5.97000e-01, 1.98800e+00, 4.93800e+01, 2.11000e+00, 4.72700e+01,\n",
       "        1.00000e+00],\n",
       "       [2.71000e+02, 2.02000e+02, 6.88000e+00, 2.70000e+04, 4.30000e+00,\n",
       "        5.70000e-01, 7.54400e+00, 4.71500e+02, 7.98000e+00, 4.63520e+02,\n",
       "        1.00000e+00],\n",
       "       [9.00000e+01, 1.53000e+02, 8.13000e+00, 3.36200e+03, 1.08000e+00,\n",
       "        4.49000e-01, 2.40500e+00, 2.16000e+01, 3.10000e+00, 1.85000e+01,\n",
       "        1.00000e+00],\n",
       "       [8.90000e+01, 1.50000e+02, 7.05000e+00, 2.05000e+03, 1.16000e+00,\n",
       "        4.83000e-01, 2.40200e+00, 1.91100e+01, 1.00000e-02, 1.91000e+01,\n",
       "        1.00000e+00],\n",
       "       [6.70000e+01, 1.47000e+02, 6.15000e+00, 2.33700e+03, 6.00000e-01,\n",
       "        3.17000e-01, 1.89300e+00, 1.24400e+01, 1.00000e-02, 1.24300e+01,\n",
       "        1.00000e+00],\n",
       "       [5.40000e+01, 1.27000e+02, 5.85000e+00, 5.14300e+03, 1.18000e+00,\n",
       "        4.91000e-01, 2.40300e+00, 1.60600e+01, 8.00000e-02, 1.59800e+01,\n",
       "        1.00000e+00],\n",
       "       [7.80000e+01, 1.47000e+02, 6.08000e+00, 2.60000e+03, 6.50000e-01,\n",
       "        3.72000e-01, 1.74700e+00, 1.11000e+01, 4.20000e-01, 1.06800e+01,\n",
       "        1.00000e+00],\n",
       "       [2.93000e+02, 1.93000e+02, 6.40000e+00, 5.15000e+04, 3.62000e+00,\n",
       "        6.70000e-01, 5.40300e+00, 1.21798e+03, 1.20070e+02, 1.09791e+03,\n",
       "        1.00000e+00],\n",
       "       [2.70000e+02, 2.07000e+02, 6.63000e+00, 4.89130e+04, 3.75000e+00,\n",
       "        6.30000e-01, 5.95200e+00, 1.12725e+03, 7.99800e+01, 1.04727e+03,\n",
       "        1.00000e+00],\n",
       "       [5.80000e+01, 1.35000e+02, 4.50000e+00, 1.85000e+03, 8.20000e-01,\n",
       "        4.21000e-01, 1.94800e+00, 1.09800e+01, 1.00000e-02, 1.09700e+01,\n",
       "        1.00000e+00],\n",
       "       [1.72000e+02, 1.81000e+02, 6.67000e+00, 6.25000e+03, 2.68000e+00,\n",
       "        6.56000e-01, 4.08500e+00, 1.37390e+02, 1.70200e+01, 1.20370e+02,\n",
       "        1.00000e+00],\n",
       "       [1.47000e+02, 1.58000e+02, 9.38000e+00, 1.00000e+03, 1.54000e+00,\n",
       "        5.75000e-01, 2.67800e+00, 1.66100e+01, 3.00000e-02, 1.65800e+01,\n",
       "        1.00000e+00],\n",
       "       [4.50000e+01, 1.16000e+02, 2.35000e+00, 2.50000e+03, 7.00000e-02,\n",
       "        1.66000e-01, 4.22000e-01, 2.03000e+00, 6.20000e-01, 1.41000e+00,\n",
       "        1.00000e+00],\n",
       "       [6.90000e+01, 1.42000e+02, 5.72000e+00, 6.50000e+03, 8.10000e-01,\n",
       "        4.30000e-01, 1.88400e+00, 1.08000e+01, 1.00000e-02, 1.07900e+01,\n",
       "        1.00000e+00]])"
      ]
     },
     "execution_count": 8,
     "metadata": {},
     "output_type": "execute_result"
    }
   ],
   "source": [
    "x_final"
   ]
  },
  {
   "cell_type": "code",
   "execution_count": 9,
   "metadata": {},
   "outputs": [
    {
     "data": {
      "text/plain": [
       "(31, 11)"
      ]
     },
     "execution_count": 9,
     "metadata": {},
     "output_type": "execute_result"
    }
   ],
   "source": [
    "x_final.shape"
   ]
  },
  {
   "cell_type": "code",
   "execution_count": 10,
   "metadata": {},
   "outputs": [
    {
     "data": {
      "text/plain": [
       "array([[116.3],\n",
       "       [ 43. ],\n",
       "       [141.5],\n",
       "       [ 50.6],\n",
       "       [ 51. ],\n",
       "       [318.5],\n",
       "       [ 59.2],\n",
       "       [ 77. ],\n",
       "       [ 62.3],\n",
       "       [ 45.3],\n",
       "       [ 42.6],\n",
       "       [112.4],\n",
       "       [125.2],\n",
       "       [169.3],\n",
       "       [ 64.8],\n",
       "       [100.5],\n",
       "       [ 42.9],\n",
       "       [ 81.1],\n",
       "       [ 56.7],\n",
       "       [ 75.4],\n",
       "       [ 71.3],\n",
       "       [150.1],\n",
       "       [ 78.9],\n",
       "       [130.3],\n",
       "       [ 46.2],\n",
       "       [ 42.3],\n",
       "       [103.3],\n",
       "       [ 44.2],\n",
       "       [ 64.7],\n",
       "       [820.9],\n",
       "       [130.9]])"
      ]
     },
     "execution_count": 10,
     "metadata": {},
     "output_type": "execute_result"
    }
   ],
   "source": [
    "y_data = airline_data[airline_data.columns[1]].to_numpy()\n",
    "y_data.shape\n",
    "y_final = y_data.reshape(31,1)\n",
    "y_final"
   ]
  },
  {
   "cell_type": "code",
   "execution_count": 11,
   "metadata": {},
   "outputs": [
    {
     "name": "stdout",
     "output_type": "stream",
     "text": [
      "XTX (11, 11)\n"
     ]
    }
   ],
   "source": [
    "XTX = np.matmul(np.transpose(x_final),x_final)\n",
    "\n",
    "print('XTX',XTX.shape)"
   ]
  },
  {
   "cell_type": "code",
   "execution_count": 12,
   "metadata": {},
   "outputs": [
    {
     "name": "stdout",
     "output_type": "stream",
     "text": [
      "XTY (11, 1)\n"
     ]
    }
   ],
   "source": [
    "XTY = np.matmul(np.transpose(x_final),y_final)\n",
    "\n",
    "print('XTY', XTY.shape)"
   ]
  },
  {
   "cell_type": "code",
   "execution_count": 13,
   "metadata": {},
   "outputs": [
    {
     "name": "stdout",
     "output_type": "stream",
     "text": [
      "[[-7.58691775e+00]\n",
      " [ 8.08639982e+00]\n",
      " [-1.32890770e+02]\n",
      " [-7.35541680e-03]\n",
      " [ 1.23048428e+03]\n",
      " [-3.89203536e+03]\n",
      " [-2.64885065e+02]\n",
      " [ 1.58750000e+01]\n",
      " [-1.42500000e+01]\n",
      " [-1.63750000e+01]\n",
      " [ 1.43301982e+03]] (11, 1)\n"
     ]
    }
   ],
   "source": [
    "beta = np.matmul(np.linalg.inv(XTX),XTY)\n",
    "\n",
    "print(beta,beta.shape)"
   ]
  },
  {
   "cell_type": "code",
   "execution_count": 14,
   "metadata": {},
   "outputs": [
    {
     "name": "stdout",
     "output_type": "stream",
     "text": [
      "10\n"
     ]
    }
   ],
   "source": [
    "# lets find out the rank oof the matrix\n",
    "\n",
    "print(np.linalg.matrix_rank(XTX))"
   ]
  },
  {
   "cell_type": "code",
   "execution_count": 15,
   "metadata": {},
   "outputs": [
    {
     "name": "stdout",
     "output_type": "stream",
     "text": [
      "False\n"
     ]
    }
   ],
   "source": [
    "XTX_inv = np.linalg.inv(XTX)\n",
    "is_identity = np.all(np.matmul(XTX,XTX_inv)==np.identity(XTX.shape[0]))\n",
    "print(is_identity)"
   ]
  },
  {
   "attachments": {},
   "cell_type": "markdown",
   "metadata": {},
   "source": [
    "$\\textbf{Note:}$ Though the matrix $X^\\top X$ is not full-rank, that is, $10:= \\text{rank}(X^\\top X)<11$, we see that $\\texttt{numpy}$ does not raise any error while computing the inverse of $X^\\top X$. Hence we will use $\\texttt{scipy}$ to solve for $\\beta$ and check if we get any error. "
   ]
  },
  {
   "cell_type": "code",
   "execution_count": 16,
   "metadata": {},
   "outputs": [],
   "source": [
    "import scipy.linalg\n"
   ]
  },
  {
   "cell_type": "code",
   "execution_count": 17,
   "metadata": {},
   "outputs": [
    {
     "name": "stdout",
     "output_type": "stream",
     "text": [
      "(11, 11)\n",
      "(11, 1)\n",
      "(11, 11)\n",
      "[[-1.12499459e+15]\n",
      " [-3.62139026e+14]\n",
      " [-6.20296441e+12]\n",
      " [-2.96414366e+17]\n",
      " [-1.66034446e+13]\n",
      " [-1.27545568e+12]\n",
      " [-2.11557479e+13]\n",
      " [-9.19664667e+15]\n",
      " [-1.12342120e+15]\n",
      " [-8.07322547e+15]\n",
      " [-5.03678391e+08]]\n"
     ]
    },
    {
     "name": "stderr",
     "output_type": "stream",
     "text": [
      "C:\\Users\\sumit\\AppData\\Local\\Temp/ipykernel_2148/3304576416.py:6: LinAlgWarning: Ill-conditioned matrix (rcond=1.09852e-20): result may not be accurate.\n",
      "  z = scipy.linalg.solve(p,XTY)\n"
     ]
    }
   ],
   "source": [
    "print(XTX.shape)\n",
    "print(XTY.shape)\n",
    "\n",
    "p = scipy.linalg.inv(XTX)\n",
    "print(p.shape)\n",
    "z = scipy.linalg.solve(p,XTY)\n",
    "print(z)"
   ]
  },
  {
   "cell_type": "code",
   "execution_count": 18,
   "metadata": {},
   "outputs": [
    {
     "name": "stdout",
     "output_type": "stream",
     "text": [
      "beta from scipy [[ 7.52395660e-01]\n",
      " [-2.25317845e+00]\n",
      " [ 3.31746733e+00]\n",
      " [ 3.10628655e-03]\n",
      " [ 7.23197186e+02]\n",
      " [-2.17522853e+03]\n",
      " [-3.82138951e+02]\n",
      " [ 1.59128832e+01]\n",
      " [-1.44753368e+01]\n",
      " [-1.64360893e+01]\n",
      " [ 1.43301982e+03]]\n"
     ]
    },
    {
     "name": "stderr",
     "output_type": "stream",
     "text": [
      "C:\\Users\\sumit\\AppData\\Local\\Temp/ipykernel_2148/3016277171.py:1: LinAlgWarning: Ill-conditioned matrix (rcond=7.39613e-21): result may not be accurate.\n",
      "  beta = scipy.linalg.solve(XTX,XTY)\n"
     ]
    }
   ],
   "source": [
    "beta = scipy.linalg.solve(XTX,XTY)\n",
    "\n",
    "print('beta from scipy', beta)"
   ]
  },
  {
   "attachments": {},
   "cell_type": "markdown",
   "metadata": {},
   "source": [
    "$\\textbf{Note:}$ $\\texttt{scipy}$ gives a warning that the matrix $X^\\top X$ is ill-conditioned. \n",
    "\n",
    "We can use the condition number of a matrix $A$ to identify if the matrix is ill-conditioned or not. \n",
    "\n",
    "Suppose we solve a system $Ax=b$, then the condition number of $A$ denotes the amount of error that can be incurred in the decision variable $x$ when there is a small error in $b$. \n",
    "\n",
    "For a symmetric matrix $A \\in {\\mathbb{R}}^{n \\times n}$, we can compute the condition number of $A$ denoted by $\\kappa(A)$ as:\n",
    "\n",
    "$\\begin{align}\n",
    "\\kappa(A) = \\frac{\\max_{i \\in \\{1,2,\\ldots,n\\}} |\\lambda_i(A)|}{\\min_{i \\in \\{1,2,\\ldots,n\\}} |\\lambda_{i}(A)|}\n",
    "\\end{align}\n",
    "$\n",
    "\n",
    "where $\\lambda_i(A)$ denotes $i$-th eigen value of $A$, $\\max_i |\\lambda_i(A)|$ and $\\min_i |\\lambda_i(A)|$ denote respectively  the maximum and minimum absolute eigen values of $A$.\n",
    "\n",
    "\n",
    "\n",
    "For a general matrix $A \\in {\\mathbb{R}}^{m \\times n}$, we can compute the condition number of $A$ denoted by $\\kappa(A)$ as:\n",
    "\n",
    "$\\begin{align}\n",
    "\\kappa(A) = \\frac{\\sigma_{\\max}(A)}{\\sigma_{\\min}(A)}\n",
    "\\end{align}\n",
    "$\n",
    "\n",
    "where $\\sigma_{\\max}(A)$ and $\\sigma_{\\min}(A)$ are maximum and minimum singular values of $A$ given by $\\sigma_{\\max}(A) = \\sqrt{\\lambda_{\\max}(A^\\top A)}$ and $\\sigma_{\\min}(A) = \\sqrt{\\lambda_{\\min}(A^\\top A)}$, where $\\lambda_{\\max}(A^\\top A)$, $\\lambda_{\\min}(A^\\top A)$ denote the maximum and minimum eigen values of $A^\\top A$.\n",
    "\n",
    "\n",
    "\n",
    "If the condition number $\\kappa(A)$ is a $\\textbf{large number}$ then the error incurred in $x$ would be large and hence the matrix $A$ is called $\\textbf{ill-conditioned}$. \n"
   ]
  },
  {
   "attachments": {},
   "cell_type": "markdown",
   "metadata": {},
   "source": [
    "#Conditioning and impact of small variations in output\n",
    "\n",
    "In fact, when we solve a system of linear equations $A\\mathbf{x} = \\mathbf{b}$, assuming $A$ to be positive definite (hence invertible), we can obtain the solution to the system as $\\mathbf{x} = A^{-1} \\mathbf{b}$. \n",
    "\n",
    "Now if the output $\\mathbf{b}$ is perturbed to $\\mathbf{b}+\\Delta \\mathbf{b}$, and the corresponding change in the variable $\\mathbf{x}$ is given by $\\mathbf{x}+\\Delta \\mathbf{x}$, then we can write: $A(\\mathbf{x}+\\Delta \\mathbf{x}) = \\mathbf{b}+\\Delta \\mathbf{b}$. \n",
    "\n",
    "Hence $\\mathbf{x}+\\Delta \\mathbf{x} = A^{-1} (\\mathbf{b}+\\Delta \\mathbf{b}) = \\mathbf{x} + A^{-1}\\Delta \\mathbf{b}$. Thus the change in solution $\\mathbf{x}$ can be represented as $\\Delta \\mathbf{x} = A^{-1}\\Delta \\mathbf{b}$. \n",
    "\n",
    "Further it can be shown that the relative change in solution is related to the relative change in output as: \n",
    "\n",
    "$\n",
    "\\begin{align}\n",
    "\\frac{\\|\\Delta \\mathbf{x}\\|}{\\|\\mathbf{x}\\|} = \\kappa(A) \\frac{\\|\\Delta \\mathbf{b}\\|}{\\|\\mathbf{b}\\|}. \n",
    "\\end{align}\n",
    "$\n",
    "\n",
    "Hence if the condition number $\\kappa(A)$ is large, we can see that even minor relative perturbations in output $\\mathbf{b}$ cause significantly large relative changes in the corresponding solutions."
   ]
  },
  {
   "cell_type": "code",
   "execution_count": 19,
   "metadata": {},
   "outputs": [
    {
     "name": "stdout",
     "output_type": "stream",
     "text": [
      "7.974416824913858e+19\n"
     ]
    }
   ],
   "source": [
    "# condition number\n",
    "print(np.linalg.cond(XTX))"
   ]
  },
  {
   "attachments": {},
   "cell_type": "markdown",
   "metadata": {},
   "source": [
    "We can see that the ill-conditioning of $X^\\top X$ might lead to wild changes in solutions of linear regression parameters, even for small changes in the output $\\mathbf{y}$. "
   ]
  },
  {
   "attachments": {},
   "cell_type": "markdown",
   "metadata": {},
   "source": [
    "An extreme case of ill-conditioning of $X^\\top X$ occurs when $X^\\top X$ becomes non-invertible. \n",
    "\n",
    "Recall that $X$ is a $n \\times (d+1)$ matrix. When the columns of $X$ are not linearly independent (i.e. one column of $X$ can be represented as a linear combination of some subset of other columns), then $X$ does not have full column rank and hence $X^\\top X$ becomes non-invertible. \n",
    "\n",
    "In such cases, the condition number of $X^\\top X$ becomes very large ($\\approx \\infty$), and hence any solution that is obtained is quite sensitive to small changes in the output.  "
   ]
  },
  {
   "attachments": {},
   "cell_type": "markdown",
   "metadata": {},
   "source": [
    "## *adding l2 regularization to improve the conditioning of the matrix*\n",
    "\n",
    "We shall motivate the use of $\\ell_2$ regularizer to improve the conditioning of the matrix. \n",
    "\n",
    "Instead of minimizing the original OLS objective \n",
    "$\n",
    "\\begin{align}\n",
    "L_{OLS}(\\beta_0, \\beta_1,\\ldots,\\beta_d) = \\sum_{i=1}^{n} [y^i - ( \\beta_0 + \\sum_{j=1}^{d} \\beta_j x_j^i) ]^2. \n",
    "\\end{align}\n",
    "$ \n",
    "\n",
    "we shall now minimize the OLS objective added with a scaled $\\ell_2$ regularizer. \n",
    "\n",
    "The $\\ell_2$ regularizer in $\\beta \\in {\\mathbb{R}}^{d+1}$ is defined as the squared $\\ell_2$ norm of $\\beta$: \n",
    "\n",
    "$\n",
    "\\begin{align}\n",
    "\\|\\beta\\|_2^2 = \\sum_{i=1}^{d+1} \\beta_i^2.  \n",
    "\\end{align}\n",
    "$\n",
    "\n",
    "Hence we shall now solve: \n",
    "$\n",
    "\\begin{align}\n",
    "L_{\\text{ridge}}(\\beta_0, \\beta_1,\\ldots,\\beta_d) = \\sum_{i=1}^{n} [y^i - ( \\beta_0 + \\sum_{j=1}^{d} \\beta_j x_j^i) ]^2 + \\lambda \\sum_{i=1}^{d+1} \\beta_i^2. \n",
    "\\end{align}\n",
    "$ \n",
    "\n",
    "The above objective function is called $\\textbf{ridge}$ regression objective. $\\lambda>0$ is a regularization hyperparameter. \n",
    "\n"
   ]
  },
  {
   "attachments": {},
   "cell_type": "markdown",
   "metadata": {},
   "source": [
    "Now we can write the objective function as:\n",
    "\n",
    "$\n",
    "L_{\\text{ridge}}(\\beta) = \\|\\mathbf{y} - \\mathbf{X}\\mathbf{\\beta} \\|_F^2 + \\lambda \\|\\beta\\|_2^2.\n",
    "$\n",
    "\n",
    "To solve \n",
    "\n",
    "$\n",
    "\\min_\\beta L_{\\text{ridge}}(\\beta) = \\|\\mathbf{y} - \\mathbf{X}\\mathbf{\\beta} \\|_F^2 + \\lambda \\|\\beta\\|_2^2, \n",
    "$\n",
    "we find the gradient with respect to $\\beta$ and equate to zero. \n",
    "\n",
    "Thus we get:\n",
    "\n",
    "$\n",
    "\\begin{align}\n",
    "\\nabla_\\beta L_{\\text{ridge}}(\\beta) &= \\mathbf{0} \\\\ \n",
    "\\implies -\\mathbf{X}^\\top \\mathbf{y} + \\mathbf{X}^\\top\\mathbf{X} \\beta + \\lambda I\\beta &= \\mathbf{0} \\\\ \n",
    "\\implies \\beta &= (\\mathbf{X}^\\top\\mathbf{X}+\\lambda I)^{-1} \\mathbf{X}^\\top \\mathbf{y}. \n",
    "\\end{align}\n",
    "$\n",
    "\n",
    "Note that the closed form expression for $\\beta$ is always valid since $(\\mathbf{X}^\\top\\mathbf{X}+\\lambda I)$ is invertible.  \n"
   ]
  },
  {
   "attachments": {},
   "cell_type": "markdown",
   "metadata": {},
   "source": [
    "With $\\lambda \\in \\{10^{-5},10^{-4}, 10^{-3},10^{-2},0.1, 1, 10, 100\\}$ let us check the condition number of $(X^\\top X+\\lambda I)$. "
   ]
  },
  {
   "cell_type": "code",
   "execution_count": 20,
   "metadata": {},
   "outputs": [
    {
     "name": "stdout",
     "output_type": "stream",
     "text": [
      "reg_hyperparameter 1e-05\n",
      "condition number of (XTX-⁁I) ->  1501310343298227.2\n",
      "reg_hyperparameter 0.001\n",
      "condition number of (XTX-⁁I) ->  15012670755407.81\n",
      "reg_hyperparameter 0.01\n",
      "condition number of (XTX-⁁I) ->  1501267288966.8928\n",
      "reg_hyperparameter 0.1\n",
      "condition number of (XTX-⁁I) ->  150126721047.6939\n",
      "reg_hyperparameter 1.0\n",
      "condition number of (XTX-⁁I) ->  15012672103.805637\n",
      "reg_hyperparameter 10.0\n",
      "condition number of (XTX-⁁I) ->  1501267211.082496\n",
      "reg_hyperparameter 100.0\n",
      "condition number of (XTX-⁁I) ->  150126722.00538412\n"
     ]
    }
   ],
   "source": [
    "reg_hyperparameter = np.array([1e-5,1e-3,1e-2,1e-1,1,10,100])\n",
    "\n",
    "I = np.identity(XTX.shape[0])\n",
    "\n",
    "for i in reg_hyperparameter:\n",
    "    print('reg_hyperparameter', i)\n",
    "    print('condition number of (XTX-⁁I) -> ',np.linalg.cond(XTX+i*I) )"
   ]
  },
  {
   "cell_type": "code",
   "execution_count": 21,
   "metadata": {},
   "outputs": [
    {
     "name": "stdout",
     "output_type": "stream",
     "text": [
      "reg_hyperparameter 1e-05\n",
      "beta [[ 7.52538381e-01]\n",
      " [-2.25222818e+00]\n",
      " [ 3.30238546e+00]\n",
      " [ 3.10642807e-03]\n",
      " [ 7.22976204e+02]\n",
      " [-2.17465207e+03]\n",
      " [-3.82040729e+02]\n",
      " [ 3.04836656e-01]\n",
      " [ 1.13264604e+00]\n",
      " [-8.27984059e-01]\n",
      " [ 1.43271639e+03]]\n",
      "********$$$$*******\n",
      "reg_hyperparameter 0.001\n",
      "beta [[ 7.66223755e-01]\n",
      " [-2.16014295e+00]\n",
      " [ 1.84741577e+00]\n",
      " [ 3.12018008e-03]\n",
      " [ 7.01649939e+02]\n",
      " [-2.11902946e+03]\n",
      " [-3.72563812e+02]\n",
      " [ 3.04604033e-01]\n",
      " [ 1.12668212e+00]\n",
      " [-8.22073987e-01]\n",
      " [ 1.40339039e+03]]\n",
      "********$$$$*******\n",
      "reg_hyperparameter 0.01\n",
      "beta [[ 8.58860080e-01]\n",
      " [-1.46856675e+00]\n",
      " [-8.62792126e+00]\n",
      " [ 3.22604166e-03]\n",
      " [ 5.47573013e+02]\n",
      " [-1.71783994e+03]\n",
      " [-3.04249073e+02]\n",
      " [ 3.02345821e-01]\n",
      " [ 1.08073319e+00]\n",
      " [-7.78387340e-01]\n",
      " [ 1.18855672e+03]]\n",
      "********$$$$*******\n",
      "reg_hyperparameter 0.1\n",
      "beta [[ 9.69096121e-01]\n",
      " [ 1.06214566e+00]\n",
      " [-3.77107029e+01]\n",
      " [ 3.64746664e-03]\n",
      " [ 1.11307749e+02]\n",
      " [-5.89083650e+02]\n",
      " [-1.13855402e+02]\n",
      " [ 2.74163395e-01]\n",
      " [ 8.96850101e-01]\n",
      " [-6.22686686e-01]\n",
      " [ 5.14767044e+02]]\n",
      "********$$$$*******\n",
      "reg_hyperparameter 1.0\n",
      "beta [[ 3.70477677e-01]\n",
      " [ 3.35668167e+00]\n",
      " [-4.94049677e+01]\n",
      " [ 3.68878106e-03]\n",
      " [-4.96526290e+01]\n",
      " [-8.75003893e+01]\n",
      " [-4.47139202e+01]\n",
      " [ 2.06809466e-01]\n",
      " [ 6.61417794e-01]\n",
      " [-4.54608325e-01]\n",
      " [ 9.34613495e+01]]\n",
      "********$$$$*******\n",
      "reg_hyperparameter 10.0\n",
      "beta [[-8.27448708e-01]\n",
      " [ 3.65810207e+00]\n",
      " [-4.06632787e+01]\n",
      " [ 1.65815556e-03]\n",
      " [-2.20470430e+01]\n",
      " [-1.09706276e+01]\n",
      " [-2.99020124e+01]\n",
      " [ 6.93082632e-02]\n",
      " [ 1.87803313e-01]\n",
      " [-1.18495049e-01]\n",
      " [ 1.20070190e+01]]\n",
      "********$$$$*******\n",
      "reg_hyperparameter 100.0\n",
      "beta [[-1.92987054e+00]\n",
      " [ 2.78279481e+00]\n",
      " [-1.30766014e+01]\n",
      " [-1.28146618e-03]\n",
      " [-3.78653268e+00]\n",
      " [-1.37030952e+00]\n",
      " [-5.87413916e+00]\n",
      " [-1.90761657e-01]\n",
      " [-6.64761608e-01]\n",
      " [ 4.73999950e-01]\n",
      " [ 1.36538093e+00]]\n",
      "********$$$$*******\n"
     ]
    }
   ],
   "source": [
    "import scipy.linalg\n",
    "\n",
    "betas= []\n",
    "\n",
    "for i in reg_hyperparameter:\n",
    "    beta = scipy.linalg.solve(XTX+i*I, XTY)\n",
    "    print('reg_hyperparameter', i)\n",
    "    print('beta',beta)\n",
    "    print('********$$$$*******')\n",
    "    betas.append(beta)\n"
   ]
  },
  {
   "attachments": {},
   "cell_type": "markdown",
   "metadata": {},
   "source": [
    "$\\Large{\\text{Residual Plot}}$\n",
    "\n",
    "Sometimes it would be useful to plot the error (or) $\\textbf{residual}$ $e^i$ versus the fitted values $\\hat{y}^i=\\beta_0 + \\sum_{j=1}^{d} \\beta_j x^i_j$.  "
   ]
  },
  {
   "cell_type": "code",
   "execution_count": 37,
   "metadata": {},
   "outputs": [
    {
     "data": {
      "image/png": "[encoded data removed]",
      "text/plain": [
       "<Figure size 432x288 with 1 Axes>"
      ]
     },
     "metadata": {
      "needs_background": "light"
     },
     "output_type": "display_data"
    },
    {
     "data": {
      "image/png": "[encoded data removed]",
      "text/plain": [
       "<Figure size 432x288 with 1 Axes>"
      ]
     },
     "metadata": {
      "needs_background": "light"
     },
     "output_type": "display_data"
    },
    {
     "data": {
      "image/png": "[encoded data removed]",
      "text/plain": [
       "<Figure size 432x288 with 1 Axes>"
      ]
     },
     "metadata": {
      "needs_background": "light"
     },
     "output_type": "display_data"
    },
    {
     "data": {
      "image/png": "[encoded data removed]",
      "text/plain": [
       "<Figure size 432x288 with 1 Axes>"
      ]
     },
     "metadata": {
      "needs_background": "light"
     },
     "output_type": "display_data"
    },
    {
     "data": {
      "image/png": "[encoded data removed]",
      "text/plain": [
       "<Figure size 432x288 with 1 Axes>"
      ]
     },
     "metadata": {
      "needs_background": "light"
     },
     "output_type": "display_data"
    },
    {
     "data": {
      "image/png": "[encoded data removed]",
      "text/plain": [
       "<Figure size 432x288 with 1 Axes>"
      ]
     },
     "metadata": {
      "needs_background": "light"
     },
     "output_type": "display_data"
    },
    {
     "data": {
      "image/png": "[encoded data removed]",
      "text/plain": [
       "<Figure size 432x288 with 1 Axes>"
      ]
     },
     "metadata": {
      "needs_background": "light"
     },
     "output_type": "display_data"
    }
   ],
   "source": [
    "beta_idx = 0\n",
    "\n",
    "for i in reg_hyperparameter:\n",
    "    beta = betas[beta_idx]\n",
    "    beta_idx +=1\n",
    "    \n",
    "    xlabel = 'TOC lambda='+str(i)\n",
    "    e_i_residuls = []\n",
    "\n",
    "    for i in range(n):\n",
    "        x_i = x_final[i,:]\n",
    "        y_i = y_final[i]\n",
    "\n",
    "        y_pred_i = np.dot(x_i,beta)\n",
    "        e_i = y_i - y_pred_i\n",
    "\n",
    "        e_i_residuls.append(e_i)\n",
    "    \n",
    "    plt.scatter(airline_data['TOC'], e_i_residuls, color='r')\n",
    "    plt.title(\"Residual plot\")\n",
    "    plt.xlabel(xlabel)\n",
    "    plt.ylabel(\"Residuals\")\n",
    "    plt.grid()\n",
    "    plt.show()\n",
    "     \n",
    "\n"
   ]
  },
  {
   "attachments": {},
   "cell_type": "markdown",
   "metadata": {},
   "source": [
    "$\\Large{\\text{Coefficient of multiple determination for high dimensions}}$ \n",
    "\n",
    "Note that the description of coefficient of multiple determination for high dimensions is essentially the same as that for single dimension case. \n",
    "\n",
    "Consider the term \n",
    "\n",
    "$\n",
    "\\begin{align}\n",
    "\\Sigma_{YY} = \\sum_{i=1}^{n} (y^i - \\bar{y})^2. \n",
    "\\end{align}\n",
    "$\n",
    "This term $\\Sigma_{YY}$ measures the $\\textbf{observed total variation of the response}$, without considering the effect of predictor variables. \n",
    "\n",
    "When we have access to a predictor variable, then the $\\textbf{unexplained variation of response variable given the predictor variable}$ is given by the sum of squared residuals:\n",
    "\n",
    "$\n",
    "\\begin{align}\n",
    "L = \\sum_{i=1}^{n} (e^i)^2. \n",
    "\\end{align}\n",
    "$\n",
    "\n",
    "Define the term:\n",
    "\n",
    "$\n",
    "\\begin{align}\n",
    "\\text{SSD} = \\Sigma_{YY}- L\n",
    "\\end{align}\n",
    "$\n",
    "\n",
    "as the difference between observed total variation of the response and the unexplained variation given the predictor. Hence this can be considered as $\\textbf{variability explained by the regression on the predictor variable}$. \n",
    "\n",
    "Assuming $\\Sigma_{YY}\\neq 0$, consider: \n",
    "\n",
    "$\n",
    "\\begin{align}\n",
    "\\frac{\\text{SSD}}{\\Sigma_{YY}} = 1- \\frac{L}{\\Sigma_{YY}}.\n",
    "\\end{align}\n",
    "$\n",
    "Here the term $\\frac{\\text{SSD}}{\\Sigma_{YY}}$ denotes the proportion of observed variability in the response variable which is explained by the regression on the predictor variable. From the equality, this proportion of observed variability given the predictor is simply $1$ minus the proportion of unexplained variability. \n",
    "\n",
    "This term $\\frac{\\text{SSD}}{\\Sigma_{YY}}$ denoting the proportion of observed variability which is explained by the predictor variable has a special name called $\\textbf{coefficient of multiple determination}$ and is denoted by $R^2$. \n",
    "\n",
    "It is known that $0\\leq R^2 \\leq 1$. "
   ]
  },
  {
   "cell_type": "code",
   "execution_count": 22,
   "metadata": {},
   "outputs": [
    {
     "name": "stdout",
     "output_type": "stream",
     "text": [
      "Y_bay 113.50645161290323\n"
     ]
    }
   ],
   "source": [
    "y_bar = 0  # computation of the y_bar\n",
    "\n",
    "for i in range(n):\n",
    "    y_i = float(airline_data.iat[i,1])\n",
    "    y_bar += y_i\n",
    "\n",
    "y_bar /= n\n",
    "print('Y_bay', y_bar)\n"
   ]
  },
  {
   "cell_type": "code",
   "execution_count": 23,
   "metadata": {},
   "outputs": [
    {
     "name": "stdout",
     "output_type": "stream",
     "text": [
      "sigma_yy 610938.3987096774\n"
     ]
    }
   ],
   "source": [
    "# computation of the sigma_yy\n",
    "\n",
    "sigma_yy=0\n",
    "\n",
    "for i in range(n):\n",
    "    y_i = float(airline_data.iat[i,1])\n",
    "    sigma_yy += (y_i - y_bar)**2\n",
    "\n",
    "print('sigma_yy', sigma_yy)"
   ]
  },
  {
   "cell_type": "code",
   "execution_count": 26,
   "metadata": {},
   "outputs": [
    {
     "name": "stdout",
     "output_type": "stream",
     "text": [
      "lambda 1e-05\n",
      "sum of suared residual [48091.04515483]\n",
      "score [0.92128332]\n",
      "**********************\n",
      "lambda 0.001\n",
      "sum of suared residual [48270.38435013]\n",
      "score [0.92098977]\n",
      "**********************\n",
      "lambda 0.01\n",
      "sum of suared residual [60051.44363136]\n",
      "score [0.90170622]\n",
      "**********************\n",
      "lambda 0.1\n",
      "sum of suared residual [198507.15296848]\n",
      "score [0.67507828]\n",
      "**********************\n",
      "lambda 1.0\n",
      "sum of suared residual [330055.62735503]\n",
      "score [0.45975629]\n",
      "**********************\n",
      "lambda 10.0\n",
      "sum of suared residual [379056.04870797]\n",
      "score [0.37955111]\n",
      "**********************\n",
      "lambda 100.0\n",
      "sum of suared residual [463653.0991366]\n",
      "score [0.24108044]\n",
      "**********************\n"
     ]
    }
   ],
   "source": [
    "beta_idx = 0\n",
    "\n",
    "for i in reg_hyperparameter:\n",
    "    beta = betas[beta_idx]\n",
    "    beta_idx+=1\n",
    "\n",
    "    sum_sq_residual = 0\n",
    "\n",
    "    for k in range(n):\n",
    "        x_i = x_final[k,:]\n",
    "        y_i = y_final[k]\n",
    "\n",
    "        y_pred_i = np.dot(x_i, beta)\n",
    "        e_i = y_i - y_pred_i\n",
    "\n",
    "        sum_sq_residual += (e_i)**2\n",
    "\n",
    "    print('lambda', i)\n",
    "    print('sum of suared residual', sum_sq_residual)\n",
    "\n",
    "    score = 1 - (sum_sq_residual/sigma_yy)\n",
    "\n",
    "    print('score',  score)\n",
    "\n",
    "    print('**********************')\n"
   ]
  },
  {
   "attachments": {},
   "cell_type": "markdown",
   "metadata": {},
   "source": [
    "As we can see, increasing the value of $\\lambda$ leads to lower $R^2$ values which indicates that the unexplained variations captured by the regression parameters is not significant when compared to the variations captured by the mean $\\bar{\\mathbf{y}}$. \n",
    "\n",
    "Also note that increasing $\\lambda$ leads to residual plots where the variance in the predicted values become smaller and smaller when compared to lower values of $\\lambda$. However it might turn out that on an average, the estimated parameters might be away from the actual parameters which were possibly responsible for the data. This leads to a larger bias in the estimated model parameters. This phenomenon is one explanation for the popular $\\textbf{bias-variance}$ tradeoff."
   ]
  },
  {
   "attachments": {},
   "cell_type": "markdown",
   "metadata": {},
   "source": [
    "# *Adding L1 regularization to find sparse solutions*\n",
    "\n",
    "Instead of $\\ell_2$ regularizer, we can use $\\ell_1$ regularizer of the parameters $\\beta$. $\\ell_1$ regularizer is useful to obtain sparse solutions, where most of the components of $\\beta$ are zero and only a few weights are non-zero. \n",
    "\n",
    "The $\\ell_1$ regularizer with $\\beta$ is given as the $\\ell_1$ norm of $\\beta$:\n",
    "\n",
    "$\n",
    "\\begin{align}\n",
    "\\|\\beta\\|_1 = \\sum_{i=1}^{d+1} |\\beta_i|.\n",
    "\\end{align}\n",
    "$\n",
    "\n",
    "Recall the original OLS objective: \n",
    "$\n",
    "\\begin{align}\n",
    "L_{OLS}(\\beta_0, \\beta_1,\\ldots,\\beta_d) = \\sum_{i=1}^{n} [y^i - ( \\beta_0 + \\sum_{j=1}^{d} \\beta_j x_j^i) ]^2. \n",
    "\\end{align}\n",
    "$ \n",
    "\n",
    "and the objective for ridge regression where we minimize the OLS objective added with a scaled $\\ell_2$ regularizer: \n",
    "\n",
    "$\n",
    "\\begin{align}\n",
    "L_{\\text{ridge}}(\\beta_0, \\beta_1,\\ldots,\\beta_d) = \\sum_{i=1}^{n} [y^i - ( \\beta_0 + \\sum_{j=1}^{d} \\beta_j x_j^i) ]^2 + \\lambda \\sum_{i=1}^{d+1} \\beta_i^2. \n",
    "\\end{align}\n",
    "$ \n",
    "\n",
    "Similar to ridge regression, we can use the scaled $\\ell_1$ regularizer along with the OLS objective to get the following objective: \n",
    "\n",
    "$\n",
    "\\begin{align}\n",
    "L_{\\text{lasso}}(\\beta_0, \\beta_1,\\ldots,\\beta_d) = \\sum_{i=1}^{n} [y^i - ( \\beta_0 + \\sum_{j=1}^{d} \\beta_j x_j^i) ]^2 + \\alpha \\sum_{i=1}^{d+1} |\\beta_i|. \n",
    "\\end{align}\n",
    "$ \n",
    "\n",
    "The above objective function is called $\\textbf{lasso}$ regression objective. $\\alpha>0$ is a regularization hyperparameter. \n",
    "\n",
    "Unlike ridge regression, lasso cannot be solved by a simple differentiation type idea. \n",
    "\n",
    "Instead we need to use an iterative algorithm to solve the lasso optimization problem. \n"
   ]
  },
  {
   "cell_type": "code",
   "execution_count": 27,
   "metadata": {},
   "outputs": [
    {
     "name": "stderr",
     "output_type": "stream",
     "text": [
      "c:\\Users\\sumit\\AppData\\Local\\Programs\\Python\\Python39\\lib\\site-packages\\sklearn\\linear_model\\_coordinate_descent.py:634: ConvergenceWarning: Objective did not converge. You might want to increase the number of iterations, check the scale of the features or consider increasing regularisation. Duality gap: 2.299e+02, tolerance: 6.109e+01\n",
      "  model = cd_fast.enet_coordinate_descent(\n"
     ]
    },
    {
     "name": "stdout",
     "output_type": "stream",
     "text": [
      "alpha 1e-05\n",
      "[ 7.52401775e-01 -2.25317646e+00  3.31721242e+00  3.10628549e-03\n",
      "  7.23193567e+02 -2.17521925e+03 -3.82137254e+02 -2.78886609e-01\n",
      "  1.71643369e+00 -2.44318836e-01  0.00000000e+00]\n",
      "[1433.01645838]\n",
      "R2 score 0.92128334639926\n",
      "******************\n"
     ]
    },
    {
     "name": "stderr",
     "output_type": "stream",
     "text": [
      "c:\\Users\\sumit\\AppData\\Local\\Programs\\Python\\Python39\\lib\\site-packages\\sklearn\\linear_model\\_coordinate_descent.py:634: ConvergenceWarning: Objective did not converge. You might want to increase the number of iterations, check the scale of the features or consider increasing regularisation. Duality gap: 2.308e+02, tolerance: 6.109e+01\n",
      "  model = cd_fast.enet_coordinate_descent(\n",
      "c:\\Users\\sumit\\AppData\\Local\\Programs\\Python\\Python39\\lib\\site-packages\\sklearn\\linear_model\\_coordinate_descent.py:634: ConvergenceWarning: Objective did not converge. You might want to increase the number of iterations, check the scale of the features or consider increasing regularisation. Duality gap: 2.397e+02, tolerance: 6.109e+01\n",
      "  model = cd_fast.enet_coordinate_descent(\n"
     ]
    },
    {
     "name": "stdout",
     "output_type": "stream",
     "text": [
      "alpha 0.0001\n",
      "[ 7.52456817e-01 -2.25315853e+00  3.31491825e+00  3.10627593e-03\n",
      "  7.23160998e+02 -2.17513575e+03 -3.82121985e+02 -2.78816556e-01\n",
      "  1.71636988e+00 -2.44382341e-01  0.00000000e+00]\n",
      "[1432.9861773]\n",
      "R2 score 0.9212833456535764\n",
      "******************\n",
      "alpha 0.001\n",
      "[ 7.53007233e-01 -2.25297921e+00  3.29197652e+00  3.10618035e-03\n",
      "  7.22835308e+02 -2.17430073e+03 -3.81969290e+02 -2.78116027e-01\n",
      "  1.71573174e+00 -2.45017392e-01  0.00000000e+00]\n",
      "[1432.68336649]\n",
      "R2 score 0.9212832710852408\n",
      "******************\n"
     ]
    },
    {
     "name": "stderr",
     "output_type": "stream",
     "text": [
      "c:\\Users\\sumit\\AppData\\Local\\Programs\\Python\\Python39\\lib\\site-packages\\sklearn\\linear_model\\_coordinate_descent.py:634: ConvergenceWarning: Objective did not converge. You might want to increase the number of iterations, check the scale of the features or consider increasing regularisation. Duality gap: 3.290e+02, tolerance: 6.109e+01\n",
      "  model = cd_fast.enet_coordinate_descent(\n"
     ]
    },
    {
     "name": "stdout",
     "output_type": "stream",
     "text": [
      "alpha 0.01\n",
      "[ 7.58511392e-01 -2.25118599e+00  3.06255921e+00  3.10522453e-03\n",
      "  7.19578406e+02 -2.16595052e+03 -3.80442344e+02 -2.71110737e-01\n",
      "  1.70935036e+00 -2.51367904e-01  0.00000000e+00]\n",
      "[1429.65525834]\n",
      "R2 score 0.9212758142516363\n",
      "******************\n",
      "alpha 0.1\n",
      "[ 8.13552981e-01 -2.23325387e+00  7.68386149e-01  3.09566627e-03\n",
      "  6.87009388e+02 -2.08244846e+03 -3.65172884e+02 -2.01057840e-01\n",
      "  1.64553651e+00 -3.14873020e-01  0.00000000e+00]\n",
      "[1399.37417686]\n",
      "R2 score 0.9205301308911746\n",
      "******************\n",
      "alpha 1.0\n",
      "[ 1.33203160e+00 -2.10277243e+00 -1.93345383e+01  2.92881337e-03\n",
      "  3.71126241e+02 -1.28114129e+03 -2.17165267e+02 -0.00000000e+00\n",
      "  1.43815928e+00 -4.36373247e-01  0.00000000e+00]\n",
      "[1104.46533157]\n",
      "R2 score 0.8508469702130268\n",
      "******************\n",
      "alpha 10.0\n",
      "[ 8.82426626e-01 -3.03164456e+00 -4.68105718e+01  1.72330050e-04\n",
      " -0.00000000e+00 -0.00000000e+00 -2.23593400e+00 -0.00000000e+00\n",
      "  1.11505802e+00 -1.67225015e-01  0.00000000e+00]\n",
      "[805.86775277]\n",
      "R2 score 0.502977069366046\n",
      "******************\n",
      "alpha 100.0\n",
      "[-0.00000000e+00 -3.49897491e+00 -0.00000000e+00 -1.99036650e-03\n",
      " -0.00000000e+00 -0.00000000e+00 -0.00000000e+00  0.00000000e+00\n",
      " -2.04655434e-01  1.99564915e-01  0.00000000e+00]\n",
      "[671.83094337]\n",
      "R2 score 0.3271408138037739\n",
      "******************\n"
     ]
    },
    {
     "name": "stderr",
     "output_type": "stream",
     "text": [
      "c:\\Users\\sumit\\AppData\\Local\\Programs\\Python\\Python39\\lib\\site-packages\\sklearn\\linear_model\\_coordinate_descent.py:634: ConvergenceWarning: Objective did not converge. You might want to increase the number of iterations, check the scale of the features or consider increasing regularisation. Duality gap: 1.184e+03, tolerance: 6.109e+01\n",
      "  model = cd_fast.enet_coordinate_descent(\n"
     ]
    }
   ],
   "source": [
    "from sklearn import linear_model\n",
    "from sklearn.metrics import r2_score\n",
    "\n",
    "alphas = np.array([1e-5, 1e-4, 1e-3,1e-2,0.1,1,10,100])\n",
    "\n",
    "for alpha_ in alphas:\n",
    "\n",
    "    clf = linear_model.Lasso(alpha=alpha_, max_iter=100000)\n",
    "    clf.fit(x_final,y_final)\n",
    "\n",
    "    print('alpha', alpha_)\n",
    "    print(clf.coef_)\n",
    "    print(clf.intercept_)\n",
    "\n",
    "    y_pred = clf.predict(x_final)\n",
    "    R2 = r2_score(y_final, y_pred)\n",
    "    print('R2 score', R2)\n",
    "\n",
    "    print('******************')"
   ]
  },
  {
   "cell_type": "code",
   "execution_count": null,
   "metadata": {},
   "outputs": [],
   "source": []
  }
 ],
 "metadata": {
  "kernelspec": {
   "display_name": "Python 3",
   "language": "python",
   "name": "python3"
  },
  "language_info": {
   "codemirror_mode": {
    "name": "ipython",
    "version": 3
   },
   "file_extension": ".py",
   "mimetype": "text/x-python",
   "name": "python",
   "nbconvert_exporter": "python",
   "pygments_lexer": "ipython3",
   "version": "3.9.7"
  },
  "orig_nbformat": 4,
  "vscode": {
   "interpreter": {
    "hash": "9f3e08e97ec3800875dc771278e5e1cac5dd41c8b0a0d355a2afd45c26016379"
   }
  }
 },
 "nbformat": 4,
 "nbformat_minor": 2
}
