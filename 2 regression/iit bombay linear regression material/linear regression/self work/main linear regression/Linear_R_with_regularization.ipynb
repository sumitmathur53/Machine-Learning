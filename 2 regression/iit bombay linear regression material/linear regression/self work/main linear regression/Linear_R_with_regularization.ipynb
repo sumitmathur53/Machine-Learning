{
 "cells": [
  {
   "attachments": {},
   "cell_type": "markdown",
   "metadata": {},
   "source": [
    "# linaer Regression with regularizaters"
   ]
  },
  {
   "cell_type": "code",
   "execution_count": 143,
   "metadata": {},
   "outputs": [],
   "source": [
    "import pandas as pd\n",
    "import numpy as np\n",
    "import matplotlib.pyplot as plt"
   ]
  },
  {
   "cell_type": "code",
   "execution_count": 144,
   "metadata": {},
   "outputs": [
    {
     "data": {
      "text/html": [
       "<div>\n",
       "<style scoped>\n",
       "    .dataframe tbody tr th:only-of-type {\n",
       "        vertical-align: middle;\n",
       "    }\n",
       "\n",
       "    .dataframe tbody tr th {\n",
       "        vertical-align: top;\n",
       "    }\n",
       "\n",
       "    .dataframe thead th {\n",
       "        text-align: right;\n",
       "    }\n",
       "</style>\n",
       "<table border=\"1\" class=\"dataframe\">\n",
       "  <thead>\n",
       "    <tr style=\"text-align: right;\">\n",
       "      <th></th>\n",
       "      <th>0</th>\n",
       "      <th>1</th>\n",
       "      <th>2</th>\n",
       "      <th>3</th>\n",
       "      <th>4</th>\n",
       "      <th>5</th>\n",
       "      <th>6</th>\n",
       "      <th>7</th>\n",
       "      <th>8</th>\n",
       "    </tr>\n",
       "  </thead>\n",
       "  <tbody>\n",
       "    <tr>\n",
       "      <th>0</th>\n",
       "      <td>18.0</td>\n",
       "      <td>8</td>\n",
       "      <td>307.0</td>\n",
       "      <td>130.0</td>\n",
       "      <td>3504.0</td>\n",
       "      <td>12.0</td>\n",
       "      <td>70</td>\n",
       "      <td>1</td>\n",
       "      <td>chevrolet chevelle malibu</td>\n",
       "    </tr>\n",
       "    <tr>\n",
       "      <th>1</th>\n",
       "      <td>15.0</td>\n",
       "      <td>8</td>\n",
       "      <td>350.0</td>\n",
       "      <td>165.0</td>\n",
       "      <td>3693.0</td>\n",
       "      <td>11.5</td>\n",
       "      <td>70</td>\n",
       "      <td>1</td>\n",
       "      <td>buick skylark 320</td>\n",
       "    </tr>\n",
       "    <tr>\n",
       "      <th>2</th>\n",
       "      <td>18.0</td>\n",
       "      <td>8</td>\n",
       "      <td>318.0</td>\n",
       "      <td>150.0</td>\n",
       "      <td>3436.0</td>\n",
       "      <td>11.0</td>\n",
       "      <td>70</td>\n",
       "      <td>1</td>\n",
       "      <td>plymouth satellite</td>\n",
       "    </tr>\n",
       "    <tr>\n",
       "      <th>3</th>\n",
       "      <td>16.0</td>\n",
       "      <td>8</td>\n",
       "      <td>304.0</td>\n",
       "      <td>150.0</td>\n",
       "      <td>3433.0</td>\n",
       "      <td>12.0</td>\n",
       "      <td>70</td>\n",
       "      <td>1</td>\n",
       "      <td>amc rebel sst</td>\n",
       "    </tr>\n",
       "    <tr>\n",
       "      <th>4</th>\n",
       "      <td>17.0</td>\n",
       "      <td>8</td>\n",
       "      <td>302.0</td>\n",
       "      <td>140.0</td>\n",
       "      <td>3449.0</td>\n",
       "      <td>10.5</td>\n",
       "      <td>70</td>\n",
       "      <td>1</td>\n",
       "      <td>ford torino</td>\n",
       "    </tr>\n",
       "  </tbody>\n",
       "</table>\n",
       "</div>"
      ],
      "text/plain": [
       "      0  1      2      3       4     5   6  7                          8\n",
       "0  18.0  8  307.0  130.0  3504.0  12.0  70  1  chevrolet chevelle malibu\n",
       "1  15.0  8  350.0  165.0  3693.0  11.5  70  1          buick skylark 320\n",
       "2  18.0  8  318.0  150.0  3436.0  11.0  70  1         plymouth satellite\n",
       "3  16.0  8  304.0  150.0  3433.0  12.0  70  1              amc rebel sst\n",
       "4  17.0  8  302.0  140.0  3449.0  10.5  70  1                ford torino"
      ]
     },
     "execution_count": 144,
     "metadata": {},
     "output_type": "execute_result"
    }
   ],
   "source": [
    "auto_data = pd.read_csv('https://archive.ics.uci.edu/ml/machine-learning-databases/auto-mpg/auto-mpg.data', delim_whitespace=True, index_col=False, header=None)\n",
    " \n",
    "auto_data.head()"
   ]
  },
  {
   "cell_type": "code",
   "execution_count": 145,
   "metadata": {},
   "outputs": [
    {
     "data": {
      "text/plain": [
       "(398, 9)"
      ]
     },
     "execution_count": 145,
     "metadata": {},
     "output_type": "execute_result"
    }
   ],
   "source": [
    "auto_data.shape"
   ]
  },
  {
   "cell_type": "code",
   "execution_count": 146,
   "metadata": {},
   "outputs": [
    {
     "name": "stdout",
     "output_type": "stream",
     "text": [
      "1. Title: Auto-Mpg Data\n",
      "\n",
      "\n",
      "\n",
      "2. Sources:\n",
      "\n",
      "   (a) Origin:  This dataset was taken from the StatLib library which is\n",
      "\n",
      "                maintained at Carnegie Mellon University. The dataset was \n",
      "\n",
      "                used in the 1983 American Statistical Association Exposition.\n",
      "\n",
      "   (c) Date: July 7, 1993\n",
      "\n",
      "\n",
      "\n",
      "3. Past Usage:\n",
      "\n",
      "    -  See 2b (above)\n",
      "\n",
      "    -  Quinlan,R. (1993). Combining Instance-Based and Model-Based Learning.\n",
      "\n",
      "       In Proceedings on the Tenth International Conference of Machine \n",
      "\n",
      "       Learning, 236-243, University of Massachusetts, Amherst. Morgan\n",
      "\n",
      "       Kaufmann.\n",
      "\n",
      "\n",
      "\n",
      "4. Relevant Information:\n",
      "\n",
      "\n",
      "\n",
      "   This dataset is a slightly modified version of the dataset provided in\n",
      "\n",
      "   the StatLib library.  In line with the use by Ross Quinlan (1993) in\n",
      "\n",
      "   predicting the attribute \"mpg\", 8 of the original instances were removed \n",
      "\n",
      "   because they had unknown values for the \"mpg\" attribute.  The original \n",
      "\n",
      "   dataset is available in the file \"auto-mpg.data-original\".\n",
      "\n",
      "\n",
      "\n",
      "   \"The data concerns city-cycle fuel consumption in miles per gallon,\n",
      "\n",
      "    to be predicted in terms of 3 multivalued discrete and 5 continuous\n",
      "\n",
      "    attributes.\" (Quinlan, 1993)\n",
      "\n",
      "\n",
      "\n",
      "5. Number of Instances: 398\n",
      "\n",
      "\n",
      "\n",
      "6. Number of Attributes: 9 including the class attribute\n",
      "\n",
      "\n",
      "\n",
      "7. Attribute Information:\n",
      "\n",
      "\n",
      "\n",
      "    1. mpg:           continuous\n",
      "\n",
      "    2. cylinders:     multi-valued discrete\n",
      "\n",
      "    3. displacement:  continuous\n",
      "\n",
      "    4. horsepower:    continuous\n",
      "\n",
      "    5. weight:        continuous\n",
      "\n",
      "    6. acceleration:  continuous\n",
      "\n",
      "    7. model year:    multi-valued discrete\n",
      "\n",
      "    8. origin:        multi-valued discrete\n",
      "\n",
      "    9. car name:      string (unique for each instance)\n",
      "\n",
      "\n",
      "\n",
      "8. Missing Attribute Values:  horsepower has 6 missing values\n",
      "\n",
      "\n",
      "\n"
     ]
    }
   ],
   "source": [
    "\n",
    "import urllib.request  #this package is useful for accessing text files over internet \n",
    "auto_mpg_data_description_file = urllib.request.urlopen('https://archive.ics.uci.edu/ml/machine-learning-databases/auto-mpg/auto-mpg.names')\n",
    "\n",
    "\n",
    "for line in auto_mpg_data_description_file:\n",
    "  decoded_line = line.decode(\"utf-8\")\n",
    "  print(decoded_line) "
   ]
  },
  {
   "cell_type": "code",
   "execution_count": 147,
   "metadata": {},
   "outputs": [
    {
     "data": {
      "text/html": [
       "<div>\n",
       "<style scoped>\n",
       "    .dataframe tbody tr th:only-of-type {\n",
       "        vertical-align: middle;\n",
       "    }\n",
       "\n",
       "    .dataframe tbody tr th {\n",
       "        vertical-align: top;\n",
       "    }\n",
       "\n",
       "    .dataframe thead th {\n",
       "        text-align: right;\n",
       "    }\n",
       "</style>\n",
       "<table border=\"1\" class=\"dataframe\">\n",
       "  <thead>\n",
       "    <tr style=\"text-align: right;\">\n",
       "      <th></th>\n",
       "      <th>mpg</th>\n",
       "      <th>cylinders</th>\n",
       "      <th>displacement</th>\n",
       "      <th>horsepower</th>\n",
       "      <th>weight</th>\n",
       "      <th>acceleration</th>\n",
       "      <th>model year</th>\n",
       "      <th>origin</th>\n",
       "      <th>car name</th>\n",
       "    </tr>\n",
       "  </thead>\n",
       "  <tbody>\n",
       "    <tr>\n",
       "      <th>0</th>\n",
       "      <td>18.0</td>\n",
       "      <td>8</td>\n",
       "      <td>307.0</td>\n",
       "      <td>130.0</td>\n",
       "      <td>3504.0</td>\n",
       "      <td>12.0</td>\n",
       "      <td>70</td>\n",
       "      <td>1</td>\n",
       "      <td>chevrolet chevelle malibu</td>\n",
       "    </tr>\n",
       "    <tr>\n",
       "      <th>1</th>\n",
       "      <td>15.0</td>\n",
       "      <td>8</td>\n",
       "      <td>350.0</td>\n",
       "      <td>165.0</td>\n",
       "      <td>3693.0</td>\n",
       "      <td>11.5</td>\n",
       "      <td>70</td>\n",
       "      <td>1</td>\n",
       "      <td>buick skylark 320</td>\n",
       "    </tr>\n",
       "    <tr>\n",
       "      <th>2</th>\n",
       "      <td>18.0</td>\n",
       "      <td>8</td>\n",
       "      <td>318.0</td>\n",
       "      <td>150.0</td>\n",
       "      <td>3436.0</td>\n",
       "      <td>11.0</td>\n",
       "      <td>70</td>\n",
       "      <td>1</td>\n",
       "      <td>plymouth satellite</td>\n",
       "    </tr>\n",
       "    <tr>\n",
       "      <th>3</th>\n",
       "      <td>16.0</td>\n",
       "      <td>8</td>\n",
       "      <td>304.0</td>\n",
       "      <td>150.0</td>\n",
       "      <td>3433.0</td>\n",
       "      <td>12.0</td>\n",
       "      <td>70</td>\n",
       "      <td>1</td>\n",
       "      <td>amc rebel sst</td>\n",
       "    </tr>\n",
       "    <tr>\n",
       "      <th>4</th>\n",
       "      <td>17.0</td>\n",
       "      <td>8</td>\n",
       "      <td>302.0</td>\n",
       "      <td>140.0</td>\n",
       "      <td>3449.0</td>\n",
       "      <td>10.5</td>\n",
       "      <td>70</td>\n",
       "      <td>1</td>\n",
       "      <td>ford torino</td>\n",
       "    </tr>\n",
       "  </tbody>\n",
       "</table>\n",
       "</div>"
      ],
      "text/plain": [
       "    mpg  cylinders  displacement horsepower  weight  acceleration  model year  \\\n",
       "0  18.0          8         307.0      130.0  3504.0          12.0          70   \n",
       "1  15.0          8         350.0      165.0  3693.0          11.5          70   \n",
       "2  18.0          8         318.0      150.0  3436.0          11.0          70   \n",
       "3  16.0          8         304.0      150.0  3433.0          12.0          70   \n",
       "4  17.0          8         302.0      140.0  3449.0          10.5          70   \n",
       "\n",
       "   origin                   car name  \n",
       "0       1  chevrolet chevelle malibu  \n",
       "1       1          buick skylark 320  \n",
       "2       1         plymouth satellite  \n",
       "3       1              amc rebel sst  \n",
       "4       1                ford torino  "
      ]
     },
     "execution_count": 147,
     "metadata": {},
     "output_type": "execute_result"
    }
   ],
   "source": [
    "\n",
    "auto_data.columns = ['mpg', 'cylinders', 'displacement','horsepower', 'weight','acceleration','model year','origin','car name']\n",
    "\n",
    "\n",
    "#check by printing the data again\n",
    "auto_data.head()"
   ]
  },
  {
   "cell_type": "code",
   "execution_count": 148,
   "metadata": {},
   "outputs": [
    {
     "data": {
      "text/html": [
       "<div>\n",
       "<style scoped>\n",
       "    .dataframe tbody tr th:only-of-type {\n",
       "        vertical-align: middle;\n",
       "    }\n",
       "\n",
       "    .dataframe tbody tr th {\n",
       "        vertical-align: top;\n",
       "    }\n",
       "\n",
       "    .dataframe thead th {\n",
       "        text-align: right;\n",
       "    }\n",
       "</style>\n",
       "<table border=\"1\" class=\"dataframe\">\n",
       "  <thead>\n",
       "    <tr style=\"text-align: right;\">\n",
       "      <th></th>\n",
       "      <th>mpg</th>\n",
       "      <th>cylinders</th>\n",
       "      <th>displacement</th>\n",
       "      <th>horsepower</th>\n",
       "      <th>weight</th>\n",
       "      <th>acceleration</th>\n",
       "      <th>model year</th>\n",
       "      <th>origin</th>\n",
       "      <th>car name</th>\n",
       "    </tr>\n",
       "  </thead>\n",
       "  <tbody>\n",
       "    <tr>\n",
       "      <th>0</th>\n",
       "      <td>False</td>\n",
       "      <td>False</td>\n",
       "      <td>False</td>\n",
       "      <td>False</td>\n",
       "      <td>False</td>\n",
       "      <td>False</td>\n",
       "      <td>False</td>\n",
       "      <td>False</td>\n",
       "      <td>False</td>\n",
       "    </tr>\n",
       "    <tr>\n",
       "      <th>1</th>\n",
       "      <td>False</td>\n",
       "      <td>False</td>\n",
       "      <td>False</td>\n",
       "      <td>False</td>\n",
       "      <td>False</td>\n",
       "      <td>False</td>\n",
       "      <td>False</td>\n",
       "      <td>False</td>\n",
       "      <td>False</td>\n",
       "    </tr>\n",
       "    <tr>\n",
       "      <th>2</th>\n",
       "      <td>False</td>\n",
       "      <td>False</td>\n",
       "      <td>False</td>\n",
       "      <td>False</td>\n",
       "      <td>False</td>\n",
       "      <td>False</td>\n",
       "      <td>False</td>\n",
       "      <td>False</td>\n",
       "      <td>False</td>\n",
       "    </tr>\n",
       "    <tr>\n",
       "      <th>3</th>\n",
       "      <td>False</td>\n",
       "      <td>False</td>\n",
       "      <td>False</td>\n",
       "      <td>False</td>\n",
       "      <td>False</td>\n",
       "      <td>False</td>\n",
       "      <td>False</td>\n",
       "      <td>False</td>\n",
       "      <td>False</td>\n",
       "    </tr>\n",
       "    <tr>\n",
       "      <th>4</th>\n",
       "      <td>False</td>\n",
       "      <td>False</td>\n",
       "      <td>False</td>\n",
       "      <td>False</td>\n",
       "      <td>False</td>\n",
       "      <td>False</td>\n",
       "      <td>False</td>\n",
       "      <td>False</td>\n",
       "      <td>False</td>\n",
       "    </tr>\n",
       "    <tr>\n",
       "      <th>...</th>\n",
       "      <td>...</td>\n",
       "      <td>...</td>\n",
       "      <td>...</td>\n",
       "      <td>...</td>\n",
       "      <td>...</td>\n",
       "      <td>...</td>\n",
       "      <td>...</td>\n",
       "      <td>...</td>\n",
       "      <td>...</td>\n",
       "    </tr>\n",
       "    <tr>\n",
       "      <th>393</th>\n",
       "      <td>False</td>\n",
       "      <td>False</td>\n",
       "      <td>False</td>\n",
       "      <td>False</td>\n",
       "      <td>False</td>\n",
       "      <td>False</td>\n",
       "      <td>False</td>\n",
       "      <td>False</td>\n",
       "      <td>False</td>\n",
       "    </tr>\n",
       "    <tr>\n",
       "      <th>394</th>\n",
       "      <td>False</td>\n",
       "      <td>False</td>\n",
       "      <td>False</td>\n",
       "      <td>False</td>\n",
       "      <td>False</td>\n",
       "      <td>False</td>\n",
       "      <td>False</td>\n",
       "      <td>False</td>\n",
       "      <td>False</td>\n",
       "    </tr>\n",
       "    <tr>\n",
       "      <th>395</th>\n",
       "      <td>False</td>\n",
       "      <td>False</td>\n",
       "      <td>False</td>\n",
       "      <td>False</td>\n",
       "      <td>False</td>\n",
       "      <td>False</td>\n",
       "      <td>False</td>\n",
       "      <td>False</td>\n",
       "      <td>False</td>\n",
       "    </tr>\n",
       "    <tr>\n",
       "      <th>396</th>\n",
       "      <td>False</td>\n",
       "      <td>False</td>\n",
       "      <td>False</td>\n",
       "      <td>False</td>\n",
       "      <td>False</td>\n",
       "      <td>False</td>\n",
       "      <td>False</td>\n",
       "      <td>False</td>\n",
       "      <td>False</td>\n",
       "    </tr>\n",
       "    <tr>\n",
       "      <th>397</th>\n",
       "      <td>False</td>\n",
       "      <td>False</td>\n",
       "      <td>False</td>\n",
       "      <td>False</td>\n",
       "      <td>False</td>\n",
       "      <td>False</td>\n",
       "      <td>False</td>\n",
       "      <td>False</td>\n",
       "      <td>False</td>\n",
       "    </tr>\n",
       "  </tbody>\n",
       "</table>\n",
       "<p>398 rows × 9 columns</p>\n",
       "</div>"
      ],
      "text/plain": [
       "       mpg  cylinders  displacement  horsepower  weight  acceleration  \\\n",
       "0    False      False         False       False   False         False   \n",
       "1    False      False         False       False   False         False   \n",
       "2    False      False         False       False   False         False   \n",
       "3    False      False         False       False   False         False   \n",
       "4    False      False         False       False   False         False   \n",
       "..     ...        ...           ...         ...     ...           ...   \n",
       "393  False      False         False       False   False         False   \n",
       "394  False      False         False       False   False         False   \n",
       "395  False      False         False       False   False         False   \n",
       "396  False      False         False       False   False         False   \n",
       "397  False      False         False       False   False         False   \n",
       "\n",
       "     model year  origin  car name  \n",
       "0         False   False     False  \n",
       "1         False   False     False  \n",
       "2         False   False     False  \n",
       "3         False   False     False  \n",
       "4         False   False     False  \n",
       "..          ...     ...       ...  \n",
       "393       False   False     False  \n",
       "394       False   False     False  \n",
       "395       False   False     False  \n",
       "396       False   False     False  \n",
       "397       False   False     False  \n",
       "\n",
       "[398 rows x 9 columns]"
      ]
     },
     "execution_count": 148,
     "metadata": {},
     "output_type": "execute_result"
    }
   ],
   "source": [
    "auto_data.isnull()"
   ]
  },
  {
   "cell_type": "code",
   "execution_count": 149,
   "metadata": {},
   "outputs": [
    {
     "name": "stdout",
     "output_type": "stream",
     "text": [
      "mpg             0\n",
      "cylinders       0\n",
      "displacement    0\n",
      "horsepower      0\n",
      "weight          0\n",
      "acceleration    0\n",
      "model year      0\n",
      "origin          0\n",
      "car name        0\n",
      "dtype: int64\n"
     ]
    }
   ],
   "source": [
    "print(auto_data.isnull().sum())"
   ]
  },
  {
   "cell_type": "code",
   "execution_count": 150,
   "metadata": {},
   "outputs": [
    {
     "name": "stdout",
     "output_type": "stream",
     "text": [
      "mpg             129\n",
      "cylinders         5\n",
      "displacement     82\n",
      "horsepower       94\n",
      "weight          351\n",
      "acceleration     95\n",
      "model year       13\n",
      "origin            3\n",
      "car name        305\n",
      "dtype: int64\n"
     ]
    }
   ],
   "source": [
    "print(auto_data.nunique())"
   ]
  },
  {
   "attachments": {},
   "cell_type": "markdown",
   "metadata": {},
   "source": [
    "*Dropping the rows that contains \"?\" in the column \"Horsepower\"*"
   ]
  },
  {
   "cell_type": "code",
   "execution_count": 151,
   "metadata": {},
   "outputs": [],
   "source": [
    "auto_data = auto_data.replace('?', np.nan)"
   ]
  },
  {
   "cell_type": "code",
   "execution_count": 152,
   "metadata": {},
   "outputs": [
    {
     "name": "stdout",
     "output_type": "stream",
     "text": [
      "mpg             0\n",
      "cylinders       0\n",
      "displacement    0\n",
      "horsepower      6\n",
      "weight          0\n",
      "acceleration    0\n",
      "model year      0\n",
      "origin          0\n",
      "car name        0\n",
      "dtype: int64\n"
     ]
    }
   ],
   "source": [
    "print(auto_data.isnull().sum())"
   ]
  },
  {
   "cell_type": "code",
   "execution_count": 153,
   "metadata": {},
   "outputs": [
    {
     "name": "stdout",
     "output_type": "stream",
     "text": [
      "mpg             0\n",
      "cylinders       0\n",
      "displacement    0\n",
      "horsepower      0\n",
      "weight          0\n",
      "acceleration    0\n",
      "model year      0\n",
      "origin          0\n",
      "car name        0\n",
      "dtype: int64\n"
     ]
    }
   ],
   "source": [
    "auto_data = auto_data.dropna()\n",
    "print(auto_data.isnull().sum())"
   ]
  },
  {
   "cell_type": "code",
   "execution_count": 154,
   "metadata": {},
   "outputs": [
    {
     "data": {
      "text/html": [
       "<div>\n",
       "<style scoped>\n",
       "    .dataframe tbody tr th:only-of-type {\n",
       "        vertical-align: middle;\n",
       "    }\n",
       "\n",
       "    .dataframe tbody tr th {\n",
       "        vertical-align: top;\n",
       "    }\n",
       "\n",
       "    .dataframe thead th {\n",
       "        text-align: right;\n",
       "    }\n",
       "</style>\n",
       "<table border=\"1\" class=\"dataframe\">\n",
       "  <thead>\n",
       "    <tr style=\"text-align: right;\">\n",
       "      <th></th>\n",
       "      <th>mpg</th>\n",
       "      <th>cylinders</th>\n",
       "      <th>displacement</th>\n",
       "      <th>horsepower</th>\n",
       "      <th>weight</th>\n",
       "      <th>acceleration</th>\n",
       "      <th>model year</th>\n",
       "      <th>origin</th>\n",
       "      <th>car name</th>\n",
       "    </tr>\n",
       "  </thead>\n",
       "  <tbody>\n",
       "    <tr>\n",
       "      <th>0</th>\n",
       "      <td>18.0</td>\n",
       "      <td>8</td>\n",
       "      <td>307.0</td>\n",
       "      <td>130.0</td>\n",
       "      <td>3504.0</td>\n",
       "      <td>12.0</td>\n",
       "      <td>70</td>\n",
       "      <td>1</td>\n",
       "      <td>chevrolet chevelle malibu</td>\n",
       "    </tr>\n",
       "    <tr>\n",
       "      <th>1</th>\n",
       "      <td>15.0</td>\n",
       "      <td>8</td>\n",
       "      <td>350.0</td>\n",
       "      <td>165.0</td>\n",
       "      <td>3693.0</td>\n",
       "      <td>11.5</td>\n",
       "      <td>70</td>\n",
       "      <td>1</td>\n",
       "      <td>buick skylark 320</td>\n",
       "    </tr>\n",
       "    <tr>\n",
       "      <th>2</th>\n",
       "      <td>18.0</td>\n",
       "      <td>8</td>\n",
       "      <td>318.0</td>\n",
       "      <td>150.0</td>\n",
       "      <td>3436.0</td>\n",
       "      <td>11.0</td>\n",
       "      <td>70</td>\n",
       "      <td>1</td>\n",
       "      <td>plymouth satellite</td>\n",
       "    </tr>\n",
       "    <tr>\n",
       "      <th>3</th>\n",
       "      <td>16.0</td>\n",
       "      <td>8</td>\n",
       "      <td>304.0</td>\n",
       "      <td>150.0</td>\n",
       "      <td>3433.0</td>\n",
       "      <td>12.0</td>\n",
       "      <td>70</td>\n",
       "      <td>1</td>\n",
       "      <td>amc rebel sst</td>\n",
       "    </tr>\n",
       "    <tr>\n",
       "      <th>4</th>\n",
       "      <td>17.0</td>\n",
       "      <td>8</td>\n",
       "      <td>302.0</td>\n",
       "      <td>140.0</td>\n",
       "      <td>3449.0</td>\n",
       "      <td>10.5</td>\n",
       "      <td>70</td>\n",
       "      <td>1</td>\n",
       "      <td>ford torino</td>\n",
       "    </tr>\n",
       "    <tr>\n",
       "      <th>...</th>\n",
       "      <td>...</td>\n",
       "      <td>...</td>\n",
       "      <td>...</td>\n",
       "      <td>...</td>\n",
       "      <td>...</td>\n",
       "      <td>...</td>\n",
       "      <td>...</td>\n",
       "      <td>...</td>\n",
       "      <td>...</td>\n",
       "    </tr>\n",
       "    <tr>\n",
       "      <th>393</th>\n",
       "      <td>27.0</td>\n",
       "      <td>4</td>\n",
       "      <td>140.0</td>\n",
       "      <td>86.00</td>\n",
       "      <td>2790.0</td>\n",
       "      <td>15.6</td>\n",
       "      <td>82</td>\n",
       "      <td>1</td>\n",
       "      <td>ford mustang gl</td>\n",
       "    </tr>\n",
       "    <tr>\n",
       "      <th>394</th>\n",
       "      <td>44.0</td>\n",
       "      <td>4</td>\n",
       "      <td>97.0</td>\n",
       "      <td>52.00</td>\n",
       "      <td>2130.0</td>\n",
       "      <td>24.6</td>\n",
       "      <td>82</td>\n",
       "      <td>2</td>\n",
       "      <td>vw pickup</td>\n",
       "    </tr>\n",
       "    <tr>\n",
       "      <th>395</th>\n",
       "      <td>32.0</td>\n",
       "      <td>4</td>\n",
       "      <td>135.0</td>\n",
       "      <td>84.00</td>\n",
       "      <td>2295.0</td>\n",
       "      <td>11.6</td>\n",
       "      <td>82</td>\n",
       "      <td>1</td>\n",
       "      <td>dodge rampage</td>\n",
       "    </tr>\n",
       "    <tr>\n",
       "      <th>396</th>\n",
       "      <td>28.0</td>\n",
       "      <td>4</td>\n",
       "      <td>120.0</td>\n",
       "      <td>79.00</td>\n",
       "      <td>2625.0</td>\n",
       "      <td>18.6</td>\n",
       "      <td>82</td>\n",
       "      <td>1</td>\n",
       "      <td>ford ranger</td>\n",
       "    </tr>\n",
       "    <tr>\n",
       "      <th>397</th>\n",
       "      <td>31.0</td>\n",
       "      <td>4</td>\n",
       "      <td>119.0</td>\n",
       "      <td>82.00</td>\n",
       "      <td>2720.0</td>\n",
       "      <td>19.4</td>\n",
       "      <td>82</td>\n",
       "      <td>1</td>\n",
       "      <td>chevy s-10</td>\n",
       "    </tr>\n",
       "  </tbody>\n",
       "</table>\n",
       "<p>392 rows × 9 columns</p>\n",
       "</div>"
      ],
      "text/plain": [
       "      mpg  cylinders  displacement horsepower  weight  acceleration  \\\n",
       "0    18.0          8         307.0      130.0  3504.0          12.0   \n",
       "1    15.0          8         350.0      165.0  3693.0          11.5   \n",
       "2    18.0          8         318.0      150.0  3436.0          11.0   \n",
       "3    16.0          8         304.0      150.0  3433.0          12.0   \n",
       "4    17.0          8         302.0      140.0  3449.0          10.5   \n",
       "..    ...        ...           ...        ...     ...           ...   \n",
       "393  27.0          4         140.0      86.00  2790.0          15.6   \n",
       "394  44.0          4          97.0      52.00  2130.0          24.6   \n",
       "395  32.0          4         135.0      84.00  2295.0          11.6   \n",
       "396  28.0          4         120.0      79.00  2625.0          18.6   \n",
       "397  31.0          4         119.0      82.00  2720.0          19.4   \n",
       "\n",
       "     model year  origin                   car name  \n",
       "0            70       1  chevrolet chevelle malibu  \n",
       "1            70       1          buick skylark 320  \n",
       "2            70       1         plymouth satellite  \n",
       "3            70       1              amc rebel sst  \n",
       "4            70       1                ford torino  \n",
       "..          ...     ...                        ...  \n",
       "393          82       1            ford mustang gl  \n",
       "394          82       2                  vw pickup  \n",
       "395          82       1              dodge rampage  \n",
       "396          82       1                ford ranger  \n",
       "397          82       1                 chevy s-10  \n",
       "\n",
       "[392 rows x 9 columns]"
      ]
     },
     "execution_count": 154,
     "metadata": {},
     "output_type": "execute_result"
    }
   ],
   "source": [
    "auto_data"
   ]
  },
  {
   "cell_type": "code",
   "execution_count": 155,
   "metadata": {},
   "outputs": [],
   "source": [
    "auto_data.drop('car name', axis = 1, inplace=True)"
   ]
  },
  {
   "cell_type": "code",
   "execution_count": 156,
   "metadata": {},
   "outputs": [
    {
     "data": {
      "text/html": [
       "<div>\n",
       "<style scoped>\n",
       "    .dataframe tbody tr th:only-of-type {\n",
       "        vertical-align: middle;\n",
       "    }\n",
       "\n",
       "    .dataframe tbody tr th {\n",
       "        vertical-align: top;\n",
       "    }\n",
       "\n",
       "    .dataframe thead th {\n",
       "        text-align: right;\n",
       "    }\n",
       "</style>\n",
       "<table border=\"1\" class=\"dataframe\">\n",
       "  <thead>\n",
       "    <tr style=\"text-align: right;\">\n",
       "      <th></th>\n",
       "      <th>mpg</th>\n",
       "      <th>cylinders</th>\n",
       "      <th>displacement</th>\n",
       "      <th>horsepower</th>\n",
       "      <th>weight</th>\n",
       "      <th>acceleration</th>\n",
       "      <th>model year</th>\n",
       "      <th>origin</th>\n",
       "    </tr>\n",
       "  </thead>\n",
       "  <tbody>\n",
       "    <tr>\n",
       "      <th>0</th>\n",
       "      <td>18.0</td>\n",
       "      <td>8</td>\n",
       "      <td>307.0</td>\n",
       "      <td>130.0</td>\n",
       "      <td>3504.0</td>\n",
       "      <td>12.0</td>\n",
       "      <td>70</td>\n",
       "      <td>1</td>\n",
       "    </tr>\n",
       "    <tr>\n",
       "      <th>1</th>\n",
       "      <td>15.0</td>\n",
       "      <td>8</td>\n",
       "      <td>350.0</td>\n",
       "      <td>165.0</td>\n",
       "      <td>3693.0</td>\n",
       "      <td>11.5</td>\n",
       "      <td>70</td>\n",
       "      <td>1</td>\n",
       "    </tr>\n",
       "    <tr>\n",
       "      <th>2</th>\n",
       "      <td>18.0</td>\n",
       "      <td>8</td>\n",
       "      <td>318.0</td>\n",
       "      <td>150.0</td>\n",
       "      <td>3436.0</td>\n",
       "      <td>11.0</td>\n",
       "      <td>70</td>\n",
       "      <td>1</td>\n",
       "    </tr>\n",
       "    <tr>\n",
       "      <th>3</th>\n",
       "      <td>16.0</td>\n",
       "      <td>8</td>\n",
       "      <td>304.0</td>\n",
       "      <td>150.0</td>\n",
       "      <td>3433.0</td>\n",
       "      <td>12.0</td>\n",
       "      <td>70</td>\n",
       "      <td>1</td>\n",
       "    </tr>\n",
       "    <tr>\n",
       "      <th>4</th>\n",
       "      <td>17.0</td>\n",
       "      <td>8</td>\n",
       "      <td>302.0</td>\n",
       "      <td>140.0</td>\n",
       "      <td>3449.0</td>\n",
       "      <td>10.5</td>\n",
       "      <td>70</td>\n",
       "      <td>1</td>\n",
       "    </tr>\n",
       "  </tbody>\n",
       "</table>\n",
       "</div>"
      ],
      "text/plain": [
       "    mpg  cylinders  displacement horsepower  weight  acceleration  model year  \\\n",
       "0  18.0          8         307.0      130.0  3504.0          12.0          70   \n",
       "1  15.0          8         350.0      165.0  3693.0          11.5          70   \n",
       "2  18.0          8         318.0      150.0  3436.0          11.0          70   \n",
       "3  16.0          8         304.0      150.0  3433.0          12.0          70   \n",
       "4  17.0          8         302.0      140.0  3449.0          10.5          70   \n",
       "\n",
       "   origin  \n",
       "0       1  \n",
       "1       1  \n",
       "2       1  \n",
       "3       1  \n",
       "4       1  "
      ]
     },
     "execution_count": 156,
     "metadata": {},
     "output_type": "execute_result"
    }
   ],
   "source": [
    "auto_data.head()"
   ]
  },
  {
   "cell_type": "code",
   "execution_count": 157,
   "metadata": {},
   "outputs": [],
   "source": [
    "auto_data.drop(['model year', 'origin'], axis=1, inplace=True)"
   ]
  },
  {
   "cell_type": "code",
   "execution_count": 158,
   "metadata": {},
   "outputs": [
    {
     "data": {
      "text/plain": [
       "mpg             float64\n",
       "cylinders         int64\n",
       "displacement    float64\n",
       "horsepower       object\n",
       "weight          float64\n",
       "acceleration    float64\n",
       "dtype: object"
      ]
     },
     "execution_count": 158,
     "metadata": {},
     "output_type": "execute_result"
    }
   ],
   "source": [
    "auto_data.dtypes"
   ]
  },
  {
   "cell_type": "code",
   "execution_count": 159,
   "metadata": {},
   "outputs": [],
   "source": [
    "auto_data = auto_data.astype(float)"
   ]
  },
  {
   "cell_type": "code",
   "execution_count": 160,
   "metadata": {},
   "outputs": [
    {
     "data": {
      "text/plain": [
       "mpg             float64\n",
       "cylinders       float64\n",
       "displacement    float64\n",
       "horsepower      float64\n",
       "weight          float64\n",
       "acceleration    float64\n",
       "dtype: object"
      ]
     },
     "execution_count": 160,
     "metadata": {},
     "output_type": "execute_result"
    }
   ],
   "source": [
    "auto_data.dtypes"
   ]
  },
  {
   "attachments": {},
   "cell_type": "markdown",
   "metadata": {},
   "source": [
    "## Making a Train-Test-Validation split.."
   ]
  },
  {
   "cell_type": "code",
   "execution_count": 161,
   "metadata": {},
   "outputs": [],
   "source": [
    "auto_data_train = auto_data.sample(frac=0.8, random_state=200)\n",
    "auto_data_test = auto_data.drop(auto_data_train.index)"
   ]
  },
  {
   "cell_type": "code",
   "execution_count": 162,
   "metadata": {},
   "outputs": [
    {
     "data": {
      "text/plain": [
       "(314, 78)"
      ]
     },
     "execution_count": 162,
     "metadata": {},
     "output_type": "execute_result"
    }
   ],
   "source": [
    "len(auto_data_train) , len(auto_data_test)"
   ]
  },
  {
   "cell_type": "code",
   "execution_count": 163,
   "metadata": {},
   "outputs": [],
   "source": [
    "auto_data_train_final = auto_data_train.sample(frac=0.8, random_state=200)\n",
    "auto_data_val = auto_data_train.drop(auto_data_train_final.index)"
   ]
  },
  {
   "cell_type": "code",
   "execution_count": 164,
   "metadata": {},
   "outputs": [
    {
     "data": {
      "text/plain": [
       "(251, 63, 78)"
      ]
     },
     "execution_count": 164,
     "metadata": {},
     "output_type": "execute_result"
    }
   ],
   "source": [
    "len(auto_data_train_final),len(auto_data_val),len(auto_data_test)"
   ]
  },
  {
   "attachments": {},
   "cell_type": "markdown",
   "metadata": {},
   "source": [
    "## computing beta"
   ]
  },
  {
   "cell_type": "code",
   "execution_count": 165,
   "metadata": {},
   "outputs": [],
   "source": [
    "n_train = len(auto_data_train_final)\n",
    "n_val = len(auto_data_val)\n",
    "n_test = len(auto_data_test)"
   ]
  },
  {
   "cell_type": "code",
   "execution_count": 166,
   "metadata": {},
   "outputs": [],
   "source": [
    "cols = list(np.arange(1,6))\n",
    "\n",
    "x_train = auto_data_train_final[auto_data_train_final.columns[cols]]\n",
    "x_val = auto_data_val[auto_data_val.columns[cols]]\n",
    "x_test = auto_data_test[auto_data_test.columns[cols]]"
   ]
  },
  {
   "cell_type": "code",
   "execution_count": 167,
   "metadata": {},
   "outputs": [
    {
     "data": {
      "text/html": [
       "<div>\n",
       "<style scoped>\n",
       "    .dataframe tbody tr th:only-of-type {\n",
       "        vertical-align: middle;\n",
       "    }\n",
       "\n",
       "    .dataframe tbody tr th {\n",
       "        vertical-align: top;\n",
       "    }\n",
       "\n",
       "    .dataframe thead th {\n",
       "        text-align: right;\n",
       "    }\n",
       "</style>\n",
       "<table border=\"1\" class=\"dataframe\">\n",
       "  <thead>\n",
       "    <tr style=\"text-align: right;\">\n",
       "      <th></th>\n",
       "      <th>cylinders</th>\n",
       "      <th>displacement</th>\n",
       "      <th>horsepower</th>\n",
       "      <th>weight</th>\n",
       "      <th>acceleration</th>\n",
       "    </tr>\n",
       "  </thead>\n",
       "  <tbody>\n",
       "    <tr>\n",
       "      <th>28</th>\n",
       "      <td>8.0</td>\n",
       "      <td>304.0</td>\n",
       "      <td>193.0</td>\n",
       "      <td>4732.0</td>\n",
       "      <td>18.5</td>\n",
       "    </tr>\n",
       "    <tr>\n",
       "      <th>154</th>\n",
       "      <td>6.0</td>\n",
       "      <td>250.0</td>\n",
       "      <td>72.0</td>\n",
       "      <td>3432.0</td>\n",
       "      <td>21.0</td>\n",
       "    </tr>\n",
       "    <tr>\n",
       "      <th>337</th>\n",
       "      <td>4.0</td>\n",
       "      <td>107.0</td>\n",
       "      <td>72.0</td>\n",
       "      <td>2290.0</td>\n",
       "      <td>17.0</td>\n",
       "    </tr>\n",
       "    <tr>\n",
       "      <th>93</th>\n",
       "      <td>8.0</td>\n",
       "      <td>318.0</td>\n",
       "      <td>150.0</td>\n",
       "      <td>4237.0</td>\n",
       "      <td>14.5</td>\n",
       "    </tr>\n",
       "    <tr>\n",
       "      <th>109</th>\n",
       "      <td>4.0</td>\n",
       "      <td>140.0</td>\n",
       "      <td>72.0</td>\n",
       "      <td>2401.0</td>\n",
       "      <td>19.5</td>\n",
       "    </tr>\n",
       "    <tr>\n",
       "      <th>...</th>\n",
       "      <td>...</td>\n",
       "      <td>...</td>\n",
       "      <td>...</td>\n",
       "      <td>...</td>\n",
       "      <td>...</td>\n",
       "    </tr>\n",
       "    <tr>\n",
       "      <th>371</th>\n",
       "      <td>4.0</td>\n",
       "      <td>135.0</td>\n",
       "      <td>84.0</td>\n",
       "      <td>2525.0</td>\n",
       "      <td>16.0</td>\n",
       "    </tr>\n",
       "    <tr>\n",
       "      <th>12</th>\n",
       "      <td>8.0</td>\n",
       "      <td>400.0</td>\n",
       "      <td>150.0</td>\n",
       "      <td>3761.0</td>\n",
       "      <td>9.5</td>\n",
       "    </tr>\n",
       "    <tr>\n",
       "      <th>379</th>\n",
       "      <td>4.0</td>\n",
       "      <td>98.0</td>\n",
       "      <td>70.0</td>\n",
       "      <td>2125.0</td>\n",
       "      <td>17.3</td>\n",
       "    </tr>\n",
       "    <tr>\n",
       "      <th>199</th>\n",
       "      <td>6.0</td>\n",
       "      <td>225.0</td>\n",
       "      <td>100.0</td>\n",
       "      <td>3651.0</td>\n",
       "      <td>17.7</td>\n",
       "    </tr>\n",
       "    <tr>\n",
       "      <th>362</th>\n",
       "      <td>6.0</td>\n",
       "      <td>146.0</td>\n",
       "      <td>120.0</td>\n",
       "      <td>2930.0</td>\n",
       "      <td>13.8</td>\n",
       "    </tr>\n",
       "  </tbody>\n",
       "</table>\n",
       "<p>251 rows × 5 columns</p>\n",
       "</div>"
      ],
      "text/plain": [
       "     cylinders  displacement  horsepower  weight  acceleration\n",
       "28         8.0         304.0       193.0  4732.0          18.5\n",
       "154        6.0         250.0        72.0  3432.0          21.0\n",
       "337        4.0         107.0        72.0  2290.0          17.0\n",
       "93         8.0         318.0       150.0  4237.0          14.5\n",
       "109        4.0         140.0        72.0  2401.0          19.5\n",
       "..         ...           ...         ...     ...           ...\n",
       "371        4.0         135.0        84.0  2525.0          16.0\n",
       "12         8.0         400.0       150.0  3761.0           9.5\n",
       "379        4.0          98.0        70.0  2125.0          17.3\n",
       "199        6.0         225.0       100.0  3651.0          17.7\n",
       "362        6.0         146.0       120.0  2930.0          13.8\n",
       "\n",
       "[251 rows x 5 columns]"
      ]
     },
     "execution_count": 167,
     "metadata": {},
     "output_type": "execute_result"
    }
   ],
   "source": [
    "x_train"
   ]
  },
  {
   "attachments": {},
   "cell_type": "markdown",
   "metadata": {},
   "source": [
    "converting to numpy array"
   ]
  },
  {
   "cell_type": "code",
   "execution_count": 168,
   "metadata": {},
   "outputs": [],
   "source": [
    "x_train = x_train.to_numpy()\n",
    "x_test = x_test.to_numpy()\n",
    "x_val = x_val.to_numpy()"
   ]
  },
  {
   "attachments": {},
   "cell_type": "markdown",
   "metadata": {},
   "source": [
    "adding collumn of one at last row"
   ]
  },
  {
   "cell_type": "code",
   "execution_count": 169,
   "metadata": {},
   "outputs": [],
   "source": [
    "x_train = np.hstack((x_train, np.ones((x_train.shape[0],1), dtype=x_train.dtype)))\n",
    "\n",
    "x_test = np.hstack((x_test, np.ones((x_test.shape[0], 1), dtype=x_test.dtype)))\n",
    "\n",
    "x_val = np.hstack((x_val, np.ones((x_val.shape[0], 1), dtype=x_test.dtype)))\n"
   ]
  },
  {
   "cell_type": "code",
   "execution_count": 170,
   "metadata": {},
   "outputs": [],
   "source": [
    "y_train = auto_data_train_final[auto_data_train_final.columns[0]].to_numpy()\n",
    "y_test = auto_data_test[auto_data_test.columns[0]].to_numpy()\n",
    "y_val = auto_data_val[auto_data_val.columns[0]].to_numpy()"
   ]
  },
  {
   "cell_type": "code",
   "execution_count": 171,
   "metadata": {},
   "outputs": [
    {
     "name": "stdout",
     "output_type": "stream",
     "text": [
      "XTX (6, 6)\n"
     ]
    }
   ],
   "source": [
    "XTX = np.matmul(np.transpose(x_train),x_train)\n",
    "\n",
    "print('XTX', XTX.shape)"
   ]
  },
  {
   "cell_type": "code",
   "execution_count": 172,
   "metadata": {},
   "outputs": [
    {
     "data": {
      "text/plain": [
       "(251,)"
      ]
     },
     "execution_count": 172,
     "metadata": {},
     "output_type": "execute_result"
    }
   ],
   "source": [
    "y_train.shape"
   ]
  },
  {
   "cell_type": "code",
   "execution_count": 173,
   "metadata": {},
   "outputs": [],
   "source": [
    "y_train = y_train.reshape(251,1)"
   ]
  },
  {
   "cell_type": "code",
   "execution_count": 174,
   "metadata": {},
   "outputs": [
    {
     "name": "stdout",
     "output_type": "stream",
     "text": [
      "XTY (6, 1)\n"
     ]
    }
   ],
   "source": [
    "XTY = np.matmul(np.transpose(x_train),y_train)\n",
    "print('XTY',XTY.shape)"
   ]
  },
  {
   "cell_type": "code",
   "execution_count": 175,
   "metadata": {},
   "outputs": [
    {
     "name": "stdout",
     "output_type": "stream",
     "text": [
      "[[-7.62518627e-01]\n",
      " [ 2.11672711e-03]\n",
      " [-6.05537356e-02]\n",
      " [-4.41112684e-03]\n",
      " [-3.73921880e-01]\n",
      " [ 5.22567833e+01]]\n"
     ]
    }
   ],
   "source": [
    "beta = np.linalg.solve(XTX,XTY)\n",
    "print(beta)"
   ]
  },
  {
   "cell_type": "code",
   "execution_count": 176,
   "metadata": {},
   "outputs": [
    {
     "name": "stdout",
     "output_type": "stream",
     "text": [
      "6\n",
      "False\n"
     ]
    }
   ],
   "source": [
    "print(np.linalg.matrix_rank(XTX))\n",
    "\n",
    "XTX_inv = np.linalg.inv(XTX)\n",
    "\n",
    "is_identity = np.all(np.matmul(XTX,XTX_inv)==np.identity(XTX.shape[0]))\n",
    "print(is_identity)"
   ]
  },
  {
   "attachments": {},
   "cell_type": "markdown",
   "metadata": {},
   "source": [
    "$\\textbf{Note:}$ Because the matrix $X^\\top X$ is full-rank, that is, $\\text{rank}(X^\\top X)=6$, we see that $\\texttt{numpy}$ does not raise any error while computing the inverse of $X^\\top X$. But, if it would have been not a full rank matrix, numpy might have raised an error. We will use $\\texttt{scipy}$ to solve for $\\beta$ and check if we get any error or not. "
   ]
  },
  {
   "cell_type": "code",
   "execution_count": 177,
   "metadata": {},
   "outputs": [],
   "source": [
    "import scipy.linalg\n",
    "#Now we are ready for finding beta\n",
    "#print('X shape:',X.shape,'y shape:',y.shape)\n",
    "\n",
    "XTX = np.matmul(np.transpose(x_train),x_train)\n",
    "#print('XTX shape:',XTX.shape)\n",
    "\n",
    "XTY = np.matmul(np.transpose(x_train),y_train)\n",
    "#print('Xy shape:',Xy.shape)\n",
    "\n",
    "beta =scipy.linalg.solve(XTX,XTY)\n",
    "#beta = np.matmul(scipy.linalg.inv(XTX),Xy)"
   ]
  },
  {
   "cell_type": "code",
   "execution_count": 178,
   "metadata": {},
   "outputs": [
    {
     "data": {
      "text/plain": [
       "array([[-7.62518627e-01],\n",
       "       [ 2.11672711e-03],\n",
       "       [-6.05537356e-02],\n",
       "       [-4.41112684e-03],\n",
       "       [-3.73921880e-01],\n",
       "       [ 5.22567833e+01]])"
      ]
     },
     "execution_count": 178,
     "metadata": {},
     "output_type": "execute_result"
    }
   ],
   "source": [
    "beta"
   ]
  },
  {
   "cell_type": "code",
   "execution_count": 179,
   "metadata": {},
   "outputs": [
    {
     "name": "stdout",
     "output_type": "stream",
     "text": [
      "1419028386.6829646\n"
     ]
    }
   ],
   "source": [
    "print(np.linalg.cond(XTX))"
   ]
  },
  {
   "attachments": {},
   "cell_type": "markdown",
   "metadata": {},
   "source": [
    "We can see that the ill-conditioning of $X^\\top X$ might lead to wild changes in solutions of linear regression parameters, even for small changes in the output $\\mathbf{y}$. "
   ]
  },
  {
   "attachments": {},
   "cell_type": "markdown",
   "metadata": {},
   "source": [
    "With $\\lambda \\in \\{0, 10^{-5},10^{-4}, 10^{-3},10^{-2},0.1, 1, 10, 100, 1000, 10000\\}$ let us check the condition number of $(X^\\top X+\\lambda I)$. "
   ]
  },
  {
   "cell_type": "code",
   "execution_count": 180,
   "metadata": {},
   "outputs": [
    {
     "name": "stdout",
     "output_type": "stream",
     "text": [
      "lambda: 0.0 cond(XTX+lambda I): 1419028386.6829646\n",
      "lambda: 1e-05 cond(XTX+lambda I): 1419020062.6554148\n",
      "lambda: 0.0001 cond(XTX+lambda I): 1418945150.5655844\n",
      "lambda: 0.001 cond(XTX+lambda I): 1418196464.4657183\n",
      "lambda: 0.01 cond(XTX+lambda I): 1410752829.3206525\n",
      "lambda: 0.1 cond(XTX+lambda I): 1340399764.1572118\n",
      "lambda: 1.0 cond(XTX+lambda I): 894379952.8491508\n",
      "lambda: 10.0 cond(XTX+lambda I): 206672951.13640776\n",
      "lambda: 100.0 cond(XTX+lambda I): 23785027.4660599\n",
      "lambda: 1000.0 cond(XTX+lambda I): 2414933.724689472\n",
      "lambda: 10000.0 cond(XTX+lambda I): 241864.72041580544\n"
     ]
    }
   ],
   "source": [
    "lambdas = np.array([0,1e-5,1e-4,1e-3,1e-2,1e-1,1,10,100,1000,10000])\n",
    "I = np.identity(XTX.shape[0])\n",
    "\n",
    "for lambda_ in lambdas:\n",
    "  print('lambda:',lambda_,'cond(XTX+lambda I):', np.linalg.cond(XTX+lambda_*I))"
   ]
  },
  {
   "cell_type": "code",
   "execution_count": 181,
   "metadata": {},
   "outputs": [
    {
     "name": "stdout",
     "output_type": "stream",
     "text": [
      "(6, 6)\n",
      "6\n"
     ]
    }
   ],
   "source": [
    "I = np.identity(XTX.shape[0])\n",
    "print(I.shape)\n",
    "print(XTX.shape[0])"
   ]
  },
  {
   "cell_type": "code",
   "execution_count": 182,
   "metadata": {},
   "outputs": [
    {
     "name": "stdout",
     "output_type": "stream",
     "text": [
      "lambda 0.0\n",
      "beta [[-7.62518627e-01]\n",
      " [ 2.11672711e-03]\n",
      " [-6.05537356e-02]\n",
      " [-4.41112684e-03]\n",
      " [-3.73921880e-01]\n",
      " [ 5.22567833e+01]]\n",
      "********************\n",
      "lambda 1e-05\n",
      "beta [[-7.62498652e-01]\n",
      " [ 2.11636006e-03]\n",
      " [-6.05526317e-02]\n",
      " [-4.41114136e-03]\n",
      " [-3.73909414e-01]\n",
      " [ 5.22564782e+01]]\n",
      "********************\n",
      "lambda 0.0001\n",
      "beta [[-7.62318892e-01]\n",
      " [ 2.11305684e-03]\n",
      " [-6.05426971e-02]\n",
      " [-4.41127199e-03]\n",
      " [-3.73797229e-01]\n",
      " [ 5.22537326e+01]]\n",
      "********************\n",
      "lambda 0.001\n",
      "beta [[-7.60522352e-01]\n",
      " [ 2.08004399e-03]\n",
      " [-6.04434081e-02]\n",
      " [-4.41257757e-03]\n",
      " [-3.72676022e-01]\n",
      " [ 5.22262923e+01]]\n",
      "********************\n",
      "lambda 0.01\n",
      "beta [[-7.42662253e-01]\n",
      " [ 1.75184078e-03]\n",
      " [-5.94562431e-02]\n",
      " [-4.42555720e-03]\n",
      " [-3.61528569e-01]\n",
      " [ 5.19534739e+01]]\n",
      "********************\n",
      "lambda 0.1\n",
      "beta [[-5.74008595e-01]\n",
      " [-1.34832630e-03]\n",
      " [-5.01253813e-02]\n",
      " [-4.54816018e-03]\n",
      " [-2.56157419e-01]\n",
      " [ 4.93749382e+01]]\n",
      "********************\n",
      "lambda 1.0\n",
      "beta [[ 4.85325902e-01]\n",
      " [-2.08824238e-02]\n",
      " [ 9.07797377e-03]\n",
      " [-5.32057850e-03]\n",
      " [ 4.12634640e-01]\n",
      " [ 3.30270779e+01]]\n",
      "********************\n",
      "lambda 10.0\n",
      "beta [[ 1.91536398e+00]\n",
      " [-4.85688735e-02]\n",
      " [ 1.01335383e-01]\n",
      " [-6.40601516e-03]\n",
      " [ 1.45908216e+00]\n",
      " [ 7.80781602e+00]]\n",
      "********************\n",
      "lambda 100.0\n",
      "beta [[ 1.24630213]\n",
      " [-0.04552888]\n",
      " [ 0.12991688]\n",
      " [-0.00582906]\n",
      " [ 1.78699969]\n",
      " [ 1.03328661]]\n",
      "********************\n",
      "lambda 1000.0\n",
      "beta [[ 3.26246850e-01]\n",
      " [-6.43538459e-02]\n",
      " [ 1.23705906e-01]\n",
      " [-9.45816655e-04]\n",
      " [ 1.49178695e+00]\n",
      " [ 1.72102398e-01]]\n",
      "********************\n",
      "lambda 10000.0\n",
      "beta [[ 0.06443237]\n",
      " [-0.13467144]\n",
      " [ 0.0817568 ]\n",
      " [ 0.0106972 ]\n",
      " [ 0.48095442]\n",
      " [ 0.03327576]]\n",
      "********************\n"
     ]
    }
   ],
   "source": [
    "betas = []\n",
    "\n",
    "for lambda_ in lambdas:\n",
    "    beta = scipy.linalg.solve(XTX + lambda_ * I, XTY)\n",
    "    print('lambda', lambda_)\n",
    "    print('beta', beta)\n",
    "    print(\"********************\")\n",
    "    betas.append(beta.reshape(6,1))"
   ]
  },
  {
   "attachments": {},
   "cell_type": "markdown",
   "metadata": {},
   "source": [
    "$\\Large{\\text{Residual Plot}}$\n",
    "\n",
    "Sometimes it would be useful to plot the error (or) $\\textbf{residual}$ $e^i$ versus the fitted values $\\hat{y}^i=\\beta_0 + \\sum_{j=1}^{d} \\beta_j x^i_j$.  "
   ]
  },
  {
   "cell_type": "code",
   "execution_count": 183,
   "metadata": {},
   "outputs": [
    {
     "data": {
      "image/png": "[encoded data removed]",
      "text/plain": [
       "<Figure size 432x288 with 1 Axes>"
      ]
     },
     "metadata": {
      "needs_background": "light"
     },
     "output_type": "display_data"
    },
    {
     "data": {
      "image/png": "[encoded data removed]",
      "text/plain": [
       "<Figure size 432x288 with 1 Axes>"
      ]
     },
     "metadata": {
      "needs_background": "light"
     },
     "output_type": "display_data"
    },
    {
     "data": {
      "image/png": "[encoded data removed]",
      "text/plain": [
       "<Figure size 432x288 with 1 Axes>"
      ]
     },
     "metadata": {
      "needs_background": "light"
     },
     "output_type": "display_data"
    },
    {
     "data": {
      "image/png": "[encoded data removed]",
      "text/plain": [
       "<Figure size 432x288 with 1 Axes>"
      ]
     },
     "metadata": {
      "needs_background": "light"
     },
     "output_type": "display_data"
    },
    {
     "data": {
      "image/png": "[encoded data removed]",
      "text/plain": [
       "<Figure size 432x288 with 1 Axes>"
      ]
     },
     "metadata": {
      "needs_background": "light"
     },
     "output_type": "display_data"
    },
    {
     "data": {
      "image/png": "[encoded data removed]",
      "text/plain": [
       "<Figure size 432x288 with 1 Axes>"
      ]
     },
     "metadata": {
      "needs_background": "light"
     },
     "output_type": "display_data"
    },
    {
     "data": {
      "image/png": "[encoded data removed]",
      "text/plain": [
       "<Figure size 432x288 with 1 Axes>"
      ]
     },
     "metadata": {
      "needs_background": "light"
     },
     "output_type": "display_data"
    },
    {
     "data": {
      "image/png": "[encoded data removed]",
      "text/plain": [
       "<Figure size 432x288 with 1 Axes>"
      ]
     },
     "metadata": {
      "needs_background": "light"
     },
     "output_type": "display_data"
    },
    {
     "data": {
      "image/png": "[encoded data removed]",
      "text/plain": [
       "<Figure size 432x288 with 1 Axes>"
      ]
     },
     "metadata": {
      "needs_background": "light"
     },
     "output_type": "display_data"
    },
    {
     "data": {
      "image/png": "[encoded data removed]",
      "text/plain": [
       "<Figure size 432x288 with 1 Axes>"
      ]
     },
     "metadata": {
      "needs_background": "light"
     },
     "output_type": "display_data"
    },
    {
     "data": {
      "image/png": "[encoded data removed]",
      "text/plain": [
       "<Figure size 432x288 with 1 Axes>"
      ]
     },
     "metadata": {
      "needs_background": "light"
     },
     "output_type": "display_data"
    }
   ],
   "source": [
    "beta_idx = 0\n",
    "\n",
    "for lambda_ in lambdas:\n",
    "    beta = betas[beta_idx]\n",
    "    beta_idx += 1\n",
    "\n",
    "    e_i_residual_list = []\n",
    "    xlabel = 'mpg lambda='+str(lambda_)\n",
    "\n",
    "\n",
    "    for i in range(n_train):\n",
    "\n",
    "        x_i = x_train[i,:]\n",
    "        y_i = y_train[i]\n",
    "\n",
    "        y_pred_i = np.dot(x_i, beta)\n",
    "        e_i = y_i - y_pred_i\n",
    "\n",
    "        e_i_residual_list.append(e_i)\n",
    "    \n",
    "    plt.scatter(auto_data_train_final['mpg'], e_i_residual_list, color = 'r')\n",
    "    plt.title(\"Residual plot\")\n",
    "    plt.xlabel(xlabel)\n",
    "    plt.ylabel(\"Residuals\")\n",
    "    plt.grid()\n",
    "    plt.show()"
   ]
  },
  {
   "attachments": {},
   "cell_type": "markdown",
   "metadata": {},
   "source": [
    "$\\Large{\\text{Coefficient of multiple determination for high dimensions}}$ \n"
   ]
  },
  {
   "cell_type": "code",
   "execution_count": 184,
   "metadata": {},
   "outputs": [],
   "source": [
    "R_sq_train = []\n",
    "R_sq_val = []\n",
    "MSE_train = []\n",
    "MSE_val = []"
   ]
  },
  {
   "attachments": {},
   "cell_type": "markdown",
   "metadata": {},
   "source": [
    "y_bar"
   ]
  },
  {
   "cell_type": "code",
   "execution_count": 185,
   "metadata": {},
   "outputs": [
    {
     "name": "stdout",
     "output_type": "stream",
     "text": [
      "23.18366533864542\n",
      "23.18366533864542\n"
     ]
    }
   ],
   "source": [
    "y_bar_train=0\n",
    "for i in range(n_train):\n",
    "    y_i_train = float(auto_data_train_final.iat[i,0])\n",
    "    y_bar_train += y_i_train\n",
    "y_bar_train /= n_train\n",
    "\n",
    "print(y_bar_train)\n",
    "print(y_train.mean())\n"
   ]
  },
  {
   "attachments": {},
   "cell_type": "markdown",
   "metadata": {},
   "source": [
    "y_bar_val"
   ]
  },
  {
   "cell_type": "code",
   "execution_count": 186,
   "metadata": {},
   "outputs": [
    {
     "name": "stdout",
     "output_type": "stream",
     "text": [
      "23.05714285714286\n",
      "23.05714285714286\n"
     ]
    }
   ],
   "source": [
    "y_bar_val = 0\n",
    "\n",
    "for i in range(n_val):\n",
    "    y_i = float(auto_data_val.iat[i,0])\n",
    "    y_bar_val += y_i\n",
    "y_bar_val /= n_val\n",
    "\n",
    "print(y_bar_val)\n",
    "print(y_val.mean())"
   ]
  },
  {
   "cell_type": "code",
   "execution_count": 187,
   "metadata": {},
   "outputs": [
    {
     "name": "stdout",
     "output_type": "stream",
     "text": [
      "sigma_yy_train: 14573.343027888452\n"
     ]
    }
   ],
   "source": [
    "sigma_yy_train = 0\n",
    "for i in range(n_train): #access each row from the data set \n",
    "  y_i_train = float(auto_data_train_final.iat[i,0]) #access element at mpg column\n",
    "  sigma_yy_train += (y_i_train-y_bar_train)**2\n",
    "\n",
    "print('sigma_yy_train:', sigma_yy_train)"
   ]
  },
  {
   "cell_type": "code",
   "execution_count": 188,
   "metadata": {},
   "outputs": [
    {
     "name": "stdout",
     "output_type": "stream",
     "text": [
      "sigma_yy_val: 4289.494285714284\n"
     ]
    }
   ],
   "source": [
    "sigma_yy_val = 0\n",
    "for i in range(n_val): #access each row from the data set \n",
    "  y_i_val = float(auto_data_val.iat[i,0]) #access element at mpg column\n",
    "  sigma_yy_val += (y_i_val-y_bar_val)**2\n",
    "\n",
    "print('sigma_yy_val:', sigma_yy_val)"
   ]
  },
  {
   "cell_type": "code",
   "execution_count": 189,
   "metadata": {},
   "outputs": [
    {
     "name": "stdout",
     "output_type": "stream",
     "text": [
      "lambda: 0.0\n",
      "sum of squared residuals for training data: [4326.9049026]\n",
      "R^2 for training data: [0.70309455]\n",
      "sum of squared residuals for validation data: [1383.02097441]\n",
      "R^2 for validation data: [0.67757948]\n",
      "\n",
      "*******************************************************************\n",
      "\n",
      "lambda: 1e-05\n",
      "sum of squared residuals for training data: [4326.90490275]\n",
      "R^2 for training data: [0.70309455]\n",
      "sum of squared residuals for validation data: [1383.01759436]\n",
      "R^2 for validation data: [0.67758027]\n",
      "\n",
      "*******************************************************************\n",
      "\n",
      "lambda: 0.0001\n",
      "sum of squared residuals for training data: [4326.90491856]\n",
      "R^2 for training data: [0.70309455]\n",
      "sum of squared residuals for validation data: [1382.98717802]\n",
      "R^2 for validation data: [0.67758736]\n",
      "\n",
      "*******************************************************************\n",
      "\n",
      "lambda: 0.001\n",
      "sum of squared residuals for training data: [4326.90649701]\n",
      "R^2 for training data: [0.70309445]\n",
      "sum of squared residuals for validation data: [1382.6834214]\n",
      "R^2 for validation data: [0.67765817]\n",
      "\n",
      "*******************************************************************\n",
      "\n",
      "lambda: 0.01\n",
      "sum of squared residuals for training data: [4327.06267526]\n",
      "R^2 for training data: [0.70308373]\n",
      "sum of squared residuals for validation data: [1379.68615938]\n",
      "R^2 for validation data: [0.67835692]\n",
      "\n",
      "*******************************************************************\n",
      "\n",
      "lambda: 0.1\n",
      "sum of squared residuals for training data: [4341.147884]\n",
      "R^2 for training data: [0.70211722]\n",
      "sum of squared residuals for validation data: [1353.40107812]\n",
      "R^2 for validation data: [0.6844847]\n",
      "\n",
      "*******************************************************************\n",
      "\n",
      "lambda: 1.0\n",
      "sum of squared residuals for training data: [4961.07459123]\n",
      "R^2 for training data: [0.65957882]\n",
      "sum of squared residuals for validation data: [1272.7290645]\n",
      "R^2 for validation data: [0.70329158]\n",
      "\n",
      "*******************************************************************\n",
      "\n",
      "lambda: 10.0\n",
      "sum of squared residuals for training data: [7719.17345992]\n",
      "R^2 for training data: [0.47032239]\n",
      "sum of squared residuals for validation data: [1439.70346041]\n",
      "R^2 for validation data: [0.66436522]\n",
      "\n",
      "*******************************************************************\n",
      "\n",
      "lambda: 100.0\n",
      "sum of squared residuals for training data: [8980.55156276]\n",
      "R^2 for training data: [0.3837686]\n",
      "sum of squared residuals for validation data: [1582.93075]\n",
      "R^2 for validation data: [0.63097497]\n",
      "\n",
      "*******************************************************************\n",
      "\n",
      "lambda: 1000.0\n",
      "sum of squared residuals for training data: [10125.2886013]\n",
      "R^2 for training data: [0.30521854]\n",
      "sum of squared residuals for validation data: [1901.33516718]\n",
      "R^2 for validation data: [0.55674608]\n",
      "\n",
      "*******************************************************************\n",
      "\n",
      "lambda: 10000.0\n",
      "sum of squared residuals for training data: [16758.10477243]\n",
      "R^2 for training data: [-0.14991493]\n",
      "sum of squared residuals for validation data: [3494.82720119]\n",
      "R^2 for validation data: [0.18525892]\n",
      "\n",
      "*******************************************************************\n",
      "\n"
     ]
    }
   ],
   "source": [
    "beta_idx = 0\n",
    "\n",
    "for lambda_ in lambdas:\n",
    "    beta = betas[beta_idx]\n",
    "    beta_idx += 1\n",
    "\n",
    "    sum_sq_residual_train = 0\n",
    "    sum_sq_residual_val = 0\n",
    "\n",
    "    for i in range(n_train):\n",
    "        x_i_train = x_train[i,:]\n",
    "        y_i_train = y_train[i]\n",
    "\n",
    "        y_pred_i_train = np.dot(x_i_train,beta)\n",
    "        e_i_train = y_i_train - y_pred_i_train\n",
    "\n",
    "        sum_sq_residual_train += (e_i_train)**2\n",
    "    \n",
    "    for i in range(n_val):\n",
    "        x_i_val = x_val[i,:]\n",
    "        y_i_val = y_val[i]\n",
    "\n",
    "        y_i_pred_val = np.dot(x_i_val,beta)\n",
    "        e_i_val = y_i_val - y_i_pred_val\n",
    "\n",
    "        sum_sq_residual_val += (e_i_val)**2\n",
    "    \n",
    "    print('lambda:',lambda_)\n",
    "    print('sum of squared residuals for training data:', sum_sq_residual_train)\n",
    "    MSE_train.append(sum_sq_residual_train/n_train)\n",
    "    #Then we will compute the R^2 quantity\n",
    "    R_sq = 1-(sum_sq_residual_train/sigma_yy_train)\n",
    "    R_sq_train.append(R_sq)\n",
    "    print('R^2 for training data:',R_sq)\n",
    "\n",
    "    print('sum of squared residuals for validation data:', sum_sq_residual_val)\n",
    "    MSE_val.append(sum_sq_residual_val/n_val)\n",
    "\n",
    "    #Then we will compute the R^2 quantity\n",
    "    R_sq_vali = 1-sum_sq_residual_val/sigma_yy_val\n",
    "    R_sq_val.append(R_sq_vali)\n",
    "    print('R^2 for validation data:',R_sq_vali)\n",
    "    print('\\n*******************************************************************\\n') "
   ]
  },
  {
   "cell_type": "code",
   "execution_count": 190,
   "metadata": {},
   "outputs": [
    {
     "data": {
      "image/png": "[encoded data removed]",
      "text/plain": [
       "<Figure size 864x504 with 1 Axes>"
      ]
     },
     "metadata": {
      "needs_background": "light"
     },
     "output_type": "display_data"
    }
   ],
   "source": [
    "plt.figure(figsize =(12,7))\n",
    "plt.plot(lambdas,R_sq_train,label = \"Training R^2 value\")\n",
    "plt.plot(lambdas,R_sq_val,label = \"Validation R^2 value\")\n",
    "plt.ylabel(\"R^2 Value\",fontsize = 15)\n",
    "plt.xlabel(\"Lambda Value\",fontsize = 15)\n",
    "plt.xscale('log')\n",
    "plt.xticks([1e-5,1e-4,1e-3,1e-2,1e-1,1,10,100,1000,10000])\n",
    "plt.legend(fontsize = 12,loc = \"best\")\n",
    "plt.title(\"Graph between value of Training and Validation R^2 vs. Lambda values\",fontsize = 15)\n",
    "plt.grid()\n",
    "plt.show()"
   ]
  },
  {
   "attachments": {},
   "cell_type": "markdown",
   "metadata": {},
   "source": [
    "**Graph between $MSE$ and $λ$ values for training and validation data-**"
   ]
  },
  {
   "cell_type": "code",
   "execution_count": 191,
   "metadata": {},
   "outputs": [
    {
     "data": {
      "text/plain": [
       "[array([17.23866495]),\n",
       " array([17.23866495]),\n",
       " array([17.23866501]),\n",
       " array([17.2386713]),\n",
       " array([17.23929353]),\n",
       " array([17.2954099]),\n",
       " array([19.76523742]),\n",
       " array([30.75367912]),\n",
       " array([35.77908989]),\n",
       " array([40.33979522]),\n",
       " array([66.76535766])]"
      ]
     },
     "execution_count": 191,
     "metadata": {},
     "output_type": "execute_result"
    }
   ],
   "source": [
    "MSE_train"
   ]
  },
  {
   "cell_type": "code",
   "execution_count": 192,
   "metadata": {},
   "outputs": [
    {
     "data": {
      "text/plain": [
       "[array([21.95271388]),\n",
       " array([21.95266023]),\n",
       " array([21.95217743]),\n",
       " array([21.9473559]),\n",
       " array([21.89978031]),\n",
       " array([21.4825568]),\n",
       " array([20.20204864]),\n",
       " array([22.85243588]),\n",
       " array([25.12588492]),\n",
       " array([30.17992329]),\n",
       " array([55.47344764])]"
      ]
     },
     "execution_count": 192,
     "metadata": {},
     "output_type": "execute_result"
    }
   ],
   "source": [
    "MSE_val"
   ]
  },
  {
   "attachments": {},
   "cell_type": "markdown",
   "metadata": {},
   "source": [
    "**Graph between $MSE$ and $λ$ values for training and validation data-**"
   ]
  },
  {
   "cell_type": "code",
   "execution_count": 193,
   "metadata": {},
   "outputs": [
    {
     "data": {
      "image/png": "[encoded data removed]",
      "text/plain": [
       "<Figure size 864x504 with 1 Axes>"
      ]
     },
     "metadata": {
      "needs_background": "light"
     },
     "output_type": "display_data"
    }
   ],
   "source": [
    "plt.figure(figsize =(12,7))\n",
    "plt.plot(lambdas,MSE_train,label = \"Training MSE value\")\n",
    "plt.plot(lambdas,MSE_val,label = \"Validation MSE value\")\n",
    "plt.ylabel(\"MSE Value\",fontsize = 15)\n",
    "plt.xlabel(\"Lambda Value\",fontsize = 15)\n",
    "plt.xscale(\"log\")\n",
    "plt.xticks([1e-5,1e-4,1e-3,1e-2,1e-1,1,10,100,1000,10000])\n",
    "plt.legend(fontsize = 12,loc = \"best\")\n",
    "plt.title(\"Graph between Training and Validation MSE vs. Lambda values\",fontsize = 15)\n",
    "plt.grid()\n",
    "plt.show()"
   ]
  },
  {
   "attachments": {},
   "cell_type": "markdown",
   "metadata": {},
   "source": [
    "As we can see, increasing the value of $\\lambda$ leads to lower $R^2$ values which indicates that the unexplained variations captured by the regression parameters is not significant when compared to the variations captured by the mean $\\bar{\\mathbf{y}}$. \n",
    "\n",
    "Also note that increasing $\\lambda$ leads to residual plots where the variance in the predicted values become smaller and smaller when compared to lower values of $\\lambda$. However it might turn out that on an average, the estimated parameters might be away from the actual parameters which were possibly responsible for the data. This leads to a larger bias in the estimated model parameters. This phenomenon is one explanation for the popular $\\textbf{bias-variance}$ tradeoff."
   ]
  },
  {
   "attachments": {},
   "cell_type": "markdown",
   "metadata": {},
   "source": [
    "# **Doing K-Fold Cross Validatiion-**"
   ]
  },
  {
   "cell_type": "code",
   "execution_count": 194,
   "metadata": {},
   "outputs": [],
   "source": [
    "def compute_Rq_and_MSE(data,beta, x, y):\n",
    "\n",
    "    # compute y_bar\n",
    "\n",
    "    y_bar = 0\n",
    "    n = len(data)\n",
    "    for i in range(n):\n",
    "        y_i = float(data.iat[i,0])\n",
    "        y_bar += y_i\n",
    "    \n",
    "    y_bar /= n\n",
    "\n",
    "    sigma_yy = 0\n",
    "\n",
    "    for i in range(n):\n",
    "        y_i = float(data.iat[i,0])\n",
    "        sigma_yy += (y_i - y_bar)**2\n",
    "    \n",
    "    sum_sq_residuals = 0\n",
    "\n",
    "    for i in range(n):\n",
    "        x_i = x[i,:]\n",
    "        y_i = y[i]\n",
    "\n",
    "        y_pred_i = np.dot(x_i,beta)\n",
    "        e_i = y_i - y_pred_i\n",
    "\n",
    "        sum_sq_residuals += (e_i)**2\n",
    "    \n",
    "    R_sq = 1-(sum_sq_residuals/sigma_yy)\n",
    "    MSE = sum_sq_residuals/n\n",
    "\n",
    "    print('R^2' , R_sq, 'MSE: ', MSE )\n",
    "    return R_sq, MSE\n",
    "\n"
   ]
  },
  {
   "cell_type": "code",
   "execution_count": 195,
   "metadata": {},
   "outputs": [],
   "source": [
    "seed = 2000\n",
    "\n",
    "auto_data_train = auto_data.sample(frac=0.8, random_state=seed)\n",
    "auto_data_test = auto_data.drop(auto_data_train.index)\n"
   ]
  },
  {
   "cell_type": "code",
   "execution_count": 196,
   "metadata": {},
   "outputs": [],
   "source": [
    "seeds = [100,200,300,400,500]\n",
    "\n",
    "lambdas = [1e-5, 1e-4, 1e-3, 1e-2, 0.1, 1,10,100,1000, 10000]\n",
    "\n",
    "train_R2_seeds = []\n",
    "val_R2_seeds = []\n",
    "\n",
    "train_MSE_seed = []\n",
    "val_MSE_seeds = []\n",
    "\n",
    "cols = list(np.arange(1,6))\n",
    "respose_col = [0]\n"
   ]
  },
  {
   "cell_type": "code",
   "execution_count": 197,
   "metadata": {},
   "outputs": [
    {
     "name": "stdout",
     "output_type": "stream",
     "text": [
      "lambda:  1e-05\n",
      "beta : [[-3.68664310e-01]\n",
      " [-1.66164986e-03]\n",
      " [-3.38968831e-02]\n",
      " [-5.42672414e-03]\n",
      " [-1.27507010e-02]\n",
      " [ 4.58348983e+01]]\n",
      "***********************\n",
      "R^2 [0.711848] MSE:  [18.11663619]\n",
      "R^2 [0.65712488] MSE:  [19.9750094]\n",
      "lambda:  0.0001\n",
      "beta : [[-3.68521409e-01]\n",
      " [-1.66512680e-03]\n",
      " [-3.38872420e-02]\n",
      " [-5.42676586e-03]\n",
      " [-1.26543449e-02]\n",
      " [ 4.58324005e+01]]\n",
      "***********************\n",
      "R^2 [0.711848] MSE:  [18.11663624]\n",
      "R^2 [0.65712653] MSE:  [19.97491359]\n",
      "lambda:  0.001\n",
      "beta : [[-3.67093273e-01]\n",
      " [-1.69987511e-03]\n",
      " [-3.37908887e-02]\n",
      " [-5.42718270e-03]\n",
      " [-1.16913619e-02]\n",
      " [ 4.58074378e+01]]\n",
      "***********************\n",
      "R^2 [0.71184792] MSE:  [18.11664125]\n",
      "R^2 [0.6571429] MSE:  [19.97395985]\n",
      "lambda:  0.01\n",
      "beta : [[-3.52898731e-01]\n",
      " [-2.04526401e-03]\n",
      " [-3.28331143e-02]\n",
      " [-5.43132555e-03]\n",
      " [-2.11905326e-03]\n",
      " [ 4.55593046e+01]]\n",
      "***********************\n",
      "R^2 [0.71184003] MSE:  [18.11713715]\n",
      "R^2 [0.65729925] MSE:  [19.96485145]\n",
      "lambda:  0.1\n",
      "beta : [[-2.19138004e-01]\n",
      " [-5.30172675e-03]\n",
      " [-2.37982259e-02]\n",
      " [-5.47033765e-03]\n",
      " [ 8.81813321e-02]\n",
      " [ 4.32187984e+01]]\n",
      "***********************\n",
      "R^2 [0.7111313] MSE:  [18.16169626]\n",
      "R^2 [0.6582032] MSE:  [19.91218966]\n",
      "lambda:  1\n",
      "beta : [[ 6.09317288e-01]\n",
      " [-2.55837240e-02]\n",
      " [ 3.27732972e-02]\n",
      " [-5.71013439e-03]\n",
      " [ 6.53772105e-01]\n",
      " [ 2.85759596e+01]]\n",
      "***********************\n",
      "R^2 [0.68066052] MSE:  [20.07744971]\n",
      "R^2 [0.640404] MSE:  [20.94912424]\n",
      "lambda:  10\n",
      "beta : [[ 1.68114410e+00]\n",
      " [-5.41703629e-02]\n",
      " [ 1.18482263e-01]\n",
      " [-5.97735724e-03]\n",
      " [ 1.51396898e+00]\n",
      " [ 6.63204128e+00]]\n",
      "***********************\n",
      "R^2 [0.55075474] MSE:  [28.24486057]\n",
      "R^2 [0.53656606] MSE:  [26.99845172]\n",
      "lambda:  100\n",
      "beta : [[ 1.08644654]\n",
      " [-0.054535  ]\n",
      " [ 0.14481757]\n",
      " [-0.00525417]\n",
      " [ 1.77685969]\n",
      " [ 0.87404182]]\n",
      "***********************\n",
      "R^2 [0.49317547] MSE:  [31.86497271]\n",
      "R^2 [0.4756591] MSE:  [30.54673231]\n",
      "lambda:  1000\n",
      "beta : [[ 3.05054417e-01]\n",
      " [-7.71496213e-02]\n",
      " [ 1.38575841e-01]\n",
      " [-4.08984403e-04]\n",
      " [ 1.47970311e+00]\n",
      " [ 1.50631683e-01]]\n",
      "***********************\n",
      "R^2 [0.43062774] MSE:  [35.79746137]\n",
      "R^2 [0.35742068] MSE:  [37.4349938]\n",
      "lambda:  10000\n",
      "beta : [[ 0.06460397]\n",
      " [-0.15174472]\n",
      " [ 0.09600865]\n",
      " [ 0.01145169]\n",
      " [ 0.4845332 ]\n",
      " [ 0.03053438]]\n",
      "***********************\n",
      "R^2 [0.0184565] MSE:  [61.71141161]\n",
      "R^2 [-0.15408239] MSE:  [67.23382759]\n",
      "lambda:  1e-05\n",
      "beta : [[-2.18689752e-01]\n",
      " [-4.15105410e-04]\n",
      " [-4.06574221e-02]\n",
      " [-5.83262705e-03]\n",
      " [ 6.41958272e-02]\n",
      " [ 4.54295608e+01]]\n",
      "***********************\n",
      "R^2 [0.69895072] MSE:  [19.08779547]\n",
      "R^2 [0.70049831] MSE:  [16.09008353]\n",
      "lambda:  0.0001\n",
      "beta : [[-2.18542586e-01]\n",
      " [-4.18697264e-04]\n",
      " [-4.06475851e-02]\n",
      " [-5.83267776e-03]\n",
      " [ 6.42871805e-02]\n",
      " [ 4.54271459e+01]]\n",
      "***********************\n",
      "R^2 [0.69895072] MSE:  [19.08779552]\n",
      "R^2 [0.70049877] MSE:  [16.09005885]\n",
      "lambda:  0.001\n",
      "beta : [[-2.17071805e-01]\n",
      " [-4.54594528e-04]\n",
      " [-4.05492735e-02]\n",
      " [-5.83318460e-03]\n",
      " [ 6.52001776e-02]\n",
      " [ 4.54030110e+01]]\n",
      "***********************\n",
      "R^2 [0.69895065] MSE:  [19.08780033]\n",
      "R^2 [0.7005033] MSE:  [16.08981528]\n",
      "lambda:  0.01\n",
      "beta : [[-2.02451465e-01]\n",
      " [-8.11452186e-04]\n",
      " [-3.95718906e-02]\n",
      " [-5.83822262e-03]\n",
      " [ 7.42769260e-02]\n",
      " [ 4.51630713e+01]]\n",
      "***********************\n",
      "R^2 [0.69894315] MSE:  [19.08827556]\n",
      "R^2 [0.70054272] MSE:  [16.08769743]\n",
      "lambda:  0.1\n",
      "beta : [[-6.45055497e-02]\n",
      " [-4.18037252e-03]\n",
      " [-3.03393041e-02]\n",
      " [-5.88573663e-03]\n",
      " [ 1.60020061e-01]\n",
      " [ 4.28967718e+01]]\n",
      "***********************\n",
      "R^2 [0.69826798] MSE:  [19.13108428]\n",
      "R^2 [0.70040852] MSE:  [16.0949071]\n",
      "lambda:  1\n",
      "beta : [[ 7.96605088e-01]\n",
      " [-2.53351883e-02]\n",
      " [ 2.80022390e-02]\n",
      " [-6.18094519e-03]\n",
      " [ 7.01972367e-01]\n",
      " [ 2.85906384e+01]]\n",
      "***********************\n",
      "R^2 [0.6687779] MSE:  [21.00087972]\n",
      "R^2 [0.67846464] MSE:  [17.27379489]\n",
      "lambda:  10\n",
      "beta : [[ 1.91476513e+00]\n",
      " [-5.54213542e-02]\n",
      " [ 1.18366703e-01]\n",
      " [-6.52950826e-03]\n",
      " [ 1.54380791e+00]\n",
      " [ 6.72905261e+00]]\n",
      "***********************\n",
      "R^2 [0.53932964] MSE:  [29.20844632]\n",
      "R^2 [0.57647707] MSE:  [22.75285782]\n",
      "lambda:  100\n",
      "beta : [[ 1.2006674 ]\n",
      " [-0.05419156]\n",
      " [ 0.14746396]\n",
      " [-0.00576247]\n",
      " [ 1.80951956]\n",
      " [ 0.89632597]]\n",
      "***********************\n",
      "R^2 [0.47887747] MSE:  [33.04136887]\n",
      "R^2 [0.53544618] MSE:  [24.95715356]\n",
      "lambda:  1000\n",
      "beta : [[ 3.15178478e-01]\n",
      " [-7.51481855e-02]\n",
      " [ 1.39256109e-01]\n",
      " [-6.88946164e-04]\n",
      " [ 1.50532515e+00]\n",
      " [ 1.53484262e-01]]\n",
      "***********************\n",
      "R^2 [0.41110639] MSE:  [37.33834203]\n",
      "R^2 [0.44924064] MSE:  [29.58836081]\n",
      "lambda:  10000\n",
      "beta : [[ 0.06316167]\n",
      " [-0.14910903]\n",
      " [ 0.08943628]\n",
      " [ 0.01156878]\n",
      " [ 0.49005009]\n",
      " [ 0.03065912]]\n",
      "***********************\n",
      "R^2 [-0.01197032] MSE:  [64.16319206]\n",
      "R^2 [-0.0693571] MSE:  [57.44890776]\n",
      "lambda:  1e-05\n",
      "beta : [[-2.56793767e-01]\n",
      " [ 2.10192744e-03]\n",
      " [-3.80223163e-02]\n",
      " [-5.86827557e-03]\n",
      " [ 8.04027684e-02]\n",
      " [ 4.48190168e+01]]\n",
      "***********************\n",
      "R^2 [0.71400968] MSE:  [17.84436053]\n",
      "R^2 [0.65555856] MSE:  [20.68896128]\n",
      "lambda:  0.0001\n",
      "beta : [[-2.56653565e-01]\n",
      " [ 2.09859972e-03]\n",
      " [-3.80127000e-02]\n",
      " [-5.86833549e-03]\n",
      " [ 8.04959192e-02]\n",
      " [ 4.48165998e+01]]\n",
      "***********************\n",
      "R^2 [0.71400968] MSE:  [17.84436058]\n",
      "R^2 [0.65555748] MSE:  [20.68902609]\n",
      "lambda:  0.001\n",
      "beta : [[-2.55252392e-01]\n",
      " [ 2.06534256e-03]\n",
      " [-3.79165939e-02]\n",
      " [-5.86893433e-03]\n",
      " [ 8.14268728e-02]\n",
      " [ 4.47924441e+01]]\n",
      "***********************\n",
      "R^2 [0.7140096] MSE:  [17.84436532]\n",
      "R^2 [0.65554664] MSE:  [20.68967716]\n",
      "lambda:  0.01\n",
      "beta : [[-2.41325046e-01]\n",
      " [ 1.73475706e-03]\n",
      " [-3.69612204e-02]\n",
      " [-5.87488651e-03]\n",
      " [ 9.06813592e-02]\n",
      " [ 4.45523185e+01]]\n",
      "***********************\n",
      "R^2 [0.71400208] MSE:  [17.84483451]\n",
      "R^2 [0.6554333] MSE:  [20.69648505]\n",
      "lambda:  0.1\n",
      "beta : [[-1.10011157e-01]\n",
      " [-1.38374909e-03]\n",
      " [-2.79439260e-02]\n",
      " [-5.93099545e-03]\n",
      " [ 1.78033484e-01]\n",
      " [ 4.22860440e+01]]\n",
      "***********************\n",
      "R^2 [0.7133257] MSE:  [17.88703774]\n",
      "R^2 [0.65386335] MSE:  [20.79078493]\n",
      "lambda:  1\n",
      "beta : [[ 7.06085931e-01]\n",
      " [-2.08686246e-02]\n",
      " [ 2.87230434e-02]\n",
      " [-6.27894671e-03]\n",
      " [ 7.27213161e-01]\n",
      " [ 2.80540718e+01]]\n",
      "***********************\n",
      "R^2 [0.68405146] MSE:  [19.71360293]\n",
      "R^2 [0.62332074] MSE:  [22.62533413]\n",
      "lambda:  10\n",
      "beta : [[ 1.7650956 ]\n",
      " [-0.04832826]\n",
      " [ 0.11512254]\n",
      " [-0.00670925]\n",
      " [ 1.56904684]\n",
      " [ 6.55104769]]\n",
      "***********************\n",
      "R^2 [0.55771688] MSE:  [27.59624709]\n",
      "R^2 [0.50909755] MSE:  [29.4861788]\n",
      "lambda:  100\n",
      "beta : [[ 1.13546125]\n",
      " [-0.04737116]\n",
      " [ 0.14096389]\n",
      " [-0.00600664]\n",
      " [ 1.82644061]\n",
      " [ 0.87037827]]\n",
      "***********************\n",
      "R^2 [0.50039384] MSE:  [31.1729166]\n",
      "R^2 [0.45639846] MSE:  [32.65156249]\n",
      "lambda:  1000\n",
      "beta : [[ 3.11748311e-01]\n",
      " [-6.83327140e-02]\n",
      " [ 1.32497882e-01]\n",
      " [-1.09786309e-03]\n",
      " [ 1.52021591e+00]\n",
      " [ 1.51835289e-01]]\n",
      "***********************\n",
      "R^2 [0.43378716] MSE:  [35.32883953]\n",
      "R^2 [0.38561377] MSE:  [36.90326296]\n",
      "lambda:  10000\n",
      "beta : [[ 0.06451709]\n",
      " [-0.14184026]\n",
      " [ 0.08609289]\n",
      " [ 0.01091924]\n",
      " [ 0.49805077]\n",
      " [ 0.03094913]]\n",
      "***********************\n",
      "R^2 [-0.00504909] MSE:  [62.71001906]\n",
      "R^2 [-0.02609927] MSE:  [61.63290976]\n",
      "lambda:  1e-05\n",
      "beta : [[-6.36654776e-01]\n",
      " [ 1.09418831e-02]\n",
      " [-4.64566217e-02]\n",
      " [-5.94282731e-03]\n",
      " [ 1.08109164e-01]\n",
      " [ 4.58035708e+01]]\n",
      "***********************\n",
      "R^2 [0.70269273] MSE:  [18.67878753]\n",
      "R^2 [0.69500438] MSE:  [17.65448819]\n",
      "lambda:  0.0001\n",
      "beta : [[-6.36494872e-01]\n",
      " [ 1.09381428e-02]\n",
      " [-4.64469305e-02]\n",
      " [-5.94286480e-03]\n",
      " [ 1.08202216e-01]\n",
      " [ 4.58010600e+01]]\n",
      "***********************\n",
      "R^2 [0.70269272] MSE:  [18.67878758]\n",
      "R^2 [0.69500615] MSE:  [17.65438593]\n",
      "lambda:  0.001\n",
      "beta : [[-6.34896821e-01]\n",
      " [ 1.09007621e-02]\n",
      " [-4.63500777e-02]\n",
      " [-5.94323949e-03]\n",
      " [ 1.09132169e-01]\n",
      " [ 4.57759674e+01]]\n",
      "***********************\n",
      "R^2 [0.70269264] MSE:  [18.67879262]\n",
      "R^2 [0.69502373] MSE:  [17.65336785]\n",
      "lambda:  0.01\n",
      "beta : [[-6.19013935e-01]\n",
      " [ 1.05292227e-02]\n",
      " [-4.53873725e-02]\n",
      " [-5.94696322e-03]\n",
      " [ 1.18375805e-01]\n",
      " [ 4.55265519e+01]]\n",
      "***********************\n",
      "R^2 [0.70268471] MSE:  [18.67929088]\n",
      "R^2 [0.69519174] MSE:  [17.64364297]\n",
      "lambda:  0.1\n",
      "beta : [[-4.69384860e-01]\n",
      " [ 7.02749504e-03]\n",
      " [-3.63091133e-02]\n",
      " [-5.98201412e-03]\n",
      " [ 2.05545117e-01]\n",
      " [ 4.31747820e+01]]\n",
      "***********************\n",
      "R^2 [0.70197255] MSE:  [18.72403387]\n",
      "R^2 [0.69616674] MSE:  [17.58720555]\n",
      "lambda:  1\n",
      "beta : [[ 4.55942727e-01]\n",
      " [-1.47280236e-02]\n",
      " [ 2.04068829e-02]\n",
      " [-6.19682498e-03]\n",
      " [ 7.50279674e-01]\n",
      " [ 2.84954739e+01]]\n",
      "***********************\n",
      "R^2 [0.67147868] MSE:  [20.63985782]\n",
      "R^2 [0.67734441] MSE:  [18.67672481]\n",
      "lambda:  10\n",
      "beta : [[ 1.66199744e+00]\n",
      " [-4.51645184e-02]\n",
      " [ 1.05998881e-01]\n",
      " [-6.43131259e-03]\n",
      " [ 1.57499774e+00]\n",
      " [ 6.60487621e+00]]\n",
      "***********************\n",
      "R^2 [0.54241146] MSE:  [28.74870484]\n",
      "R^2 [0.56866383] MSE:  [24.96763476]\n",
      "lambda:  100\n",
      "beta : [[ 1.08675602]\n",
      " [-0.04510204]\n",
      " [ 0.13261862]\n",
      " [-0.0057265 ]\n",
      " [ 1.8256724 ]\n",
      " [ 0.87539307]]\n",
      "***********************\n",
      "R^2 [0.48521472] MSE:  [32.34217842]\n",
      "R^2 [0.51186263] MSE:  [28.25553819]\n",
      "lambda:  1000\n",
      "beta : [[ 3.03970046e-01]\n",
      " [-6.76487231e-02]\n",
      " [ 1.26455594e-01]\n",
      " [-8.19661173e-04]\n",
      " [ 1.51627156e+00]\n",
      " [ 1.51108429e-01]]\n",
      "***********************\n",
      "R^2 [0.42048675] MSE:  [36.40881287]\n",
      "R^2 [0.43268741] MSE:  [32.83854853]\n",
      "lambda:  10000\n",
      "beta : [[ 0.06417129]\n",
      " [-0.14379287]\n",
      " [ 0.08361907]\n",
      " [ 0.01127656]\n",
      " [ 0.49618435]\n",
      " [ 0.03052891]]\n",
      "***********************\n",
      "R^2 [-0.01169601] MSE:  [63.56136048]\n",
      "R^2 [-0.00586951] MSE:  [58.22415189]\n",
      "lambda:  1e-05\n",
      "beta : [[-3.52938777e-01]\n",
      " [ 6.32541564e-03]\n",
      " [-2.87843026e-02]\n",
      " [-6.64042888e-03]\n",
      " [ 9.00549778e-02]\n",
      " [ 4.57346839e+01]]\n",
      "***********************\n",
      "R^2 [0.71011805] MSE:  [17.6352787]\n",
      "R^2 [0.66309603] MSE:  [21.79788187]\n",
      "lambda:  0.0001\n",
      "beta : [[-3.52759521e-01]\n",
      " [ 6.32070304e-03]\n",
      " [-2.87724702e-02]\n",
      " [-6.64045542e-03]\n",
      " [ 9.01622329e-02]\n",
      " [ 4.57317984e+01]]\n",
      "***********************\n",
      "R^2 [0.71011805] MSE:  [17.63527876]\n",
      "R^2 [0.66309725] MSE:  [21.79780322]\n",
      "lambda:  0.001\n",
      "beta : [[-3.50968234e-01]\n",
      " [ 6.27361015e-03]\n",
      " [-2.86542283e-02]\n",
      " [-6.64072064e-03]\n",
      " [ 9.12340376e-02]\n",
      " [ 4.57029636e+01]]\n",
      "***********************\n",
      "R^2 [0.71011796] MSE:  [17.63528454]\n",
      "R^2 [0.66310926] MSE:  [21.79702579]\n",
      "lambda:  0.01\n",
      "beta : [[-3.33181187e-01]\n",
      " [ 5.80596209e-03]\n",
      " [-2.74799888e-02]\n",
      " [-6.64335354e-03]\n",
      " [ 1.01877984e-01]\n",
      " [ 4.54166130e+01]]\n",
      "***********************\n",
      "R^2 [0.71010858] MSE:  [17.63585502]\n",
      "R^2 [0.66321559] MSE:  [21.79014621]\n",
      "lambda:  0.1\n",
      "beta : [[-1.67065882e-01]\n",
      " [ 1.43600164e-03]\n",
      " [-1.65017417e-02]\n",
      " [-6.66787593e-03]\n",
      " [ 2.01394634e-01]\n",
      " [ 4.27396698e+01]]\n",
      "***********************\n",
      "R^2 [0.70927961] MSE:  [17.68628606]\n",
      "R^2 [0.66306738] MSE:  [21.79973564]\n",
      "lambda:  1\n",
      "beta : [[ 8.04074440e-01]\n",
      " [-2.42695845e-02]\n",
      " [ 4.84172143e-02]\n",
      " [-6.80707312e-03]\n",
      " [ 7.90113770e-01]\n",
      " [ 2.69232776e+01]]\n",
      "***********************\n",
      "R^2 [0.67704731] MSE:  [19.64717268]\n",
      "R^2 [0.62009602] MSE:  [24.58000737]\n",
      "lambda:  10\n",
      "beta : [[ 1.90210864]\n",
      " [-0.05638776]\n",
      " [ 0.1358725 ]\n",
      " [-0.00687902]\n",
      " [ 1.58724679]\n",
      " [ 5.86667295]]\n",
      "***********************\n",
      "R^2 [0.56132636] MSE:  [26.68718057]\n",
      "R^2 [0.45176606] MSE:  [35.47105366]\n",
      "lambda:  100\n",
      "beta : [[ 1.18311819]\n",
      " [-0.05582047]\n",
      " [ 0.16131237]\n",
      " [-0.00599248]\n",
      " [ 1.81755525]\n",
      " [ 0.78312316]]\n",
      "***********************\n",
      "R^2 [0.51226731] MSE:  [29.67174065]\n",
      "R^2 [0.38699417] MSE:  [39.66183239]\n",
      "lambda:  1000\n",
      "beta : [[ 3.13234310e-01]\n",
      " [-7.84672817e-02]\n",
      " [ 1.56539539e-01]\n",
      " [-9.29378499e-04]\n",
      " [ 1.49850671e+00]\n",
      " [ 1.40967957e-01]]\n",
      "***********************\n",
      "R^2 [0.44342444] MSE:  [33.85987063]\n",
      "R^2 [0.29921194] MSE:  [45.34139352]\n",
      "lambda:  10000\n",
      "beta : [[ 0.06263858]\n",
      " [-0.15293428]\n",
      " [ 0.11569297]\n",
      " [ 0.01101778]\n",
      " [ 0.48097806]\n",
      " [ 0.02901343]]\n",
      "***********************\n",
      "R^2 [0.00889452] MSE:  [60.29496381]\n",
      "R^2 [-0.16827989] MSE:  [75.58838589]\n"
     ]
    }
   ],
   "source": [
    "for seed in seeds:\n",
    "\n",
    "    auto_data_train_final = auto_data_train.sample(frac=0.8, random_state=seed)\n",
    "    auto_data_val = auto_data_train.drop(auto_data_train_final.index)\n",
    "\n",
    "    x_train = auto_data_train_final[auto_data_train_final.columns[cols]].to_numpy()\n",
    "    x_val = auto_data_val[auto_data_val.columns[cols]].to_numpy()\n",
    "\n",
    "    x_train = np.hstack((x_train , np.ones((x_train.shape[0],1), dtype=x_train.dtype)))\n",
    "    x_val = np.hstack((x_val, np.ones((x_val.shape[0], 1), dtype=x_val.dtype)))\n",
    "\n",
    "    y_train = auto_data_train_final[auto_data_train_final.columns[respose_col]].to_numpy()\n",
    "    y_val = auto_data_val[auto_data_val.columns[respose_col]].to_numpy()\n",
    "\n",
    "\n",
    "    train_R2_lambdas = []\n",
    "    val_R2_lambdas = []\n",
    "\n",
    "    train_MSE_lambdas = []\n",
    "    val_MSE_lambdas = []\n",
    "\n",
    "    for lambda_ in lambdas:\n",
    "\n",
    "        XTX = np.matmul(np.transpose(x_train),x_train)\n",
    "        XTY = np.matmul(np.transpose(x_train),y_train)\n",
    "        I = np.identity(x_train.shape[1])\n",
    "\n",
    "        beta = scipy.linalg.solve(XTX + lambda_*I , XTY)\n",
    "        print('lambda: ', lambda_)\n",
    "        print('beta :', beta)\n",
    "        print(\"***********************\")\n",
    "\n",
    "        train_R2, train_MSE = compute_Rq_and_MSE(auto_data_train_final, beta, x_train, y_train)\n",
    "        train_R2_lambdas.append(train_R2)\n",
    "        train_MSE_lambdas.append(train_MSE)\n",
    "\n",
    "        val_R2, val_MSE = compute_Rq_and_MSE(auto_data_val,beta,x_val,y_val)\n",
    "        val_R2_lambdas.append(val_R2)\n",
    "        val_MSE_lambdas.append(val_MSE)\n",
    "\n",
    "    train_R2_seeds.append(np.array(train_R2_lambdas))\n",
    "    train_MSE_seed.append(np.array(train_MSE_lambdas))\n",
    "\n",
    "    val_R2_seeds.append(np.array(val_R2_lambdas))\n",
    "    val_MSE_seeds.append(np.array(val_MSE_lambdas))\n"
   ]
  },
  {
   "cell_type": "code",
   "execution_count": 198,
   "metadata": {},
   "outputs": [
    {
     "data": {
      "text/plain": [
       "[array([[ 0.65712488],\n",
       "        [ 0.65712653],\n",
       "        [ 0.6571429 ],\n",
       "        [ 0.65729925],\n",
       "        [ 0.6582032 ],\n",
       "        [ 0.640404  ],\n",
       "        [ 0.53656606],\n",
       "        [ 0.4756591 ],\n",
       "        [ 0.35742068],\n",
       "        [-0.15408239]]),\n",
       " array([[ 0.70049831],\n",
       "        [ 0.70049877],\n",
       "        [ 0.7005033 ],\n",
       "        [ 0.70054272],\n",
       "        [ 0.70040852],\n",
       "        [ 0.67846464],\n",
       "        [ 0.57647707],\n",
       "        [ 0.53544618],\n",
       "        [ 0.44924064],\n",
       "        [-0.0693571 ]]),\n",
       " array([[ 0.65555856],\n",
       "        [ 0.65555748],\n",
       "        [ 0.65554664],\n",
       "        [ 0.6554333 ],\n",
       "        [ 0.65386335],\n",
       "        [ 0.62332074],\n",
       "        [ 0.50909755],\n",
       "        [ 0.45639846],\n",
       "        [ 0.38561377],\n",
       "        [-0.02609927]]),\n",
       " array([[ 0.69500438],\n",
       "        [ 0.69500615],\n",
       "        [ 0.69502373],\n",
       "        [ 0.69519174],\n",
       "        [ 0.69616674],\n",
       "        [ 0.67734441],\n",
       "        [ 0.56866383],\n",
       "        [ 0.51186263],\n",
       "        [ 0.43268741],\n",
       "        [-0.00586951]]),\n",
       " array([[ 0.66309603],\n",
       "        [ 0.66309725],\n",
       "        [ 0.66310926],\n",
       "        [ 0.66321559],\n",
       "        [ 0.66306738],\n",
       "        [ 0.62009602],\n",
       "        [ 0.45176606],\n",
       "        [ 0.38699417],\n",
       "        [ 0.29921194],\n",
       "        [-0.16827989]])]"
      ]
     },
     "execution_count": 198,
     "metadata": {},
     "output_type": "execute_result"
    }
   ],
   "source": [
    "val_R2_seeds"
   ]
  },
  {
   "cell_type": "code",
   "execution_count": 199,
   "metadata": {},
   "outputs": [
    {
     "name": "stdout",
     "output_type": "stream",
     "text": [
      "[[ 0.65712488  0.65712653  0.6571429   0.65729925  0.6582032   0.640404\n",
      "   0.53656606  0.4756591   0.35742068 -0.15408239]\n",
      " [ 0.70049831  0.70049877  0.7005033   0.70054272  0.70040852  0.67846464\n",
      "   0.57647707  0.53544618  0.44924064 -0.0693571 ]\n",
      " [ 0.65555856  0.65555748  0.65554664  0.6554333   0.65386335  0.62332074\n",
      "   0.50909755  0.45639846  0.38561377 -0.02609927]\n",
      " [ 0.69500438  0.69500615  0.69502373  0.69519174  0.69616674  0.67734441\n",
      "   0.56866383  0.51186263  0.43268741 -0.00586951]\n",
      " [ 0.66309603  0.66309725  0.66310926  0.66321559  0.66306738  0.62009602\n",
      "   0.45176606  0.38699417  0.29921194 -0.16827989]]\n"
     ]
    }
   ],
   "source": [
    "val_R2_seeds = np.array(val_R2_seeds).squeeze()\n",
    "print(val_R2_seeds)"
   ]
  },
  {
   "cell_type": "code",
   "execution_count": 200,
   "metadata": {},
   "outputs": [
    {
     "data": {
      "text/plain": [
       "array([ 0.67425643,  0.67425723,  0.67426517,  0.67433652,  0.67434184,\n",
       "        0.64792596,  0.52851411,  0.47327211,  0.38483489, -0.08473763])"
      ]
     },
     "execution_count": 200,
     "metadata": {},
     "output_type": "execute_result"
    }
   ],
   "source": [
    "mean_val_R2_lambdas =  np.mean(val_R2_seeds, axis=0)\n",
    "mean_val_R2_lambdas"
   ]
  },
  {
   "cell_type": "code",
   "execution_count": 201,
   "metadata": {},
   "outputs": [
    {
     "name": "stdout",
     "output_type": "stream",
     "text": [
      "[[ 0.711848    0.711848    0.71184792  0.71184003  0.7111313   0.68066052\n",
      "   0.55075474  0.49317547  0.43062774  0.0184565 ]\n",
      " [ 0.69895072  0.69895072  0.69895065  0.69894315  0.69826798  0.6687779\n",
      "   0.53932964  0.47887747  0.41110639 -0.01197032]\n",
      " [ 0.71400968  0.71400968  0.7140096   0.71400208  0.7133257   0.68405146\n",
      "   0.55771688  0.50039384  0.43378716 -0.00504909]\n",
      " [ 0.70269273  0.70269272  0.70269264  0.70268471  0.70197255  0.67147868\n",
      "   0.54241146  0.48521472  0.42048675 -0.01169601]\n",
      " [ 0.71011805  0.71011805  0.71011796  0.71010858  0.70927961  0.67704731\n",
      "   0.56132636  0.51226731  0.44342444  0.00889452]]\n"
     ]
    }
   ],
   "source": [
    "train_R2_seeds = np.array(train_R2_seeds).squeeze()\n",
    "print(train_R2_seeds)"
   ]
  },
  {
   "cell_type": "code",
   "execution_count": 202,
   "metadata": {},
   "outputs": [
    {
     "name": "stdout",
     "output_type": "stream",
     "text": [
      "[ 7.07523837e-01  7.07523836e-01  7.07523755e-01  7.07515713e-01\n",
      "  7.06795429e-01  6.76403176e-01  5.50307816e-01  4.93985764e-01\n",
      "  4.27886494e-01 -2.72882700e-04]\n"
     ]
    }
   ],
   "source": [
    "mean_train_R2_lambdas = np.mean(train_R2_seeds,axis=0)\n",
    "print(mean_train_R2_lambdas)"
   ]
  },
  {
   "cell_type": "code",
   "execution_count": 203,
   "metadata": {},
   "outputs": [
    {
     "name": "stdout",
     "output_type": "stream",
     "text": [
      "k-fold val R2 values: [ 0.67425643  0.67425723  0.67426517  0.67433652  0.67434184  0.64792596\n",
      "  0.52851411  0.47327211  0.38483489 -0.08473763]\n",
      "k-fold train R2 values: [ 7.07523837e-01  7.07523836e-01  7.07523755e-01  7.07515713e-01\n",
      "  7.06795429e-01  6.76403176e-01  5.50307816e-01  4.93985764e-01\n",
      "  4.27886494e-01 -2.72882700e-04]\n"
     ]
    }
   ],
   "source": [
    "print('k-fold val R2 values:', mean_val_R2_lambdas.squeeze())\n",
    "print('k-fold train R2 values:', mean_train_R2_lambdas.squeeze())"
   ]
  },
  {
   "cell_type": "code",
   "execution_count": 204,
   "metadata": {},
   "outputs": [],
   "source": [
    "best_lambda_idx = np.argmax(mean_val_R2_lambdas)\n",
    "best_lambda = lambdas[best_lambda_idx]"
   ]
  },
  {
   "cell_type": "code",
   "execution_count": 205,
   "metadata": {},
   "outputs": [
    {
     "name": "stdout",
     "output_type": "stream",
     "text": [
      "best lambda: 0.1\n"
     ]
    }
   ],
   "source": [
    "print('best lambda:', best_lambda)"
   ]
  },
  {
   "cell_type": "code",
   "execution_count": 206,
   "metadata": {},
   "outputs": [
    {
     "data": {
      "image/png": "[encoded data removed]",
      "text/plain": [
       "<Figure size 432x288 with 1 Axes>"
      ]
     },
     "metadata": {
      "needs_background": "light"
     },
     "output_type": "display_data"
    }
   ],
   "source": [
    "plt.plot(lambdas, mean_train_R2_lambdas,label = \"Training\")\n",
    "plt.plot(lambdas, mean_val_R2_lambdas,label = \"Validation\")\n",
    "plt.xscale('log')\n",
    "plt.title('Cross validation results: Average R^2 vs. Lambda')\n",
    "plt.ylabel('Average R^2')\n",
    "plt.xlabel('Lambda')\n",
    "plt.xticks([1e-5,1e-4,1e-3,1e-2,1e-1,1,10,100,1000,10000])\n",
    "plt.grid()\n",
    "plt.legend()\n",
    "plt.show()\n",
    "     "
   ]
  },
  {
   "cell_type": "code",
   "execution_count": 208,
   "metadata": {},
   "outputs": [],
   "source": [
    "x_train = auto_data_train[auto_data_train.columns[cols]]\n",
    "x_train = x_train.to_numpy()\n",
    "\n",
    "x_train = np.hstack((x_train, np.ones((x_train.shape[0],1), dtype=x_train.dtype)))\n",
    "y_train = auto_data_train[auto_data_train.columns[respose_col]].to_numpy()\n",
    "\n"
   ]
  },
  {
   "cell_type": "code",
   "execution_count": 209,
   "metadata": {},
   "outputs": [],
   "source": [
    "x_test = auto_data_test[auto_data_test.columns[cols]].to_numpy()\n",
    "x_test = np.hstack((x_test, np.ones((x_test.shape[0],1), dtype=x_test.dtype)))\n",
    "\n",
    "y_test = auto_data_test[auto_data_test.columns[respose_col]].to_numpy()\n"
   ]
  },
  {
   "cell_type": "code",
   "execution_count": 212,
   "metadata": {},
   "outputs": [],
   "source": [
    "XTX = np.matmul(np.transpose(x_train),x_train)\n",
    "XTY = np.matmul(np.transpose(x_train),y_train)\n",
    "\n",
    "I = np.identity(x_train.shape[1])\n",
    "\n",
    "beta = scipy.linalg.solve(XTX + best_lambda*I ,XTY)\n"
   ]
  },
  {
   "cell_type": "code",
   "execution_count": 213,
   "metadata": {},
   "outputs": [
    {
     "name": "stdout",
     "output_type": "stream",
     "text": [
      "lambda: 0.1\n",
      "Final beta: [[-2.10216193e-01]\n",
      " [ 1.34714111e-03]\n",
      " [-3.08104376e-02]\n",
      " [-5.98765935e-03]\n",
      " [ 1.52628888e-01]\n",
      " [ 4.31287792e+01]]\n",
      "***************\n"
     ]
    }
   ],
   "source": [
    "print('lambda:',best_lambda)\n",
    "print('Final beta:',beta)\n",
    "print('***************')"
   ]
  },
  {
   "cell_type": "code",
   "execution_count": 214,
   "metadata": {},
   "outputs": [
    {
     "name": "stdout",
     "output_type": "stream",
     "text": [
      "R^2 [0.70244902] MSE:  [18.43829934]\n",
      "R^2 [0.71894723] MSE:  [15.6605302]\n",
      "Train R^2 : [0.70244902]  Train MSE: [18.43829934]\n",
      "Test R^2 : [0.71894723]  Test MSE: [15.6605302]\n"
     ]
    }
   ],
   "source": [
    "train_R2, train_MSE = compute_Rq_and_MSE(auto_data_train, beta, x_train,y_train)\n",
    "test_R2, test_MSE = compute_Rq_and_MSE(auto_data_test, beta,x_test, y_test)\n",
    "\n",
    "print('Train R^2 :', train_R2, ' Train MSE:', train_MSE)\n",
    "print('Test R^2 :', test_R2, ' Test MSE:', test_MSE)"
   ]
  },
  {
   "attachments": {},
   "cell_type": "markdown",
   "metadata": {},
   "source": [
    "Checking performance on test datset-"
   ]
  },
  {
   "cell_type": "code",
   "execution_count": 215,
   "metadata": {},
   "outputs": [
    {
     "data": {
      "image/png": "[encoded data removed]",
      "text/plain": [
       "<Figure size 432x288 with 1 Axes>"
      ]
     },
     "metadata": {
      "needs_background": "light"
     },
     "output_type": "display_data"
    }
   ],
   "source": [
    "e_i_residual_list = []\n",
    "\n",
    "n = len(auto_data_test.index)\n",
    "\n",
    "for i in range(n):\n",
    "    x_i = x_test[i,:]\n",
    "    y_i = y_test[i]\n",
    "\n",
    "    y_pred_i = np.dot(x_i, beta)\n",
    "    e_i = y_i - y_pred_i\n",
    "\n",
    "    e_i_residual_list.append(e_i)\n",
    "\n",
    "plt.scatter(auto_data_test['mpg'], e_i_residual_list,color='r')\n",
    "plt.title(\"Residual plot on test data set\")\n",
    "plt.xlabel(\"mpg value\")\n",
    "plt.ylabel(\"Residuals\")\n",
    "plt.grid()\n",
    "plt.show()"
   ]
  },
  {
   "cell_type": "code",
   "execution_count": 219,
   "metadata": {},
   "outputs": [
    {
     "name": "stdout",
     "output_type": "stream",
     "text": [
      "Peformance on test data:\n",
      "y_bar 23.05128205128205\n",
      "sigma_yy 4346.2348717948735\n",
      "lambda: 0.1\n",
      "sum of squared residuals: [1221.52135587]\n",
      "R^2: [0.71894723]\n",
      "*********************\n"
     ]
    }
   ],
   "source": [
    "print('Peformance on test data:')\n",
    "\n",
    "y_bar = np.mean(y_test)\n",
    "print('y_bar' , y_bar)\n",
    "\n",
    "sigma_yy = 0\n",
    "\n",
    "for i in range(n):\n",
    "    y_i = float(auto_data_test.iat[i,0])\n",
    "    sigma_yy += (y_i - y_bar)**2\n",
    "\n",
    "print('sigma_yy', sigma_yy)\n",
    "\n",
    "sum_sq_residual = 0\n",
    "\n",
    "for i in range(n):\n",
    "    x_i = x_test[i,:]\n",
    "    y_i = y_test[i]\n",
    "\n",
    "    y_pred_i = np.dot(x_i,beta)\n",
    "    e_i = y_i - y_pred_i\n",
    "\n",
    "    sum_sq_residual += (e_i)**2\n",
    "\n",
    "print('lambda:',best_lambda)\n",
    "print('sum of squared residuals:', sum_sq_residual)\n",
    "\n",
    "#Then we will compute the R^2 quantity\n",
    "R_sq = 1-sum_sq_residual/sigma_yy\n",
    "print('R^2:',R_sq)\n",
    "print('*********************')"
   ]
  },
  {
   "cell_type": "code",
   "execution_count": null,
   "metadata": {},
   "outputs": [],
   "source": []
  }
 ],
 "metadata": {
  "kernelspec": {
   "display_name": "Python 3",
   "language": "python",
   "name": "python3"
  },
  "language_info": {
   "codemirror_mode": {
    "name": "ipython",
    "version": 3
   },
   "file_extension": ".py",
   "mimetype": "text/x-python",
   "name": "python",
   "nbconvert_exporter": "python",
   "pygments_lexer": "ipython3",
   "version": "3.9.7"
  },
  "orig_nbformat": 4,
  "vscode": {
   "interpreter": {
    "hash": "9f3e08e97ec3800875dc771278e5e1cac5dd41c8b0a0d355a2afd45c26016379"
   }
  }
 },
 "nbformat": 4,
 "nbformat_minor": 2
}
