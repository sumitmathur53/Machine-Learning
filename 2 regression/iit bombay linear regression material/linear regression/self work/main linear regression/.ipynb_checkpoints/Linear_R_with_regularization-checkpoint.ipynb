{
 "cells": [
  {
   "cell_type": "markdown",
   "metadata": {},
   "source": [
    "# linaer Regression with regularizaters"
   ]
  },
  {
   "cell_type": "code",
   "execution_count": 1,
   "metadata": {},
   "outputs": [],
   "source": [
    "import pandas as pd\n",
    "import numpy as np\n",
    "import matplotlib.pyplot as plt"
   ]
  },
  {
   "cell_type": "code",
   "execution_count": 2,
   "metadata": {},
   "outputs": [
    {
     "data": {
      "text/html": [
       "<div>\n",
       "<style scoped>\n",
       "    .dataframe tbody tr th:only-of-type {\n",
       "        vertical-align: middle;\n",
       "    }\n",
       "\n",
       "    .dataframe tbody tr th {\n",
       "        vertical-align: top;\n",
       "    }\n",
       "\n",
       "    .dataframe thead th {\n",
       "        text-align: right;\n",
       "    }\n",
       "</style>\n",
       "<table border=\"1\" class=\"dataframe\">\n",
       "  <thead>\n",
       "    <tr style=\"text-align: right;\">\n",
       "      <th></th>\n",
       "      <th>0</th>\n",
       "      <th>1</th>\n",
       "      <th>2</th>\n",
       "      <th>3</th>\n",
       "      <th>4</th>\n",
       "      <th>5</th>\n",
       "      <th>6</th>\n",
       "      <th>7</th>\n",
       "      <th>8</th>\n",
       "    </tr>\n",
       "  </thead>\n",
       "  <tbody>\n",
       "    <tr>\n",
       "      <th>0</th>\n",
       "      <td>18.0</td>\n",
       "      <td>8</td>\n",
       "      <td>307.0</td>\n",
       "      <td>130.0</td>\n",
       "      <td>3504.0</td>\n",
       "      <td>12.0</td>\n",
       "      <td>70</td>\n",
       "      <td>1</td>\n",
       "      <td>chevrolet chevelle malibu</td>\n",
       "    </tr>\n",
       "    <tr>\n",
       "      <th>1</th>\n",
       "      <td>15.0</td>\n",
       "      <td>8</td>\n",
       "      <td>350.0</td>\n",
       "      <td>165.0</td>\n",
       "      <td>3693.0</td>\n",
       "      <td>11.5</td>\n",
       "      <td>70</td>\n",
       "      <td>1</td>\n",
       "      <td>buick skylark 320</td>\n",
       "    </tr>\n",
       "    <tr>\n",
       "      <th>2</th>\n",
       "      <td>18.0</td>\n",
       "      <td>8</td>\n",
       "      <td>318.0</td>\n",
       "      <td>150.0</td>\n",
       "      <td>3436.0</td>\n",
       "      <td>11.0</td>\n",
       "      <td>70</td>\n",
       "      <td>1</td>\n",
       "      <td>plymouth satellite</td>\n",
       "    </tr>\n",
       "    <tr>\n",
       "      <th>3</th>\n",
       "      <td>16.0</td>\n",
       "      <td>8</td>\n",
       "      <td>304.0</td>\n",
       "      <td>150.0</td>\n",
       "      <td>3433.0</td>\n",
       "      <td>12.0</td>\n",
       "      <td>70</td>\n",
       "      <td>1</td>\n",
       "      <td>amc rebel sst</td>\n",
       "    </tr>\n",
       "    <tr>\n",
       "      <th>4</th>\n",
       "      <td>17.0</td>\n",
       "      <td>8</td>\n",
       "      <td>302.0</td>\n",
       "      <td>140.0</td>\n",
       "      <td>3449.0</td>\n",
       "      <td>10.5</td>\n",
       "      <td>70</td>\n",
       "      <td>1</td>\n",
       "      <td>ford torino</td>\n",
       "    </tr>\n",
       "  </tbody>\n",
       "</table>\n",
       "</div>"
      ],
      "text/plain": [
       "      0  1      2      3       4     5   6  7                          8\n",
       "0  18.0  8  307.0  130.0  3504.0  12.0  70  1  chevrolet chevelle malibu\n",
       "1  15.0  8  350.0  165.0  3693.0  11.5  70  1          buick skylark 320\n",
       "2  18.0  8  318.0  150.0  3436.0  11.0  70  1         plymouth satellite\n",
       "3  16.0  8  304.0  150.0  3433.0  12.0  70  1              amc rebel sst\n",
       "4  17.0  8  302.0  140.0  3449.0  10.5  70  1                ford torino"
      ]
     },
     "execution_count": 2,
     "metadata": {},
     "output_type": "execute_result"
    }
   ],
   "source": [
    "auto_data = pd.read_csv('https://archive.ics.uci.edu/ml/machine-learning-databases/auto-mpg/auto-mpg.data', delim_whitespace=True, index_col=False, header=None)\n",
    " \n",
    "auto_data.head()"
   ]
  },
  {
   "cell_type": "code",
   "execution_count": 3,
   "metadata": {},
   "outputs": [
    {
     "data": {
      "text/plain": [
       "(398, 9)"
      ]
     },
     "execution_count": 3,
     "metadata": {},
     "output_type": "execute_result"
    }
   ],
   "source": [
    "auto_data.shape"
   ]
  },
  {
   "cell_type": "code",
   "execution_count": 4,
   "metadata": {},
   "outputs": [
    {
     "name": "stdout",
     "output_type": "stream",
     "text": [
      "1. Title: Auto-Mpg Data\n",
      "\n",
      "\n",
      "\n",
      "2. Sources:\n",
      "\n",
      "   (a) Origin:  This dataset was taken from the StatLib library which is\n",
      "\n",
      "                maintained at Carnegie Mellon University. The dataset was \n",
      "\n",
      "                used in the 1983 American Statistical Association Exposition.\n",
      "\n",
      "   (c) Date: July 7, 1993\n",
      "\n",
      "\n",
      "\n",
      "3. Past Usage:\n",
      "\n",
      "    -  See 2b (above)\n",
      "\n",
      "    -  Quinlan,R. (1993). Combining Instance-Based and Model-Based Learning.\n",
      "\n",
      "       In Proceedings on the Tenth International Conference of Machine \n",
      "\n",
      "       Learning, 236-243, University of Massachusetts, Amherst. Morgan\n",
      "\n",
      "       Kaufmann.\n",
      "\n",
      "\n",
      "\n",
      "4. Relevant Information:\n",
      "\n",
      "\n",
      "\n",
      "   This dataset is a slightly modified version of the dataset provided in\n",
      "\n",
      "   the StatLib library.  In line with the use by Ross Quinlan (1993) in\n",
      "\n",
      "   predicting the attribute \"mpg\", 8 of the original instances were removed \n",
      "\n",
      "   because they had unknown values for the \"mpg\" attribute.  The original \n",
      "\n",
      "   dataset is available in the file \"auto-mpg.data-original\".\n",
      "\n",
      "\n",
      "\n",
      "   \"The data concerns city-cycle fuel consumption in miles per gallon,\n",
      "\n",
      "    to be predicted in terms of 3 multivalued discrete and 5 continuous\n",
      "\n",
      "    attributes.\" (Quinlan, 1993)\n",
      "\n",
      "\n",
      "\n",
      "5. Number of Instances: 398\n",
      "\n",
      "\n",
      "\n",
      "6. Number of Attributes: 9 including the class attribute\n",
      "\n",
      "\n",
      "\n",
      "7. Attribute Information:\n",
      "\n",
      "\n",
      "\n",
      "    1. mpg:           continuous\n",
      "\n",
      "    2. cylinders:     multi-valued discrete\n",
      "\n",
      "    3. displacement:  continuous\n",
      "\n",
      "    4. horsepower:    continuous\n",
      "\n",
      "    5. weight:        continuous\n",
      "\n",
      "    6. acceleration:  continuous\n",
      "\n",
      "    7. model year:    multi-valued discrete\n",
      "\n",
      "    8. origin:        multi-valued discrete\n",
      "\n",
      "    9. car name:      string (unique for each instance)\n",
      "\n",
      "\n",
      "\n",
      "8. Missing Attribute Values:  horsepower has 6 missing values\n",
      "\n",
      "\n",
      "\n"
     ]
    }
   ],
   "source": [
    "\n",
    "import urllib.request  #this package is useful for accessing text files over internet \n",
    "auto_mpg_data_description_file = urllib.request.urlopen('https://archive.ics.uci.edu/ml/machine-learning-databases/auto-mpg/auto-mpg.names')\n",
    "\n",
    "\n",
    "for line in auto_mpg_data_description_file:\n",
    "  decoded_line = line.decode(\"utf-8\")\n",
    "  print(decoded_line) "
   ]
  },
  {
   "cell_type": "code",
   "execution_count": 5,
   "metadata": {},
   "outputs": [
    {
     "data": {
      "text/html": [
       "<div>\n",
       "<style scoped>\n",
       "    .dataframe tbody tr th:only-of-type {\n",
       "        vertical-align: middle;\n",
       "    }\n",
       "\n",
       "    .dataframe tbody tr th {\n",
       "        vertical-align: top;\n",
       "    }\n",
       "\n",
       "    .dataframe thead th {\n",
       "        text-align: right;\n",
       "    }\n",
       "</style>\n",
       "<table border=\"1\" class=\"dataframe\">\n",
       "  <thead>\n",
       "    <tr style=\"text-align: right;\">\n",
       "      <th></th>\n",
       "      <th>mpg</th>\n",
       "      <th>cylinders</th>\n",
       "      <th>displacement</th>\n",
       "      <th>horsepower</th>\n",
       "      <th>weight</th>\n",
       "      <th>acceleration</th>\n",
       "      <th>model year</th>\n",
       "      <th>origin</th>\n",
       "      <th>car name</th>\n",
       "    </tr>\n",
       "  </thead>\n",
       "  <tbody>\n",
       "    <tr>\n",
       "      <th>0</th>\n",
       "      <td>18.0</td>\n",
       "      <td>8</td>\n",
       "      <td>307.0</td>\n",
       "      <td>130.0</td>\n",
       "      <td>3504.0</td>\n",
       "      <td>12.0</td>\n",
       "      <td>70</td>\n",
       "      <td>1</td>\n",
       "      <td>chevrolet chevelle malibu</td>\n",
       "    </tr>\n",
       "    <tr>\n",
       "      <th>1</th>\n",
       "      <td>15.0</td>\n",
       "      <td>8</td>\n",
       "      <td>350.0</td>\n",
       "      <td>165.0</td>\n",
       "      <td>3693.0</td>\n",
       "      <td>11.5</td>\n",
       "      <td>70</td>\n",
       "      <td>1</td>\n",
       "      <td>buick skylark 320</td>\n",
       "    </tr>\n",
       "    <tr>\n",
       "      <th>2</th>\n",
       "      <td>18.0</td>\n",
       "      <td>8</td>\n",
       "      <td>318.0</td>\n",
       "      <td>150.0</td>\n",
       "      <td>3436.0</td>\n",
       "      <td>11.0</td>\n",
       "      <td>70</td>\n",
       "      <td>1</td>\n",
       "      <td>plymouth satellite</td>\n",
       "    </tr>\n",
       "    <tr>\n",
       "      <th>3</th>\n",
       "      <td>16.0</td>\n",
       "      <td>8</td>\n",
       "      <td>304.0</td>\n",
       "      <td>150.0</td>\n",
       "      <td>3433.0</td>\n",
       "      <td>12.0</td>\n",
       "      <td>70</td>\n",
       "      <td>1</td>\n",
       "      <td>amc rebel sst</td>\n",
       "    </tr>\n",
       "    <tr>\n",
       "      <th>4</th>\n",
       "      <td>17.0</td>\n",
       "      <td>8</td>\n",
       "      <td>302.0</td>\n",
       "      <td>140.0</td>\n",
       "      <td>3449.0</td>\n",
       "      <td>10.5</td>\n",
       "      <td>70</td>\n",
       "      <td>1</td>\n",
       "      <td>ford torino</td>\n",
       "    </tr>\n",
       "  </tbody>\n",
       "</table>\n",
       "</div>"
      ],
      "text/plain": [
       "    mpg  cylinders  displacement horsepower  weight  acceleration  model year  \\\n",
       "0  18.0          8         307.0      130.0  3504.0          12.0          70   \n",
       "1  15.0          8         350.0      165.0  3693.0          11.5          70   \n",
       "2  18.0          8         318.0      150.0  3436.0          11.0          70   \n",
       "3  16.0          8         304.0      150.0  3433.0          12.0          70   \n",
       "4  17.0          8         302.0      140.0  3449.0          10.5          70   \n",
       "\n",
       "   origin                   car name  \n",
       "0       1  chevrolet chevelle malibu  \n",
       "1       1          buick skylark 320  \n",
       "2       1         plymouth satellite  \n",
       "3       1              amc rebel sst  \n",
       "4       1                ford torino  "
      ]
     },
     "execution_count": 5,
     "metadata": {},
     "output_type": "execute_result"
    }
   ],
   "source": [
    "\n",
    "auto_data.columns = ['mpg', 'cylinders', 'displacement','horsepower', 'weight','acceleration','model year','origin','car name']\n",
    "\n",
    "\n",
    "#check by printing the data again\n",
    "auto_data.head()"
   ]
  },
  {
   "cell_type": "code",
   "execution_count": 6,
   "metadata": {},
   "outputs": [
    {
     "data": {
      "text/html": [
       "<div>\n",
       "<style scoped>\n",
       "    .dataframe tbody tr th:only-of-type {\n",
       "        vertical-align: middle;\n",
       "    }\n",
       "\n",
       "    .dataframe tbody tr th {\n",
       "        vertical-align: top;\n",
       "    }\n",
       "\n",
       "    .dataframe thead th {\n",
       "        text-align: right;\n",
       "    }\n",
       "</style>\n",
       "<table border=\"1\" class=\"dataframe\">\n",
       "  <thead>\n",
       "    <tr style=\"text-align: right;\">\n",
       "      <th></th>\n",
       "      <th>mpg</th>\n",
       "      <th>cylinders</th>\n",
       "      <th>displacement</th>\n",
       "      <th>horsepower</th>\n",
       "      <th>weight</th>\n",
       "      <th>acceleration</th>\n",
       "      <th>model year</th>\n",
       "      <th>origin</th>\n",
       "      <th>car name</th>\n",
       "    </tr>\n",
       "  </thead>\n",
       "  <tbody>\n",
       "    <tr>\n",
       "      <th>0</th>\n",
       "      <td>False</td>\n",
       "      <td>False</td>\n",
       "      <td>False</td>\n",
       "      <td>False</td>\n",
       "      <td>False</td>\n",
       "      <td>False</td>\n",
       "      <td>False</td>\n",
       "      <td>False</td>\n",
       "      <td>False</td>\n",
       "    </tr>\n",
       "    <tr>\n",
       "      <th>1</th>\n",
       "      <td>False</td>\n",
       "      <td>False</td>\n",
       "      <td>False</td>\n",
       "      <td>False</td>\n",
       "      <td>False</td>\n",
       "      <td>False</td>\n",
       "      <td>False</td>\n",
       "      <td>False</td>\n",
       "      <td>False</td>\n",
       "    </tr>\n",
       "    <tr>\n",
       "      <th>2</th>\n",
       "      <td>False</td>\n",
       "      <td>False</td>\n",
       "      <td>False</td>\n",
       "      <td>False</td>\n",
       "      <td>False</td>\n",
       "      <td>False</td>\n",
       "      <td>False</td>\n",
       "      <td>False</td>\n",
       "      <td>False</td>\n",
       "    </tr>\n",
       "    <tr>\n",
       "      <th>3</th>\n",
       "      <td>False</td>\n",
       "      <td>False</td>\n",
       "      <td>False</td>\n",
       "      <td>False</td>\n",
       "      <td>False</td>\n",
       "      <td>False</td>\n",
       "      <td>False</td>\n",
       "      <td>False</td>\n",
       "      <td>False</td>\n",
       "    </tr>\n",
       "    <tr>\n",
       "      <th>4</th>\n",
       "      <td>False</td>\n",
       "      <td>False</td>\n",
       "      <td>False</td>\n",
       "      <td>False</td>\n",
       "      <td>False</td>\n",
       "      <td>False</td>\n",
       "      <td>False</td>\n",
       "      <td>False</td>\n",
       "      <td>False</td>\n",
       "    </tr>\n",
       "    <tr>\n",
       "      <th>...</th>\n",
       "      <td>...</td>\n",
       "      <td>...</td>\n",
       "      <td>...</td>\n",
       "      <td>...</td>\n",
       "      <td>...</td>\n",
       "      <td>...</td>\n",
       "      <td>...</td>\n",
       "      <td>...</td>\n",
       "      <td>...</td>\n",
       "    </tr>\n",
       "    <tr>\n",
       "      <th>393</th>\n",
       "      <td>False</td>\n",
       "      <td>False</td>\n",
       "      <td>False</td>\n",
       "      <td>False</td>\n",
       "      <td>False</td>\n",
       "      <td>False</td>\n",
       "      <td>False</td>\n",
       "      <td>False</td>\n",
       "      <td>False</td>\n",
       "    </tr>\n",
       "    <tr>\n",
       "      <th>394</th>\n",
       "      <td>False</td>\n",
       "      <td>False</td>\n",
       "      <td>False</td>\n",
       "      <td>False</td>\n",
       "      <td>False</td>\n",
       "      <td>False</td>\n",
       "      <td>False</td>\n",
       "      <td>False</td>\n",
       "      <td>False</td>\n",
       "    </tr>\n",
       "    <tr>\n",
       "      <th>395</th>\n",
       "      <td>False</td>\n",
       "      <td>False</td>\n",
       "      <td>False</td>\n",
       "      <td>False</td>\n",
       "      <td>False</td>\n",
       "      <td>False</td>\n",
       "      <td>False</td>\n",
       "      <td>False</td>\n",
       "      <td>False</td>\n",
       "    </tr>\n",
       "    <tr>\n",
       "      <th>396</th>\n",
       "      <td>False</td>\n",
       "      <td>False</td>\n",
       "      <td>False</td>\n",
       "      <td>False</td>\n",
       "      <td>False</td>\n",
       "      <td>False</td>\n",
       "      <td>False</td>\n",
       "      <td>False</td>\n",
       "      <td>False</td>\n",
       "    </tr>\n",
       "    <tr>\n",
       "      <th>397</th>\n",
       "      <td>False</td>\n",
       "      <td>False</td>\n",
       "      <td>False</td>\n",
       "      <td>False</td>\n",
       "      <td>False</td>\n",
       "      <td>False</td>\n",
       "      <td>False</td>\n",
       "      <td>False</td>\n",
       "      <td>False</td>\n",
       "    </tr>\n",
       "  </tbody>\n",
       "</table>\n",
       "<p>398 rows × 9 columns</p>\n",
       "</div>"
      ],
      "text/plain": [
       "       mpg  cylinders  displacement  horsepower  weight  acceleration  \\\n",
       "0    False      False         False       False   False         False   \n",
       "1    False      False         False       False   False         False   \n",
       "2    False      False         False       False   False         False   \n",
       "3    False      False         False       False   False         False   \n",
       "4    False      False         False       False   False         False   \n",
       "..     ...        ...           ...         ...     ...           ...   \n",
       "393  False      False         False       False   False         False   \n",
       "394  False      False         False       False   False         False   \n",
       "395  False      False         False       False   False         False   \n",
       "396  False      False         False       False   False         False   \n",
       "397  False      False         False       False   False         False   \n",
       "\n",
       "     model year  origin  car name  \n",
       "0         False   False     False  \n",
       "1         False   False     False  \n",
       "2         False   False     False  \n",
       "3         False   False     False  \n",
       "4         False   False     False  \n",
       "..          ...     ...       ...  \n",
       "393       False   False     False  \n",
       "394       False   False     False  \n",
       "395       False   False     False  \n",
       "396       False   False     False  \n",
       "397       False   False     False  \n",
       "\n",
       "[398 rows x 9 columns]"
      ]
     },
     "execution_count": 6,
     "metadata": {},
     "output_type": "execute_result"
    }
   ],
   "source": [
    "auto_data.isnull()"
   ]
  },
  {
   "cell_type": "code",
   "execution_count": 7,
   "metadata": {},
   "outputs": [
    {
     "name": "stdout",
     "output_type": "stream",
     "text": [
      "mpg             0\n",
      "cylinders       0\n",
      "displacement    0\n",
      "horsepower      0\n",
      "weight          0\n",
      "acceleration    0\n",
      "model year      0\n",
      "origin          0\n",
      "car name        0\n",
      "dtype: int64\n"
     ]
    }
   ],
   "source": [
    "print(auto_data.isnull().sum())"
   ]
  },
  {
   "cell_type": "code",
   "execution_count": 8,
   "metadata": {},
   "outputs": [
    {
     "name": "stdout",
     "output_type": "stream",
     "text": [
      "mpg             129\n",
      "cylinders         5\n",
      "displacement     82\n",
      "horsepower       94\n",
      "weight          351\n",
      "acceleration     95\n",
      "model year       13\n",
      "origin            3\n",
      "car name        305\n",
      "dtype: int64\n"
     ]
    }
   ],
   "source": [
    "print(auto_data.nunique())"
   ]
  },
  {
   "cell_type": "markdown",
   "metadata": {},
   "source": [
    "*Dropping the rows that contains \"?\" in the column \"Horsepower\"*"
   ]
  },
  {
   "cell_type": "code",
   "execution_count": 9,
   "metadata": {},
   "outputs": [],
   "source": [
    "auto_data = auto_data.replace('?', np.nan)"
   ]
  },
  {
   "cell_type": "code",
   "execution_count": 10,
   "metadata": {},
   "outputs": [
    {
     "name": "stdout",
     "output_type": "stream",
     "text": [
      "mpg             0\n",
      "cylinders       0\n",
      "displacement    0\n",
      "horsepower      6\n",
      "weight          0\n",
      "acceleration    0\n",
      "model year      0\n",
      "origin          0\n",
      "car name        0\n",
      "dtype: int64\n"
     ]
    }
   ],
   "source": [
    "print(auto_data.isnull().sum())"
   ]
  },
  {
   "cell_type": "code",
   "execution_count": 11,
   "metadata": {},
   "outputs": [
    {
     "name": "stdout",
     "output_type": "stream",
     "text": [
      "mpg             0\n",
      "cylinders       0\n",
      "displacement    0\n",
      "horsepower      0\n",
      "weight          0\n",
      "acceleration    0\n",
      "model year      0\n",
      "origin          0\n",
      "car name        0\n",
      "dtype: int64\n"
     ]
    }
   ],
   "source": [
    "auto_data = auto_data.dropna()\n",
    "print(auto_data.isnull().sum())"
   ]
  },
  {
   "cell_type": "code",
   "execution_count": 12,
   "metadata": {},
   "outputs": [
    {
     "data": {
      "text/html": [
       "<div>\n",
       "<style scoped>\n",
       "    .dataframe tbody tr th:only-of-type {\n",
       "        vertical-align: middle;\n",
       "    }\n",
       "\n",
       "    .dataframe tbody tr th {\n",
       "        vertical-align: top;\n",
       "    }\n",
       "\n",
       "    .dataframe thead th {\n",
       "        text-align: right;\n",
       "    }\n",
       "</style>\n",
       "<table border=\"1\" class=\"dataframe\">\n",
       "  <thead>\n",
       "    <tr style=\"text-align: right;\">\n",
       "      <th></th>\n",
       "      <th>mpg</th>\n",
       "      <th>cylinders</th>\n",
       "      <th>displacement</th>\n",
       "      <th>horsepower</th>\n",
       "      <th>weight</th>\n",
       "      <th>acceleration</th>\n",
       "      <th>model year</th>\n",
       "      <th>origin</th>\n",
       "      <th>car name</th>\n",
       "    </tr>\n",
       "  </thead>\n",
       "  <tbody>\n",
       "    <tr>\n",
       "      <th>0</th>\n",
       "      <td>18.0</td>\n",
       "      <td>8</td>\n",
       "      <td>307.0</td>\n",
       "      <td>130.0</td>\n",
       "      <td>3504.0</td>\n",
       "      <td>12.0</td>\n",
       "      <td>70</td>\n",
       "      <td>1</td>\n",
       "      <td>chevrolet chevelle malibu</td>\n",
       "    </tr>\n",
       "    <tr>\n",
       "      <th>1</th>\n",
       "      <td>15.0</td>\n",
       "      <td>8</td>\n",
       "      <td>350.0</td>\n",
       "      <td>165.0</td>\n",
       "      <td>3693.0</td>\n",
       "      <td>11.5</td>\n",
       "      <td>70</td>\n",
       "      <td>1</td>\n",
       "      <td>buick skylark 320</td>\n",
       "    </tr>\n",
       "    <tr>\n",
       "      <th>2</th>\n",
       "      <td>18.0</td>\n",
       "      <td>8</td>\n",
       "      <td>318.0</td>\n",
       "      <td>150.0</td>\n",
       "      <td>3436.0</td>\n",
       "      <td>11.0</td>\n",
       "      <td>70</td>\n",
       "      <td>1</td>\n",
       "      <td>plymouth satellite</td>\n",
       "    </tr>\n",
       "    <tr>\n",
       "      <th>3</th>\n",
       "      <td>16.0</td>\n",
       "      <td>8</td>\n",
       "      <td>304.0</td>\n",
       "      <td>150.0</td>\n",
       "      <td>3433.0</td>\n",
       "      <td>12.0</td>\n",
       "      <td>70</td>\n",
       "      <td>1</td>\n",
       "      <td>amc rebel sst</td>\n",
       "    </tr>\n",
       "    <tr>\n",
       "      <th>4</th>\n",
       "      <td>17.0</td>\n",
       "      <td>8</td>\n",
       "      <td>302.0</td>\n",
       "      <td>140.0</td>\n",
       "      <td>3449.0</td>\n",
       "      <td>10.5</td>\n",
       "      <td>70</td>\n",
       "      <td>1</td>\n",
       "      <td>ford torino</td>\n",
       "    </tr>\n",
       "    <tr>\n",
       "      <th>...</th>\n",
       "      <td>...</td>\n",
       "      <td>...</td>\n",
       "      <td>...</td>\n",
       "      <td>...</td>\n",
       "      <td>...</td>\n",
       "      <td>...</td>\n",
       "      <td>...</td>\n",
       "      <td>...</td>\n",
       "      <td>...</td>\n",
       "    </tr>\n",
       "    <tr>\n",
       "      <th>393</th>\n",
       "      <td>27.0</td>\n",
       "      <td>4</td>\n",
       "      <td>140.0</td>\n",
       "      <td>86.00</td>\n",
       "      <td>2790.0</td>\n",
       "      <td>15.6</td>\n",
       "      <td>82</td>\n",
       "      <td>1</td>\n",
       "      <td>ford mustang gl</td>\n",
       "    </tr>\n",
       "    <tr>\n",
       "      <th>394</th>\n",
       "      <td>44.0</td>\n",
       "      <td>4</td>\n",
       "      <td>97.0</td>\n",
       "      <td>52.00</td>\n",
       "      <td>2130.0</td>\n",
       "      <td>24.6</td>\n",
       "      <td>82</td>\n",
       "      <td>2</td>\n",
       "      <td>vw pickup</td>\n",
       "    </tr>\n",
       "    <tr>\n",
       "      <th>395</th>\n",
       "      <td>32.0</td>\n",
       "      <td>4</td>\n",
       "      <td>135.0</td>\n",
       "      <td>84.00</td>\n",
       "      <td>2295.0</td>\n",
       "      <td>11.6</td>\n",
       "      <td>82</td>\n",
       "      <td>1</td>\n",
       "      <td>dodge rampage</td>\n",
       "    </tr>\n",
       "    <tr>\n",
       "      <th>396</th>\n",
       "      <td>28.0</td>\n",
       "      <td>4</td>\n",
       "      <td>120.0</td>\n",
       "      <td>79.00</td>\n",
       "      <td>2625.0</td>\n",
       "      <td>18.6</td>\n",
       "      <td>82</td>\n",
       "      <td>1</td>\n",
       "      <td>ford ranger</td>\n",
       "    </tr>\n",
       "    <tr>\n",
       "      <th>397</th>\n",
       "      <td>31.0</td>\n",
       "      <td>4</td>\n",
       "      <td>119.0</td>\n",
       "      <td>82.00</td>\n",
       "      <td>2720.0</td>\n",
       "      <td>19.4</td>\n",
       "      <td>82</td>\n",
       "      <td>1</td>\n",
       "      <td>chevy s-10</td>\n",
       "    </tr>\n",
       "  </tbody>\n",
       "</table>\n",
       "<p>392 rows × 9 columns</p>\n",
       "</div>"
      ],
      "text/plain": [
       "      mpg  cylinders  displacement horsepower  weight  acceleration  \\\n",
       "0    18.0          8         307.0      130.0  3504.0          12.0   \n",
       "1    15.0          8         350.0      165.0  3693.0          11.5   \n",
       "2    18.0          8         318.0      150.0  3436.0          11.0   \n",
       "3    16.0          8         304.0      150.0  3433.0          12.0   \n",
       "4    17.0          8         302.0      140.0  3449.0          10.5   \n",
       "..    ...        ...           ...        ...     ...           ...   \n",
       "393  27.0          4         140.0      86.00  2790.0          15.6   \n",
       "394  44.0          4          97.0      52.00  2130.0          24.6   \n",
       "395  32.0          4         135.0      84.00  2295.0          11.6   \n",
       "396  28.0          4         120.0      79.00  2625.0          18.6   \n",
       "397  31.0          4         119.0      82.00  2720.0          19.4   \n",
       "\n",
       "     model year  origin                   car name  \n",
       "0            70       1  chevrolet chevelle malibu  \n",
       "1            70       1          buick skylark 320  \n",
       "2            70       1         plymouth satellite  \n",
       "3            70       1              amc rebel sst  \n",
       "4            70       1                ford torino  \n",
       "..          ...     ...                        ...  \n",
       "393          82       1            ford mustang gl  \n",
       "394          82       2                  vw pickup  \n",
       "395          82       1              dodge rampage  \n",
       "396          82       1                ford ranger  \n",
       "397          82       1                 chevy s-10  \n",
       "\n",
       "[392 rows x 9 columns]"
      ]
     },
     "execution_count": 12,
     "metadata": {},
     "output_type": "execute_result"
    }
   ],
   "source": [
    "auto_data"
   ]
  },
  {
   "cell_type": "code",
   "execution_count": 13,
   "metadata": {},
   "outputs": [],
   "source": [
    "auto_data.drop('car name', axis = 1, inplace=True)"
   ]
  },
  {
   "cell_type": "code",
   "execution_count": 14,
   "metadata": {},
   "outputs": [
    {
     "data": {
      "text/html": [
       "<div>\n",
       "<style scoped>\n",
       "    .dataframe tbody tr th:only-of-type {\n",
       "        vertical-align: middle;\n",
       "    }\n",
       "\n",
       "    .dataframe tbody tr th {\n",
       "        vertical-align: top;\n",
       "    }\n",
       "\n",
       "    .dataframe thead th {\n",
       "        text-align: right;\n",
       "    }\n",
       "</style>\n",
       "<table border=\"1\" class=\"dataframe\">\n",
       "  <thead>\n",
       "    <tr style=\"text-align: right;\">\n",
       "      <th></th>\n",
       "      <th>mpg</th>\n",
       "      <th>cylinders</th>\n",
       "      <th>displacement</th>\n",
       "      <th>horsepower</th>\n",
       "      <th>weight</th>\n",
       "      <th>acceleration</th>\n",
       "      <th>model year</th>\n",
       "      <th>origin</th>\n",
       "    </tr>\n",
       "  </thead>\n",
       "  <tbody>\n",
       "    <tr>\n",
       "      <th>0</th>\n",
       "      <td>18.0</td>\n",
       "      <td>8</td>\n",
       "      <td>307.0</td>\n",
       "      <td>130.0</td>\n",
       "      <td>3504.0</td>\n",
       "      <td>12.0</td>\n",
       "      <td>70</td>\n",
       "      <td>1</td>\n",
       "    </tr>\n",
       "    <tr>\n",
       "      <th>1</th>\n",
       "      <td>15.0</td>\n",
       "      <td>8</td>\n",
       "      <td>350.0</td>\n",
       "      <td>165.0</td>\n",
       "      <td>3693.0</td>\n",
       "      <td>11.5</td>\n",
       "      <td>70</td>\n",
       "      <td>1</td>\n",
       "    </tr>\n",
       "    <tr>\n",
       "      <th>2</th>\n",
       "      <td>18.0</td>\n",
       "      <td>8</td>\n",
       "      <td>318.0</td>\n",
       "      <td>150.0</td>\n",
       "      <td>3436.0</td>\n",
       "      <td>11.0</td>\n",
       "      <td>70</td>\n",
       "      <td>1</td>\n",
       "    </tr>\n",
       "    <tr>\n",
       "      <th>3</th>\n",
       "      <td>16.0</td>\n",
       "      <td>8</td>\n",
       "      <td>304.0</td>\n",
       "      <td>150.0</td>\n",
       "      <td>3433.0</td>\n",
       "      <td>12.0</td>\n",
       "      <td>70</td>\n",
       "      <td>1</td>\n",
       "    </tr>\n",
       "    <tr>\n",
       "      <th>4</th>\n",
       "      <td>17.0</td>\n",
       "      <td>8</td>\n",
       "      <td>302.0</td>\n",
       "      <td>140.0</td>\n",
       "      <td>3449.0</td>\n",
       "      <td>10.5</td>\n",
       "      <td>70</td>\n",
       "      <td>1</td>\n",
       "    </tr>\n",
       "  </tbody>\n",
       "</table>\n",
       "</div>"
      ],
      "text/plain": [
       "    mpg  cylinders  displacement horsepower  weight  acceleration  model year  \\\n",
       "0  18.0          8         307.0      130.0  3504.0          12.0          70   \n",
       "1  15.0          8         350.0      165.0  3693.0          11.5          70   \n",
       "2  18.0          8         318.0      150.0  3436.0          11.0          70   \n",
       "3  16.0          8         304.0      150.0  3433.0          12.0          70   \n",
       "4  17.0          8         302.0      140.0  3449.0          10.5          70   \n",
       "\n",
       "   origin  \n",
       "0       1  \n",
       "1       1  \n",
       "2       1  \n",
       "3       1  \n",
       "4       1  "
      ]
     },
     "execution_count": 14,
     "metadata": {},
     "output_type": "execute_result"
    }
   ],
   "source": [
    "auto_data.head()"
   ]
  },
  {
   "cell_type": "code",
   "execution_count": 15,
   "metadata": {},
   "outputs": [],
   "source": [
    "auto_data.drop(['model year', 'origin'], axis=1, inplace=True)"
   ]
  },
  {
   "cell_type": "code",
   "execution_count": 16,
   "metadata": {},
   "outputs": [
    {
     "data": {
      "text/plain": [
       "mpg             float64\n",
       "cylinders         int64\n",
       "displacement    float64\n",
       "horsepower       object\n",
       "weight          float64\n",
       "acceleration    float64\n",
       "dtype: object"
      ]
     },
     "execution_count": 16,
     "metadata": {},
     "output_type": "execute_result"
    }
   ],
   "source": [
    "auto_data.dtypes"
   ]
  },
  {
   "cell_type": "code",
   "execution_count": 17,
   "metadata": {},
   "outputs": [],
   "source": [
    "auto_data = auto_data.astype(float)"
   ]
  },
  {
   "cell_type": "code",
   "execution_count": 18,
   "metadata": {},
   "outputs": [
    {
     "data": {
      "text/plain": [
       "mpg             float64\n",
       "cylinders       float64\n",
       "displacement    float64\n",
       "horsepower      float64\n",
       "weight          float64\n",
       "acceleration    float64\n",
       "dtype: object"
      ]
     },
     "execution_count": 18,
     "metadata": {},
     "output_type": "execute_result"
    }
   ],
   "source": [
    "auto_data.dtypes"
   ]
  },
  {
   "cell_type": "markdown",
   "metadata": {},
   "source": [
    "## Making a Train-Test-Validation split.."
   ]
  },
  {
   "cell_type": "code",
   "execution_count": 19,
   "metadata": {},
   "outputs": [],
   "source": [
    "auto_data_train = auto_data.sample(frac=0.8, random_state=200)\n",
    "auto_data_test = auto_data.drop(auto_data_train.index)"
   ]
  },
  {
   "cell_type": "code",
   "execution_count": 20,
   "metadata": {},
   "outputs": [
    {
     "data": {
      "text/plain": [
       "(314, 78)"
      ]
     },
     "execution_count": 20,
     "metadata": {},
     "output_type": "execute_result"
    }
   ],
   "source": [
    "len(auto_data_train) , len(auto_data_test)"
   ]
  },
  {
   "cell_type": "code",
   "execution_count": 21,
   "metadata": {},
   "outputs": [],
   "source": [
    "auto_data_train_final = auto_data_train.sample(frac=0.8, random_state=200)\n",
    "auto_data_val = auto_data_train.drop(auto_data_train_final.index)"
   ]
  },
  {
   "cell_type": "code",
   "execution_count": 22,
   "metadata": {},
   "outputs": [
    {
     "data": {
      "text/plain": [
       "(251, 63, 78)"
      ]
     },
     "execution_count": 22,
     "metadata": {},
     "output_type": "execute_result"
    }
   ],
   "source": [
    "len(auto_data_train_final),len(auto_data_val),len(auto_data_test)"
   ]
  },
  {
   "cell_type": "markdown",
   "metadata": {},
   "source": [
    "## computing beta"
   ]
  },
  {
   "cell_type": "code",
   "execution_count": 23,
   "metadata": {},
   "outputs": [],
   "source": [
    "n_train = len(auto_data_train_final)\n",
    "n_val = len(auto_data_val)\n",
    "n_test = len(auto_data_test)"
   ]
  },
  {
   "cell_type": "code",
   "execution_count": 24,
   "metadata": {},
   "outputs": [],
   "source": [
    "cols = list(np.arange(1,6))\n",
    "\n",
    "x_train = auto_data_train_final[auto_data_train_final.columns[cols]]\n",
    "x_val = auto_data_val[auto_data_val.columns[cols]]\n",
    "x_test = auto_data_test[auto_data_test.columns[cols]]"
   ]
  },
  {
   "cell_type": "code",
   "execution_count": 25,
   "metadata": {},
   "outputs": [
    {
     "data": {
      "text/html": [
       "<div>\n",
       "<style scoped>\n",
       "    .dataframe tbody tr th:only-of-type {\n",
       "        vertical-align: middle;\n",
       "    }\n",
       "\n",
       "    .dataframe tbody tr th {\n",
       "        vertical-align: top;\n",
       "    }\n",
       "\n",
       "    .dataframe thead th {\n",
       "        text-align: right;\n",
       "    }\n",
       "</style>\n",
       "<table border=\"1\" class=\"dataframe\">\n",
       "  <thead>\n",
       "    <tr style=\"text-align: right;\">\n",
       "      <th></th>\n",
       "      <th>cylinders</th>\n",
       "      <th>displacement</th>\n",
       "      <th>horsepower</th>\n",
       "      <th>weight</th>\n",
       "      <th>acceleration</th>\n",
       "    </tr>\n",
       "  </thead>\n",
       "  <tbody>\n",
       "    <tr>\n",
       "      <th>28</th>\n",
       "      <td>8.0</td>\n",
       "      <td>304.0</td>\n",
       "      <td>193.0</td>\n",
       "      <td>4732.0</td>\n",
       "      <td>18.5</td>\n",
       "    </tr>\n",
       "    <tr>\n",
       "      <th>154</th>\n",
       "      <td>6.0</td>\n",
       "      <td>250.0</td>\n",
       "      <td>72.0</td>\n",
       "      <td>3432.0</td>\n",
       "      <td>21.0</td>\n",
       "    </tr>\n",
       "    <tr>\n",
       "      <th>337</th>\n",
       "      <td>4.0</td>\n",
       "      <td>107.0</td>\n",
       "      <td>72.0</td>\n",
       "      <td>2290.0</td>\n",
       "      <td>17.0</td>\n",
       "    </tr>\n",
       "    <tr>\n",
       "      <th>93</th>\n",
       "      <td>8.0</td>\n",
       "      <td>318.0</td>\n",
       "      <td>150.0</td>\n",
       "      <td>4237.0</td>\n",
       "      <td>14.5</td>\n",
       "    </tr>\n",
       "    <tr>\n",
       "      <th>109</th>\n",
       "      <td>4.0</td>\n",
       "      <td>140.0</td>\n",
       "      <td>72.0</td>\n",
       "      <td>2401.0</td>\n",
       "      <td>19.5</td>\n",
       "    </tr>\n",
       "    <tr>\n",
       "      <th>...</th>\n",
       "      <td>...</td>\n",
       "      <td>...</td>\n",
       "      <td>...</td>\n",
       "      <td>...</td>\n",
       "      <td>...</td>\n",
       "    </tr>\n",
       "    <tr>\n",
       "      <th>371</th>\n",
       "      <td>4.0</td>\n",
       "      <td>135.0</td>\n",
       "      <td>84.0</td>\n",
       "      <td>2525.0</td>\n",
       "      <td>16.0</td>\n",
       "    </tr>\n",
       "    <tr>\n",
       "      <th>12</th>\n",
       "      <td>8.0</td>\n",
       "      <td>400.0</td>\n",
       "      <td>150.0</td>\n",
       "      <td>3761.0</td>\n",
       "      <td>9.5</td>\n",
       "    </tr>\n",
       "    <tr>\n",
       "      <th>379</th>\n",
       "      <td>4.0</td>\n",
       "      <td>98.0</td>\n",
       "      <td>70.0</td>\n",
       "      <td>2125.0</td>\n",
       "      <td>17.3</td>\n",
       "    </tr>\n",
       "    <tr>\n",
       "      <th>199</th>\n",
       "      <td>6.0</td>\n",
       "      <td>225.0</td>\n",
       "      <td>100.0</td>\n",
       "      <td>3651.0</td>\n",
       "      <td>17.7</td>\n",
       "    </tr>\n",
       "    <tr>\n",
       "      <th>362</th>\n",
       "      <td>6.0</td>\n",
       "      <td>146.0</td>\n",
       "      <td>120.0</td>\n",
       "      <td>2930.0</td>\n",
       "      <td>13.8</td>\n",
       "    </tr>\n",
       "  </tbody>\n",
       "</table>\n",
       "<p>251 rows × 5 columns</p>\n",
       "</div>"
      ],
      "text/plain": [
       "     cylinders  displacement  horsepower  weight  acceleration\n",
       "28         8.0         304.0       193.0  4732.0          18.5\n",
       "154        6.0         250.0        72.0  3432.0          21.0\n",
       "337        4.0         107.0        72.0  2290.0          17.0\n",
       "93         8.0         318.0       150.0  4237.0          14.5\n",
       "109        4.0         140.0        72.0  2401.0          19.5\n",
       "..         ...           ...         ...     ...           ...\n",
       "371        4.0         135.0        84.0  2525.0          16.0\n",
       "12         8.0         400.0       150.0  3761.0           9.5\n",
       "379        4.0          98.0        70.0  2125.0          17.3\n",
       "199        6.0         225.0       100.0  3651.0          17.7\n",
       "362        6.0         146.0       120.0  2930.0          13.8\n",
       "\n",
       "[251 rows x 5 columns]"
      ]
     },
     "execution_count": 25,
     "metadata": {},
     "output_type": "execute_result"
    }
   ],
   "source": [
    "x_train"
   ]
  },
  {
   "cell_type": "markdown",
   "metadata": {},
   "source": [
    "converting to numpy array"
   ]
  },
  {
   "cell_type": "code",
   "execution_count": 26,
   "metadata": {},
   "outputs": [],
   "source": [
    "x_train = x_train.to_numpy()\n",
    "x_test = x_test.to_numpy()\n",
    "x_val = x_val.to_numpy()"
   ]
  },
  {
   "cell_type": "markdown",
   "metadata": {},
   "source": [
    "adding collumn of one at last row"
   ]
  },
  {
   "cell_type": "code",
   "execution_count": 27,
   "metadata": {},
   "outputs": [],
   "source": [
    "x_train = np.hstack((x_train, np.ones((x_train.shape[0],1), dtype=x_train.dtype)))\n",
    "\n",
    "x_test = np.hstack((x_test, np.ones((x_test.shape[0], 1), dtype=x_test.dtype)))\n",
    "\n",
    "x_val = np.hstack((x_val, np.ones((x_val.shape[0], 1), dtype=x_test.dtype)))\n"
   ]
  },
  {
   "cell_type": "code",
   "execution_count": 28,
   "metadata": {},
   "outputs": [],
   "source": [
    "y_train = auto_data_train_final[auto_data_train_final.columns[0]].to_numpy()\n",
    "y_test = auto_data_test[auto_data_test.columns[0]].to_numpy()\n",
    "y_val = auto_data_val[auto_data_val.columns[0]].to_numpy()"
   ]
  },
  {
   "cell_type": "code",
   "execution_count": 29,
   "metadata": {},
   "outputs": [
    {
     "name": "stdout",
     "output_type": "stream",
     "text": [
      "XTX (6, 6)\n"
     ]
    }
   ],
   "source": [
    "XTX = np.matmul(np.transpose(x_train),x_train)\n",
    "\n",
    "print('XTX', XTX.shape)"
   ]
  },
  {
   "cell_type": "code",
   "execution_count": 30,
   "metadata": {},
   "outputs": [
    {
     "data": {
      "text/plain": [
       "(251,)"
      ]
     },
     "execution_count": 30,
     "metadata": {},
     "output_type": "execute_result"
    }
   ],
   "source": [
    "y_train.shape"
   ]
  },
  {
   "cell_type": "code",
   "execution_count": 31,
   "metadata": {},
   "outputs": [],
   "source": [
    "y_train = y_train.reshape(251,1)"
   ]
  },
  {
   "cell_type": "code",
   "execution_count": 32,
   "metadata": {},
   "outputs": [
    {
     "name": "stdout",
     "output_type": "stream",
     "text": [
      "XTY (6, 1)\n"
     ]
    }
   ],
   "source": [
    "XTY = np.matmul(np.transpose(x_train),y_train)\n",
    "print('XTY',XTY.shape)"
   ]
  },
  {
   "cell_type": "code",
   "execution_count": 33,
   "metadata": {},
   "outputs": [
    {
     "name": "stdout",
     "output_type": "stream",
     "text": [
      "[[-7.62518627e-01]\n",
      " [ 2.11672711e-03]\n",
      " [-6.05537356e-02]\n",
      " [-4.41112684e-03]\n",
      " [-3.73921880e-01]\n",
      " [ 5.22567833e+01]]\n"
     ]
    }
   ],
   "source": [
    "beta = np.linalg.solve(XTX,XTY)\n",
    "print(beta)"
   ]
  },
  {
   "cell_type": "code",
   "execution_count": 34,
   "metadata": {},
   "outputs": [
    {
     "name": "stdout",
     "output_type": "stream",
     "text": [
      "6\n",
      "False\n"
     ]
    }
   ],
   "source": [
    "print(np.linalg.matrix_rank(XTX))\n",
    "\n",
    "XTX_inv = np.linalg.inv(XTX)\n",
    "\n",
    "is_identity = np.all(np.matmul(XTX,XTX_inv)==np.identity(XTX.shape[0]))\n",
    "print(is_identity)"
   ]
  },
  {
   "cell_type": "markdown",
   "metadata": {},
   "source": [
    "$\\textbf{Note:}$ Because the matrix $X^\\top X$ is full-rank, that is, $\\text{rank}(X^\\top X)=6$, we see that $\\texttt{numpy}$ does not raise any error while computing the inverse of $X^\\top X$. But, if it would have been not a full rank matrix, numpy might have raised an error. We will use $\\texttt{scipy}$ to solve for $\\beta$ and check if we get any error or not. "
   ]
  },
  {
   "cell_type": "code",
   "execution_count": 35,
   "metadata": {},
   "outputs": [],
   "source": [
    "import scipy.linalg\n",
    "#Now we are ready for finding beta\n",
    "#print('X shape:',X.shape,'y shape:',y.shape)\n",
    "\n",
    "XTX = np.matmul(np.transpose(x_train),x_train)\n",
    "#print('XTX shape:',XTX.shape)\n",
    "\n",
    "XTY = np.matmul(np.transpose(x_train),y_train)\n",
    "#print('Xy shape:',Xy.shape)\n",
    "\n",
    "beta =scipy.linalg.solve(XTX,XTY)\n",
    "#beta = np.matmul(scipy.linalg.inv(XTX),Xy)"
   ]
  },
  {
   "cell_type": "code",
   "execution_count": 36,
   "metadata": {},
   "outputs": [
    {
     "data": {
      "text/plain": [
       "array([[-7.62518627e-01],\n",
       "       [ 2.11672711e-03],\n",
       "       [-6.05537356e-02],\n",
       "       [-4.41112684e-03],\n",
       "       [-3.73921880e-01],\n",
       "       [ 5.22567833e+01]])"
      ]
     },
     "execution_count": 36,
     "metadata": {},
     "output_type": "execute_result"
    }
   ],
   "source": [
    "beta"
   ]
  },
  {
   "cell_type": "code",
   "execution_count": 37,
   "metadata": {},
   "outputs": [
    {
     "name": "stdout",
     "output_type": "stream",
     "text": [
      "1419028386.6829646\n"
     ]
    }
   ],
   "source": [
    "print(np.linalg.cond(XTX))"
   ]
  },
  {
   "cell_type": "markdown",
   "metadata": {},
   "source": [
    "We can see that the ill-conditioning of $X^\\top X$ might lead to wild changes in solutions of linear regression parameters, even for small changes in the output $\\mathbf{y}$. "
   ]
  },
  {
   "cell_type": "markdown",
   "metadata": {},
   "source": [
    "With $\\lambda \\in \\{0, 10^{-5},10^{-4}, 10^{-3},10^{-2},0.1, 1, 10, 100, 1000, 10000\\}$ let us check the condition number of $(X^\\top X+\\lambda I)$. "
   ]
  },
  {
   "cell_type": "code",
   "execution_count": 38,
   "metadata": {},
   "outputs": [
    {
     "name": "stdout",
     "output_type": "stream",
     "text": [
      "lambda: 0.0 cond(XTX+lambda I): 1419028386.6829646\n",
      "lambda: 1e-05 cond(XTX+lambda I): 1419020062.6554148\n",
      "lambda: 0.0001 cond(XTX+lambda I): 1418945150.5655844\n",
      "lambda: 0.001 cond(XTX+lambda I): 1418196464.4657183\n",
      "lambda: 0.01 cond(XTX+lambda I): 1410752829.3206525\n",
      "lambda: 0.1 cond(XTX+lambda I): 1340399764.1572118\n",
      "lambda: 1.0 cond(XTX+lambda I): 894379952.8491508\n",
      "lambda: 10.0 cond(XTX+lambda I): 206672951.13640776\n",
      "lambda: 100.0 cond(XTX+lambda I): 23785027.4660599\n",
      "lambda: 1000.0 cond(XTX+lambda I): 2414933.724689472\n",
      "lambda: 10000.0 cond(XTX+lambda I): 241864.72041580544\n"
     ]
    }
   ],
   "source": [
    "lambdas = np.array([0,1e-5,1e-4,1e-3,1e-2,1e-1,1,10,100,1000,10000])\n",
    "I = np.identity(XTX.shape[0])\n",
    "\n",
    "for lambda_ in lambdas:\n",
    "  print('lambda:',lambda_,'cond(XTX+lambda I):', np.linalg.cond(XTX+lambda_*I))"
   ]
  },
  {
   "cell_type": "code",
   "execution_count": 39,
   "metadata": {},
   "outputs": [
    {
     "name": "stdout",
     "output_type": "stream",
     "text": [
      "(6, 6)\n",
      "6\n"
     ]
    }
   ],
   "source": [
    "I = np.identity(XTX.shape[0])\n",
    "print(I.shape)\n",
    "print(XTX.shape[0])"
   ]
  },
  {
   "cell_type": "code",
   "execution_count": 40,
   "metadata": {},
   "outputs": [
    {
     "name": "stdout",
     "output_type": "stream",
     "text": [
      "lambda 0.0\n",
      "beta [[-7.62518627e-01]\n",
      " [ 2.11672711e-03]\n",
      " [-6.05537356e-02]\n",
      " [-4.41112684e-03]\n",
      " [-3.73921880e-01]\n",
      " [ 5.22567833e+01]]\n",
      "********************\n",
      "lambda 1e-05\n",
      "beta [[-7.62498652e-01]\n",
      " [ 2.11636006e-03]\n",
      " [-6.05526317e-02]\n",
      " [-4.41114136e-03]\n",
      " [-3.73909414e-01]\n",
      " [ 5.22564782e+01]]\n",
      "********************\n",
      "lambda 0.0001\n",
      "beta [[-7.62318892e-01]\n",
      " [ 2.11305684e-03]\n",
      " [-6.05426971e-02]\n",
      " [-4.41127199e-03]\n",
      " [-3.73797229e-01]\n",
      " [ 5.22537326e+01]]\n",
      "********************\n",
      "lambda 0.001\n",
      "beta [[-7.60522352e-01]\n",
      " [ 2.08004399e-03]\n",
      " [-6.04434081e-02]\n",
      " [-4.41257757e-03]\n",
      " [-3.72676022e-01]\n",
      " [ 5.22262923e+01]]\n",
      "********************\n",
      "lambda 0.01\n",
      "beta [[-7.42662253e-01]\n",
      " [ 1.75184078e-03]\n",
      " [-5.94562431e-02]\n",
      " [-4.42555720e-03]\n",
      " [-3.61528569e-01]\n",
      " [ 5.19534739e+01]]\n",
      "********************\n",
      "lambda 0.1\n",
      "beta [[-5.74008595e-01]\n",
      " [-1.34832630e-03]\n",
      " [-5.01253813e-02]\n",
      " [-4.54816018e-03]\n",
      " [-2.56157419e-01]\n",
      " [ 4.93749382e+01]]\n",
      "********************\n",
      "lambda 1.0\n",
      "beta [[ 4.85325902e-01]\n",
      " [-2.08824238e-02]\n",
      " [ 9.07797377e-03]\n",
      " [-5.32057850e-03]\n",
      " [ 4.12634640e-01]\n",
      " [ 3.30270779e+01]]\n",
      "********************\n",
      "lambda 10.0\n",
      "beta [[ 1.91536398e+00]\n",
      " [-4.85688735e-02]\n",
      " [ 1.01335383e-01]\n",
      " [-6.40601516e-03]\n",
      " [ 1.45908216e+00]\n",
      " [ 7.80781602e+00]]\n",
      "********************\n",
      "lambda 100.0\n",
      "beta [[ 1.24630213]\n",
      " [-0.04552888]\n",
      " [ 0.12991688]\n",
      " [-0.00582906]\n",
      " [ 1.78699969]\n",
      " [ 1.03328661]]\n",
      "********************\n",
      "lambda 1000.0\n",
      "beta [[ 3.26246850e-01]\n",
      " [-6.43538459e-02]\n",
      " [ 1.23705906e-01]\n",
      " [-9.45816655e-04]\n",
      " [ 1.49178695e+00]\n",
      " [ 1.72102398e-01]]\n",
      "********************\n",
      "lambda 10000.0\n",
      "beta [[ 0.06443237]\n",
      " [-0.13467144]\n",
      " [ 0.0817568 ]\n",
      " [ 0.0106972 ]\n",
      " [ 0.48095442]\n",
      " [ 0.03327576]]\n",
      "********************\n"
     ]
    }
   ],
   "source": [
    "betas = []\n",
    "\n",
    "for lambda_ in lambdas:\n",
    "    beta = scipy.linalg.solve(XTX + lambda_ * I, XTY)\n",
    "    print('lambda', lambda_)\n",
    "    print('beta', beta)\n",
    "    print(\"********************\")\n",
    "    betas.append(beta.reshape(6,1))"
   ]
  },
  {
   "cell_type": "markdown",
   "metadata": {},
   "source": [
    "$\\Large{\\text{Residual Plot}}$\n",
    "\n",
    "Sometimes it would be useful to plot the error (or) $\\textbf{residual}$ $e^i$ versus the fitted values $\\hat{y}^i=\\beta_0 + \\sum_{j=1}^{d} \\beta_j x^i_j$.  "
   ]
  },
  {
   "cell_type": "code",
   "execution_count": 41,
   "metadata": {},
   "outputs": [
    {
     "data": {
      "image/png": "[encoded data removed]",
      "text/plain": [
       "<Figure size 432x288 with 1 Axes>"
      ]
     },
     "metadata": {
      "needs_background": "light"
     },
     "output_type": "display_data"
    },
    {
     "data": {
      "image/png": "[encoded data removed]",
      "text/plain": [
       "<Figure size 432x288 with 1 Axes>"
      ]
     },
     "metadata": {
      "needs_background": "light"
     },
     "output_type": "display_data"
    },
    {
     "data": {
      "image/png": "[encoded data removed]",
      "text/plain": [
       "<Figure size 432x288 with 1 Axes>"
      ]
     },
     "metadata": {
      "needs_background": "light"
     },
     "output_type": "display_data"
    },
    {
     "data": {
      "image/png": "[encoded data removed]",
      "text/plain": [
       "<Figure size 432x288 with 1 Axes>"
      ]
     },
     "metadata": {
      "needs_background": "light"
     },
     "output_type": "display_data"
    },
    {
     "data": {
      "image/png": "[encoded data removed]",
      "text/plain": [
       "<Figure size 432x288 with 1 Axes>"
      ]
     },
     "metadata": {
      "needs_background": "light"
     },
     "output_type": "display_data"
    },
    {
     "data": {
      "image/png": "[encoded data removed]",
      "text/plain": [
       "<Figure size 432x288 with 1 Axes>"
      ]
     },
     "metadata": {
      "needs_background": "light"
     },
     "output_type": "display_data"
    },
    {
     "data": {
      "image/png": "[encoded data removed]",
      "text/plain": [
       "<Figure size 432x288 with 1 Axes>"
      ]
     },
     "metadata": {
      "needs_background": "light"
     },
     "output_type": "display_data"
    },
    {
     "data": {
      "image/png": "[encoded data removed]",
      "text/plain": [
       "<Figure size 432x288 with 1 Axes>"
      ]
     },
     "metadata": {
      "needs_background": "light"
     },
     "output_type": "display_data"
    },
    {
     "data": {
      "image/png": "[encoded data removed]",
      "text/plain": [
       "<Figure size 432x288 with 1 Axes>"
      ]
     },
     "metadata": {
      "needs_background": "light"
     },
     "output_type": "display_data"
    },
    {
     "data": {
      "image/png": "[encoded data removed]",
      "text/plain": [
       "<Figure size 432x288 with 1 Axes>"
      ]
     },
     "metadata": {
      "needs_background": "light"
     },
     "output_type": "display_data"
    },
    {
     "data": {
      "image/png": "[encoded data removed]",
      "text/plain": [
       "<Figure size 432x288 with 1 Axes>"
      ]
     },
     "metadata": {
      "needs_background": "light"
     },
     "output_type": "display_data"
    }
   ],
   "source": [
    "beta_idx = 0\n",
    "\n",
    "for lambda_ in lambdas:\n",
    "    beta = betas[beta_idx]\n",
    "    beta_idx += 1\n",
    "\n",
    "    e_i_residual_list = []\n",
    "    xlabel = 'mpg lambda='+str(lambda_)\n",
    "\n",
    "\n",
    "    for i in range(n_train):\n",
    "\n",
    "        x_i = x_train[i,:]\n",
    "        y_i = y_train[i]\n",
    "\n",
    "        y_pred_i = np.dot(x_i, beta)\n",
    "        e_i = y_i - y_pred_i\n",
    "\n",
    "        e_i_residual_list.append(e_i)\n",
    "    \n",
    "    plt.scatter(auto_data_train_final['mpg'], e_i_residual_list, color = 'r')\n",
    "    plt.title(\"Residual plot\")\n",
    "    plt.xlabel(xlabel)\n",
    "    plt.ylabel(\"Residuals\")\n",
    "    plt.grid()\n",
    "    plt.show()"
   ]
  },
  {
   "cell_type": "markdown",
   "metadata": {},
   "source": [
    "$\\Large{\\text{Coefficient of multiple determination for high dimensions}}$ \n"
   ]
  },
  {
   "cell_type": "code",
   "execution_count": 42,
   "metadata": {},
   "outputs": [],
   "source": [
    "R_sq_train = []\n",
    "R_sq_val = []\n",
    "MSE_train = []\n",
    "MSE_val = []"
   ]
  },
  {
   "cell_type": "markdown",
   "metadata": {},
   "source": [
    "y_bar"
   ]
  },
  {
   "cell_type": "code",
   "execution_count": 43,
   "metadata": {},
   "outputs": [
    {
     "name": "stdout",
     "output_type": "stream",
     "text": [
      "23.18366533864542\n",
      "23.18366533864542\n"
     ]
    }
   ],
   "source": [
    "y_bar_train=0\n",
    "for i in range(n_train):\n",
    "    y_i_train = float(auto_data_train_final.iat[i,0])\n",
    "    y_bar_train += y_i_train\n",
    "y_bar_train /= n_train\n",
    "\n",
    "print(y_bar_train)\n",
    "print(y_train.mean())\n"
   ]
  },
  {
   "cell_type": "markdown",
   "metadata": {},
   "source": [
    "y_bar_val"
   ]
  },
  {
   "cell_type": "code",
   "execution_count": 44,
   "metadata": {},
   "outputs": [
    {
     "name": "stdout",
     "output_type": "stream",
     "text": [
      "23.05714285714286\n",
      "23.05714285714286\n"
     ]
    }
   ],
   "source": [
    "y_bar_val = 0\n",
    "\n",
    "for i in range(n_val):\n",
    "    y_i = float(auto_data_val.iat[i,0])\n",
    "    y_bar_val += y_i\n",
    "y_bar_val /= n_val\n",
    "\n",
    "print(y_bar_val)\n",
    "print(y_val.mean())"
   ]
  },
  {
   "cell_type": "code",
   "execution_count": 45,
   "metadata": {},
   "outputs": [
    {
     "name": "stdout",
     "output_type": "stream",
     "text": [
      "sigma_yy_train: 14573.343027888452\n"
     ]
    }
   ],
   "source": [
    "sigma_yy_train = 0\n",
    "for i in range(n_train): #access each row from the data set \n",
    "  y_i_train = float(auto_data_train_final.iat[i,0]) #access element at mpg column\n",
    "  sigma_yy_train += (y_i_train-y_bar_train)**2\n",
    "\n",
    "print('sigma_yy_train:', sigma_yy_train)"
   ]
  },
  {
   "cell_type": "code",
   "execution_count": 46,
   "metadata": {},
   "outputs": [
    {
     "name": "stdout",
     "output_type": "stream",
     "text": [
      "sigma_yy_val: 4289.494285714284\n"
     ]
    }
   ],
   "source": [
    "sigma_yy_val = 0\n",
    "for i in range(n_val): #access each row from the data set \n",
    "  y_i_val = float(auto_data_val.iat[i,0]) #access element at mpg column\n",
    "  sigma_yy_val += (y_i_val-y_bar_val)**2\n",
    "\n",
    "print('sigma_yy_val:', sigma_yy_val)"
   ]
  },
  {
   "cell_type": "code",
   "execution_count": 47,
   "metadata": {},
   "outputs": [
    {
     "name": "stdout",
     "output_type": "stream",
     "text": [
      "lambda: 0.0\n",
      "sum of squared residuals for training data: [13902.1050974]\n",
      "R^2 for training data: [0.0460593]\n",
      "sum of squared residuals for validation data: [1383.02097441]\n",
      "R^2 for validation data: [0.67757948]\n",
      "\n",
      "*******************************************************************\n",
      "\n",
      "lambda: 1e-05\n",
      "sum of squared residuals for training data: [13902.07868646]\n",
      "R^2 for training data: [0.04606111]\n",
      "sum of squared residuals for validation data: [1383.01759436]\n",
      "R^2 for validation data: [0.67758027]\n",
      "\n",
      "*******************************************************************\n",
      "\n",
      "lambda: 0.0001\n",
      "sum of squared residuals for training data: [13901.84101618]\n",
      "R^2 for training data: [0.04607742]\n",
      "sum of squared residuals for validation data: [1382.98717802]\n",
      "R^2 for validation data: [0.67758736]\n",
      "\n",
      "*******************************************************************\n",
      "\n",
      "lambda: 0.001\n",
      "sum of squared residuals for training data: [13899.46710964]\n",
      "R^2 for training data: [0.04624031]\n",
      "sum of squared residuals for validation data: [1382.6834214]\n",
      "R^2 for validation data: [0.67765817]\n",
      "\n",
      "*******************************************************************\n",
      "\n",
      "lambda: 0.01\n",
      "sum of squared residuals for training data: [13876.00521542]\n",
      "R^2 for training data: [0.04785023]\n",
      "sum of squared residuals for validation data: [1379.68615938]\n",
      "R^2 for validation data: [0.67835692]\n",
      "\n",
      "*******************************************************************\n",
      "\n",
      "lambda: 0.1\n",
      "sum of squared residuals for training data: [13666.83035079]\n",
      "R^2 for training data: [0.06220348]\n",
      "sum of squared residuals for validation data: [1353.40107812]\n",
      "R^2 for validation data: [0.6844847]\n",
      "\n",
      "*******************************************************************\n",
      "\n",
      "lambda: 1.0\n",
      "sum of squared residuals for training data: [12869.00915658]\n",
      "R^2 for training data: [0.11694872]\n",
      "sum of squared residuals for validation data: [1272.7290645]\n",
      "R^2 for validation data: [0.70329158]\n",
      "\n",
      "*******************************************************************\n",
      "\n",
      "lambda: 10.0\n",
      "sum of squared residuals for training data: [13390.61319676]\n",
      "R^2 for training data: [0.08115707]\n",
      "sum of squared residuals for validation data: [1439.70346041]\n",
      "R^2 for validation data: [0.66436522]\n",
      "\n",
      "*******************************************************************\n",
      "\n",
      "lambda: 100.0\n",
      "sum of squared residuals for training data: [13661.54546073]\n",
      "R^2 for training data: [0.06256612]\n",
      "sum of squared residuals for validation data: [1582.93075]\n",
      "R^2 for validation data: [0.63097497]\n",
      "\n",
      "*******************************************************************\n",
      "\n",
      "lambda: 1000.0\n",
      "sum of squared residuals for training data: [12635.39084261]\n",
      "R^2 for training data: [0.13297925]\n",
      "sum of squared residuals for validation data: [1901.33516718]\n",
      "R^2 for validation data: [0.55674608]\n",
      "\n",
      "*******************************************************************\n",
      "\n",
      "lambda: 10000.0\n",
      "sum of squared residuals for training data: [14209.59596302]\n",
      "R^2 for training data: [0.02495975]\n",
      "sum of squared residuals for validation data: [3494.82720119]\n",
      "R^2 for validation data: [0.18525892]\n",
      "\n",
      "*******************************************************************\n",
      "\n"
     ]
    }
   ],
   "source": [
    "beta_idx = 0\n",
    "\n",
    "for lambda_ in lambdas:\n",
    "    beta = betas[beta_idx]\n",
    "    beta_idx += 1\n",
    "\n",
    "    sum_sq_residual_train = 0\n",
    "    sum_sq_residual_val = 0\n",
    "\n",
    "    for i in range(n_train):\n",
    "        x_i_train = x_train[i,:]\n",
    "        y_i_train = y_train[i]\n",
    "\n",
    "        y_pred_i_train = np.dot(x_i_train,beta)\n",
    "        e_i_train = y_i_train - y_pred_i_train\n",
    "\n",
    "        sum_sq_residual_train += (e_i_train)**2\n",
    "    \n",
    "    for i in range(n_val):\n",
    "        x_i_val = x_val[i,:]\n",
    "        y_i_val = y_val[i]\n",
    "\n",
    "        y_i_pred_val = np.dot(x_i_val,beta)\n",
    "        e_i_val = y_i_val - y_i_pred_val\n",
    "\n",
    "        sum_sq_residual_val += (e_i_val)**2\n",
    "    \n",
    "    print('lambda:',lambda_)\n",
    "    print('sum of squared residuals for training data:', sum_sq_residual_train)\n",
    "    MSE_train.append(sum_sq_residual_train/n_train)\n",
    "    #Then we will compute the R^2 quantity\n",
    "    R_sq = 1-(sum_sq_residual_train/sigma_yy_train)\n",
    "    R_sq_train.append(R_sq)\n",
    "    print('R^2 for training data:',R_sq)\n",
    "\n",
    "    print('sum of squared residuals for validation data:', sum_sq_residual_val)\n",
    "    MSE_val.append(sum_sq_residual_val/n_val)\n",
    "\n",
    "    #Then we will compute the R^2 quantity\n",
    "    R_sq_vali = 1-sum_sq_residual_val/sigma_yy_val\n",
    "    R_sq_val.append(R_sq_vali)\n",
    "    print('R^2 for validation data:',R_sq_vali)\n",
    "    print('\\n*******************************************************************\\n') "
   ]
  },
  {
   "cell_type": "code",
   "execution_count": 48,
   "metadata": {},
   "outputs": [
    {
     "data": {
      "image/png": "[encoded data removed]",
      "text/plain": [
       "<Figure size 864x504 with 1 Axes>"
      ]
     },
     "metadata": {
      "needs_background": "light"
     },
     "output_type": "display_data"
    }
   ],
   "source": [
    "plt.figure(figsize =(12,7))\n",
    "plt.plot(lambdas,R_sq_train,label = \"Training R^2 value\")\n",
    "plt.plot(lambdas,R_sq_val,label = \"Validation R^2 value\")\n",
    "plt.ylabel(\"R^2 Value\",fontsize = 15)\n",
    "plt.xlabel(\"Lambda Value\",fontsize = 15)\n",
    "plt.xscale('log')\n",
    "plt.xticks([1e-5,1e-4,1e-3,1e-2,1e-1,1,10,100,1000,10000])\n",
    "plt.legend(fontsize = 12,loc = \"best\")\n",
    "plt.title(\"Graph between value of Training and Validation R^2 vs. Lambda values\",fontsize = 15)\n",
    "plt.grid()\n",
    "plt.show()"
   ]
  },
  {
   "cell_type": "code",
   "execution_count": 49,
   "metadata": {},
   "outputs": [
    {
     "data": {
      "text/plain": [
       "array([[8.000e+00, 3.040e+02, 1.930e+02, 4.732e+03, 1.850e+01, 1.000e+00],\n",
       "       [6.000e+00, 2.500e+02, 7.200e+01, 3.432e+03, 2.100e+01, 1.000e+00],\n",
       "       [4.000e+00, 1.070e+02, 7.200e+01, 2.290e+03, 1.700e+01, 1.000e+00],\n",
       "       ...,\n",
       "       [4.000e+00, 9.800e+01, 7.000e+01, 2.125e+03, 1.730e+01, 1.000e+00],\n",
       "       [6.000e+00, 2.250e+02, 1.000e+02, 3.651e+03, 1.770e+01, 1.000e+00],\n",
       "       [6.000e+00, 1.460e+02, 1.200e+02, 2.930e+03, 1.380e+01, 1.000e+00]])"
      ]
     },
     "execution_count": 49,
     "metadata": {},
     "output_type": "execute_result"
    }
   ],
   "source": [
    "x_train"
   ]
  },
  {
   "cell_type": "markdown",
   "metadata": {},
   "source": [
    "**Graph between $MSE$ and $λ$ values for training and validation data-**"
   ]
  },
  {
   "cell_type": "code",
   "execution_count": 50,
   "metadata": {},
   "outputs": [
    {
     "data": {
      "text/plain": [
       "[array([55.3868729]),\n",
       " array([55.38676768]),\n",
       " array([55.38582078]),\n",
       " array([55.37636299]),\n",
       " array([55.2828893]),\n",
       " array([54.44952331]),\n",
       " array([51.27095282]),\n",
       " array([53.34905656]),\n",
       " array([54.42846797]),\n",
       " array([50.34020256]),\n",
       " array([56.61193611])]"
      ]
     },
     "execution_count": 50,
     "metadata": {},
     "output_type": "execute_result"
    }
   ],
   "source": [
    "MSE_train"
   ]
  },
  {
   "cell_type": "code",
   "execution_count": 51,
   "metadata": {},
   "outputs": [
    {
     "data": {
      "text/plain": [
       "[array([21.95271388]),\n",
       " array([21.95266023]),\n",
       " array([21.95217743]),\n",
       " array([21.9473559]),\n",
       " array([21.89978031]),\n",
       " array([21.4825568]),\n",
       " array([20.20204864]),\n",
       " array([22.85243588]),\n",
       " array([25.12588492]),\n",
       " array([30.17992329]),\n",
       " array([55.47344764])]"
      ]
     },
     "execution_count": 51,
     "metadata": {},
     "output_type": "execute_result"
    }
   ],
   "source": [
    "MSE_val"
   ]
  },
  {
   "cell_type": "code",
   "execution_count": 52,
   "metadata": {},
   "outputs": [
    {
     "data": {
      "image/png": "[encoded data removed]",
      "text/plain": [
       "<Figure size 864x504 with 1 Axes>"
      ]
     },
     "metadata": {
      "needs_background": "light"
     },
     "output_type": "display_data"
    }
   ],
   "source": [
    "plt.figure(figsize =(12,7))\n",
    "plt.plot(lambdas,MSE_train,label = \"Training MSE value\")\n",
    "plt.plot(lambdas,MSE_val,label = \"Validation MSE value\")\n",
    "plt.ylabel(\"MSE Value\",fontsize = 15)\n",
    "plt.xlabel(\"Lambda Value\",fontsize = 15)\n",
    "plt.xscale(\"log\")\n",
    "plt.xticks([1e-5,1e-4,1e-3,1e-2,1e-1,1,10,100,1000,10000])\n",
    "plt.legend(fontsize = 12,loc = \"best\")\n",
    "plt.title(\"Graph between Training and Validation MSE vs. Lambda values\",fontsize = 15)\n",
    "plt.grid()\n",
    "plt.show()"
   ]
  },
  {
   "cell_type": "code",
   "execution_count": null,
   "metadata": {},
   "outputs": [],
   "source": []
  }
 ],
 "metadata": {
  "kernelspec": {
   "display_name": "Python 3 (ipykernel)",
   "language": "python",
   "name": "python3"
  },
  "language_info": {
   "codemirror_mode": {
    "name": "ipython",
    "version": 3
   },
   "file_extension": ".py",
   "mimetype": "text/x-python",
   "name": "python",
   "nbconvert_exporter": "python",
   "pygments_lexer": "ipython3",
   "version": "3.9.7"
  },
  "vscode": {
   "interpreter": {
    "hash": "9f3e08e97ec3800875dc771278e5e1cac5dd41c8b0a0d355a2afd45c26016379"
   }
  }
 },
 "nbformat": 4,
 "nbformat_minor": 2
}
