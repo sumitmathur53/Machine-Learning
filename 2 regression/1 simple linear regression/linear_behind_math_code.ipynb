{
  "nbformat": 4,
  "nbformat_minor": 0,
  "metadata": {
    "colab": {
      "provenance": []
    },
    "kernelspec": {
      "name": "python3",
      "display_name": "Python 3"
    },
    "language_info": {
      "name": "python"
    }
  },
  "cells": [
    {
      "cell_type": "code",
      "execution_count": 1,
      "metadata": {
        "id": "I-0WyPsWV12R"
      },
      "outputs": [],
      "source": [
        "import numpy as np\n",
        "import matplotlib.pyplot as plt\n",
        "import pandas as pd"
      ]
    },
    {
      "cell_type": "code",
      "source": [
        "data = np.loadtxt(\"data.csv\",delimiter=\",\")"
      ],
      "metadata": {
        "id": "yODFe8cxX0fp"
      },
      "execution_count": 2,
      "outputs": []
    },
    {
      "cell_type": "code",
      "source": [
        "data.shape"
      ],
      "metadata": {
        "colab": {
          "base_uri": "https://localhost:8080/"
        },
        "id": "3KSVwFJLYDew",
        "outputId": "11051581-2d7d-414b-a983-1840a01a8ee7"
      },
      "execution_count": 3,
      "outputs": [
        {
          "output_type": "execute_result",
          "data": {
            "text/plain": [
              "(100, 2)"
            ]
          },
          "metadata": {},
          "execution_count": 3
        }
      ]
    },
    {
      "cell_type": "code",
      "source": [
        "x = data[:,0]\n",
        "y = data[:,1]"
      ],
      "metadata": {
        "id": "3qn2xehdYFfS"
      },
      "execution_count": 4,
      "outputs": []
    },
    {
      "cell_type": "code",
      "source": [
        "x.shape"
      ],
      "metadata": {
        "colab": {
          "base_uri": "https://localhost:8080/"
        },
        "id": "wAb55t7lYMWE",
        "outputId": "4f4141f3-1df0-4280-84da-fcdd157e9357"
      },
      "execution_count": 5,
      "outputs": [
        {
          "output_type": "execute_result",
          "data": {
            "text/plain": [
              "(100,)"
            ]
          },
          "metadata": {},
          "execution_count": 5
        }
      ]
    },
    {
      "cell_type": "code",
      "source": [
        "from sklearn import model_selection\n",
        "x_train,x_test,y_train,y_test = model_selection.train_test_split(x,y,test_size=0.3)\n"
      ],
      "metadata": {
        "id": "uddTtIF2YNXv"
      },
      "execution_count": 14,
      "outputs": []
    },
    {
      "cell_type": "markdown",
      "source": [
        "## **writing the fit function**"
      ],
      "metadata": {
        "id": "n-flnW15Y4uk"
      }
    },
    {
      "cell_type": "markdown",
      "source": [
        "calculating the m and c values"
      ],
      "metadata": {
        "id": "bHTHw9vbaEKy"
      }
    },
    {
      "cell_type": "code",
      "source": [
        "def fit(x_train,y_train):\n",
        "  numerator = (x_train*y_train).mean() - x_train.mean()*y_train.mean()\n",
        "  denominator = (x_train**2).mean() - x_train.mean()**2\n",
        "  m = numerator/denominator\n",
        "  c = y_train.mean() - m*x_train.mean()\n",
        "  return m,c"
      ],
      "metadata": {
        "id": "awTQjmHkYR7i"
      },
      "execution_count": 15,
      "outputs": []
    },
    {
      "cell_type": "markdown",
      "source": [
        "predict function"
      ],
      "metadata": {
        "id": "ecCHo4A8d8aq"
      }
    },
    {
      "cell_type": "code",
      "source": [
        "def predict(x,m,c):\n",
        "  return m*x+c\n",
        "\n",
        "def score(y_truth,y_pred):\n",
        "  u = ((y_truth - y_pred)**2).sum()\n",
        "  v = ((y_truth - y_truth.mean())**2).sum()\n",
        "  return 1-(u/v)\n",
        "\n",
        "def cost(x,y,m,c):\n",
        "  return ((y-m*x-c)**2).mean()   # it is sum()/divided fo n to check average\n",
        "\n"
      ],
      "metadata": {
        "id": "pRHl0EUrbk80"
      },
      "execution_count": 34,
      "outputs": []
    },
    {
      "cell_type": "markdown",
      "source": [
        "slope and intercept predicting"
      ],
      "metadata": {
        "id": "_C_IBABGeDOO"
      }
    },
    {
      "cell_type": "code",
      "source": [
        "m,c = fit(x_train,y_train)\n",
        "\n",
        "# test data\n",
        "y_test_pred = predict(x_test,m,c)\n",
        "print(\"test score\" , score(y_test,y_test_pred))\n",
        "\n",
        "# train data\n",
        "y_train_pred = predict(x_train,m,c)\n",
        "print((\"train score\"),score( y_train,y_train_pred))\n",
        "print('M','C',m , c)\n",
        "\n",
        "print(\"cost on training data\", cost(x_train,y_train,m,c))"
      ],
      "metadata": {
        "colab": {
          "base_uri": "https://localhost:8080/"
        },
        "id": "yMOSHt8_Z9d0",
        "outputId": "45464d61-f876-4b3c-9610-d22c3e0c25e5"
      },
      "execution_count": 35,
      "outputs": [
        {
          "output_type": "stream",
          "name": "stdout",
          "text": [
            "test score 0.44580614990634604\n",
            "train score 0.6444351268657813\n",
            "M C 1.3868516391936185 4.240070373985773\n",
            "cost on training data 104.51972371531541\n"
          ]
        }
      ]
    },
    {
      "cell_type": "markdown",
      "source": [
        "cost function"
      ],
      "metadata": {
        "id": "Y2B_NLeneJxz"
      }
    },
    {
      "cell_type": "code",
      "source": [
        "print(cost(x_train,y_train,m,c))"
      ],
      "metadata": {
        "colab": {
          "base_uri": "https://localhost:8080/"
        },
        "id": "WrOHKu0Raz2F",
        "outputId": "08862ad3-58ba-4e4f-83fd-dadb1275b8a3"
      },
      "execution_count": 36,
      "outputs": [
        {
          "output_type": "stream",
          "name": "stdout",
          "text": [
            "104.51972371531541\n"
          ]
        }
      ]
    },
    {
      "cell_type": "code",
      "source": [],
      "metadata": {
        "id": "oBDRb5HUfR9r"
      },
      "execution_count": null,
      "outputs": []
    }
  ]
}