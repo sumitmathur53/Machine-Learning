{
  "nbformat": 4,
  "nbformat_minor": 0,
  "metadata": {
    "colab": {
      "provenance": []
    },
    "kernelspec": {
      "name": "python3",
      "display_name": "Python 3"
    },
    "language_info": {
      "name": "python"
    }
  },
  "cells": [
    {
      "cell_type": "code",
      "execution_count": 1,
      "metadata": {
        "id": "_RjztZhwxM1K"
      },
      "outputs": [],
      "source": [
        "import numpy as np"
      ]
    },
    {
      "cell_type": "code",
      "source": [
        "data = np.loadtxt(\"data.csv\", delimiter=\",\")\n",
        "data.shape"
      ],
      "metadata": {
        "colab": {
          "base_uri": "https://localhost:8080/"
        },
        "id": "WKD8tS4WyeMZ",
        "outputId": "38828f9e-4695-409f-d652-d8ca84a288c3"
      },
      "execution_count": 2,
      "outputs": [
        {
          "output_type": "execute_result",
          "data": {
            "text/plain": [
              "(100, 2)"
            ]
          },
          "metadata": {},
          "execution_count": 2
        }
      ]
    },
    {
      "cell_type": "code",
      "source": [
        "def step_gradient(points, learning_rate, m , c):\n",
        "    m_slope = 0\n",
        "    c_slope = 0\n",
        "    M = len(points)\n",
        "    for i in range(M):\n",
        "        x = points[i, 0]\n",
        "        y = points[i, 1]\n",
        "        m_slope += (-2/M)* (y - m * x - c)*x\n",
        "        c_slope += (-2/M)* (y - m * x - c)\n",
        "    new_m = m - learning_rate*m_slope\n",
        "    new_c = c - learning_rate*c_slope\n",
        "    return new_m, new_c"
      ],
      "metadata": {
        "id": "_ymUc_g-5h51"
      },
      "execution_count": 3,
      "outputs": []
    },
    {
      "cell_type": "code",
      "source": [
        "def gd(points, learning_rate, num_iterations):\n",
        "    m = 0\n",
        "    c = 0\n",
        "    for i in range(num_iterations):\n",
        "        m, c = step_gradient(points, learning_rate, m , c)\n",
        "        print(i, \" Cost: \", cost(points, m, c))\n",
        "    return m, c"
      ],
      "metadata": {
        "id": "mNpCzlDT5kTM"
      },
      "execution_count": 4,
      "outputs": []
    },
    {
      "cell_type": "code",
      "source": [
        "def cost(data,m,c):\n",
        "  total_cost = 0\n",
        "  M = len(data)\n",
        "  for i in range(M):\n",
        "    x = data[i,0]\n",
        "    y = data[i,1]\n",
        "    total_cost += (1/M)*((y - m * x - c)**2)\n",
        "  return total_cost"
      ],
      "metadata": {
        "id": "o9gB_QhG4cu2"
      },
      "execution_count": 5,
      "outputs": []
    },
    {
      "cell_type": "code",
      "source": [
        "def run():\n",
        "    data = np.loadtxt(\"data.csv\", delimiter=\",\")\n",
        "    learning_rate = 0.0001\n",
        "    num_iterations = 100\n",
        "    m, c = gd(data, learning_rate, num_iterations)\n",
        "    print(m, c)"
      ],
      "metadata": {
        "id": "zY3nA1Rcxnsw"
      },
      "execution_count": 16,
      "outputs": []
    },
    {
      "cell_type": "code",
      "source": [
        "run()"
      ],
      "metadata": {
        "colab": {
          "base_uri": "https://localhost:8080/"
        },
        "id": "IauJsZO31lU4",
        "outputId": "83be185e-3828-4c8a-de6b-8f7036415360"
      },
      "execution_count": 17,
      "outputs": [
        {
          "output_type": "stream",
          "name": "stdout",
          "text": [
            "0  Cost:  1484.5865574086486\n",
            "1  Cost:  457.8542575737672\n",
            "2  Cost:  199.5099857255389\n",
            "3  Cost:  134.50591058200533\n",
            "4  Cost:  118.1496934223995\n",
            "5  Cost:  114.0341490603815\n",
            "6  Cost:  112.99857731713657\n",
            "7  Cost:  112.73798187568467\n",
            "8  Cost:  112.6723843590911\n",
            "9  Cost:  112.65585181499745\n",
            "10  Cost:  112.65166489759581\n",
            "11  Cost:  112.6505843615011\n",
            "12  Cost:  112.65028544701502\n",
            "13  Cost:  112.65018320293967\n",
            "14  Cost:  112.650130445072\n",
            "15  Cost:  112.65009013922885\n",
            "16  Cost:  112.6500529669463\n",
            "17  Cost:  112.65001658353178\n",
            "18  Cost:  112.64998039901865\n",
            "19  Cost:  112.64994426496071\n",
            "20  Cost:  112.64990814400622\n",
            "21  Cost:  112.64987202675677\n",
            "22  Cost:  112.64983591084761\n",
            "23  Cost:  112.64979979568368\n",
            "24  Cost:  112.64976368111523\n",
            "25  Cost:  112.64972756710469\n",
            "26  Cost:  112.64969145364236\n",
            "27  Cost:  112.64965534072611\n",
            "28  Cost:  112.64961922835512\n",
            "29  Cost:  112.64958311652944\n",
            "30  Cost:  112.64954700524868\n",
            "31  Cost:  112.64951089451318\n",
            "32  Cost:  112.64947478432279\n",
            "33  Cost:  112.64943867467744\n",
            "34  Cost:  112.64940256557728\n",
            "35  Cost:  112.64936645702221\n",
            "36  Cost:  112.64933034901203\n",
            "37  Cost:  112.64929424154704\n",
            "38  Cost:  112.64925813462712\n",
            "39  Cost:  112.6492220282522\n",
            "40  Cost:  112.64918592242235\n",
            "41  Cost:  112.64914981713754\n",
            "42  Cost:  112.64911371239779\n",
            "43  Cost:  112.64907760820296\n",
            "44  Cost:  112.64904150455324\n",
            "45  Cost:  112.64900540144845\n",
            "46  Cost:  112.64896929888867\n",
            "47  Cost:  112.64893319687388\n",
            "48  Cost:  112.6488970954041\n",
            "49  Cost:  112.64886099447922\n",
            "50  Cost:  112.64882489409929\n",
            "51  Cost:  112.64878879426433\n",
            "52  Cost:  112.64875269497436\n",
            "53  Cost:  112.64871659622933\n",
            "54  Cost:  112.64868049802914\n",
            "55  Cost:  112.648644400374\n",
            "56  Cost:  112.64860830326366\n",
            "57  Cost:  112.64857220669828\n",
            "58  Cost:  112.64853611067772\n",
            "59  Cost:  112.64850001520212\n",
            "60  Cost:  112.64846392027131\n",
            "61  Cost:  112.64842782588545\n",
            "62  Cost:  112.64839173204442\n",
            "63  Cost:  112.6483556387483\n",
            "64  Cost:  112.64831954599697\n",
            "65  Cost:  112.64828345379043\n",
            "66  Cost:  112.64824736212877\n",
            "67  Cost:  112.64821127101193\n",
            "68  Cost:  112.64817518043986\n",
            "69  Cost:  112.64813909041264\n",
            "70  Cost:  112.64810300093015\n",
            "71  Cost:  112.64806691199259\n",
            "72  Cost:  112.64803082359971\n",
            "73  Cost:  112.64799473575155\n",
            "74  Cost:  112.64795864844827\n",
            "75  Cost:  112.64792256168963\n",
            "76  Cost:  112.64788647547579\n",
            "77  Cost:  112.64785038980668\n",
            "78  Cost:  112.64781430468226\n",
            "79  Cost:  112.64777822010265\n",
            "80  Cost:  112.6477421360677\n",
            "81  Cost:  112.64770605257743\n",
            "82  Cost:  112.64766996963193\n",
            "83  Cost:  112.64763388723107\n",
            "84  Cost:  112.64759780537483\n",
            "85  Cost:  112.64756172406335\n",
            "86  Cost:  112.6475256432965\n",
            "87  Cost:  112.64748956307432\n",
            "88  Cost:  112.64745348339677\n",
            "89  Cost:  112.64741740426388\n",
            "90  Cost:  112.6473813256756\n",
            "91  Cost:  112.64734524763193\n",
            "92  Cost:  112.64730917013293\n",
            "93  Cost:  112.6472730931785\n",
            "94  Cost:  112.64723701676861\n",
            "95  Cost:  112.64720094090339\n",
            "96  Cost:  112.64716486558265\n",
            "97  Cost:  112.64712879080662\n",
            "98  Cost:  112.64709271657513\n",
            "99  Cost:  112.64705664288809\n",
            "1.4788027175308358 0.035074970592341756\n"
          ]
        }
      ]
    },
    {
      "cell_type": "code",
      "source": [],
      "metadata": {
        "id": "d9syJOo-1sje"
      },
      "execution_count": 7,
      "outputs": []
    },
    {
      "cell_type": "code",
      "source": [],
      "metadata": {
        "id": "uPIN7AnI7dhd"
      },
      "execution_count": 7,
      "outputs": []
    }
  ]
}